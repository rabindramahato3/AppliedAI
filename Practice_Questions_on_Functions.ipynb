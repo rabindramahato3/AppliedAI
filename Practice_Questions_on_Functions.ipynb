{
  "nbformat": 4,
  "nbformat_minor": 0,
  "metadata": {
    "colab": {
      "name": "Practice Questions on Functions.ipynb",
      "provenance": [],
      "authorship_tag": "ABX9TyP70mNBjjfWuQcxAdP3M0fC",
      "include_colab_link": true
    },
    "kernelspec": {
      "name": "python3",
      "display_name": "Python 3"
    },
    "language_info": {
      "name": "python"
    }
  },
  "cells": [
    {
      "cell_type": "markdown",
      "metadata": {
        "id": "view-in-github",
        "colab_type": "text"
      },
      "source": [
        "<a href=\"https://colab.research.google.com/github/rabindramahato3/AppliedAI/blob/main/Practice_Questions_on_Functions.ipynb\" target=\"_parent\"><img src=\"https://colab.research.google.com/assets/colab-badge.svg\" alt=\"Open In Colab\"/></a>"
      ]
    },
    {
      "cell_type": "markdown",
      "metadata": {
        "id": "XgwQeQeMCMNz"
      },
      "source": [
        "**[OPTIONAL ASSIGNMENT] PRACTICE QUESTIONS ON FUNCTIONS**"
      ]
    },
    {
      "cell_type": "markdown",
      "metadata": {
        "id": "pUYtF9l-B6Ts"
      },
      "source": [
        "**Ques 1. Write a function that inputs a number and prints the multiplication table of that number.**"
      ]
    },
    {
      "cell_type": "code",
      "metadata": {
        "colab": {
          "base_uri": "https://localhost:8080/"
        },
        "id": "QZliW4YZBrqg",
        "outputId": "559d30c1-e123-484e-8b9d-cabb9c816bd9"
      },
      "source": [
        "# PROBLEM : \n",
        "# Create a function that inputs a number\n",
        "# Print the multiplication table of that number\n",
        "\n",
        "\n",
        "def printTable():\n",
        "  ''' A function taking no arguents.\n",
        "  Ask the user for an integer number as input.\n",
        "  Prints MULTILICATION TABLE for the given number.'''\n",
        "\n",
        "\n",
        "  # Ask user for an input\n",
        "  number = int(input('Enter an integer number : '))\n",
        "\n",
        "  # prints the multiplication table\n",
        "  print(f\"MULTIPLICATION TABLE FOR {number} : \")\n",
        "  for mul in range(1, 11):\n",
        "    print(f\"{number} \\tx {mul} \\t= {number * mul}\")\n",
        "\n",
        "\n",
        "# driver program\n",
        "print('MULTIPLICATION TABLE PROGRAM ')\n",
        "print('============================ ')\n",
        "printTable()\n",
        "print('---- END of the PROGRAM ----')"
      ],
      "execution_count": 5,
      "outputs": [
        {
          "output_type": "stream",
          "text": [
            "MULTIPLICATION TABLE PROGRAM \n",
            "============================ \n",
            "Enter an integer number : 33\n",
            "MULTIPLICATION TABLE FOR 33 : \n",
            "33 \tx 1 \t= 33\n",
            "33 \tx 2 \t= 66\n",
            "33 \tx 3 \t= 99\n",
            "33 \tx 4 \t= 132\n",
            "33 \tx 5 \t= 165\n",
            "33 \tx 6 \t= 198\n",
            "33 \tx 7 \t= 231\n",
            "33 \tx 8 \t= 264\n",
            "33 \tx 9 \t= 297\n",
            "33 \tx 10 \t= 330\n",
            "---- END of the PROGRAM ----\n"
          ],
          "name": "stdout"
        }
      ]
    },
    {
      "cell_type": "markdown",
      "metadata": {
        "id": "D0A0RvNDJCyw"
      },
      "source": [
        "**Ques 2 : Write a program to print twin primes less than 1000.**"
      ]
    },
    {
      "cell_type": "code",
      "metadata": {
        "colab": {
          "base_uri": "https://localhost:8080/"
        },
        "id": "D0QnUmH2JNtz",
        "outputId": "ce297a03-e490-4027-b2b2-47b8ac2d0254"
      },
      "source": [
        "# PROBLEM :\n",
        "# Create program to print twin primes less than 1000.\n",
        "\n",
        "# HINT : If two consecutive odd numbers are both prime,\n",
        "#         then they are known as TWIN PRIMES. \n",
        "\n",
        "def isPrime(number):\n",
        "  '''Function takes an integer number as input.\n",
        "  Returns boolean TRUE if number is PRIME else FALSE.'''\n",
        "\n",
        "  # negative number and 1 is not prime number\n",
        "  # Hence, return False\n",
        "  if number <= 1:\n",
        "    return False\n",
        "\n",
        "  # check whether a number is Prime\n",
        "  i = 2\n",
        "  while i*i <= number:\n",
        "    # if number is diisible by something return False\n",
        "    if number % i == 0:\n",
        "      return False\n",
        "    i += 1\n",
        "  \n",
        "  return True\n",
        "\n",
        "def printTwinPrimes():\n",
        "  ''' function takes no arguments.\n",
        "  prints TWIN PRIMES less than 1000.'''\n",
        "\n",
        "  # prints the multiplication table\n",
        "  print(f\"TWIN PRIMES LESS THAN 1000 : \")\n",
        "\n",
        "  # we start range from 3 as 3 is smallest odd prime number.\n",
        "  for number in range(3, 1000, 2):\n",
        "    if isPrime(number) and isPrime(number+2):\n",
        "      print(f\"({number},{number+2})\")\n",
        "\n",
        "# driver program\n",
        "print('TWIN PRIMES PROGRAM ')\n",
        "print('=================== ')\n",
        "printTwinPrimes()\n",
        "print('---- END of the PROGRAM ----')"
      ],
      "execution_count": null,
      "outputs": [
        {
          "output_type": "stream",
          "text": [
            "TWIN PRIMES PROGRAM \n",
            "=================== \n",
            "TWIN PRIMES LESS THAN 1000 : \n",
            "(3,5)\n",
            "(5,7)\n",
            "(11,13)\n",
            "(17,19)\n",
            "(29,31)\n",
            "(41,43)\n",
            "(59,61)\n",
            "(71,73)\n",
            "(101,103)\n",
            "(107,109)\n",
            "(137,139)\n",
            "(149,151)\n",
            "(179,181)\n",
            "(191,193)\n",
            "(197,199)\n",
            "(227,229)\n",
            "(239,241)\n",
            "(269,271)\n",
            "(281,283)\n",
            "(311,313)\n",
            "(347,349)\n",
            "(419,421)\n",
            "(431,433)\n",
            "(461,463)\n",
            "(521,523)\n",
            "(569,571)\n",
            "(599,601)\n",
            "(617,619)\n",
            "(641,643)\n",
            "(659,661)\n",
            "(809,811)\n",
            "(821,823)\n",
            "(827,829)\n",
            "(857,859)\n",
            "(881,883)\n",
            "---- END of the PROGRAM ----\n"
          ],
          "name": "stdout"
        }
      ]
    },
    {
      "cell_type": "markdown",
      "metadata": {
        "id": "18fAWJV3OYO4"
      },
      "source": [
        "**Ques 3 : Write a program to find out the prime factors of a number.**"
      ]
    },
    {
      "cell_type": "code",
      "metadata": {
        "colab": {
          "base_uri": "https://localhost:8080/"
        },
        "id": "OgoHXvQXOf7X",
        "outputId": "75c4ca20-2d3f-44f9-db11-16b71eae3ebc"
      },
      "source": [
        "# PROBLEM:\n",
        "# Find all prime Factors of a number.\n",
        "\n",
        "def primeFactors(number):\n",
        "  '''function that takes a positive integer number as input.\n",
        "  returns prime factors of that number.'''\n",
        "\n",
        "  # factors of 1 is 1 only\n",
        "  if number == 1:\n",
        "    return number\n",
        "\n",
        "  # a factor array to store factor\n",
        "  factor = []\n",
        "\n",
        "  # 2 is smallest and only even prime.\n",
        "  # find all 2's in number prime factors.\n",
        "  # till number is divisible by 2, \n",
        "  # add 2 to factor array, divide the number by 2\n",
        "  # so that remaining number is an odd number.\n",
        "  \n",
        "  while number % 2 == 0:\n",
        "    factor.append(2)\n",
        "    number = number / 2\n",
        "\n",
        "\n",
        "  # 3 is smallest odd prime number.\n",
        "  # for all odd numbers from 3\n",
        "  # check number is divisible by it,\n",
        "  # add it to factor array, divide the number by it\n",
        "\n",
        "  i = 3\n",
        "  while number > 1:\n",
        "    if number % i == 0:\n",
        "      factor.append(i)\n",
        "      number = number / i\n",
        "    i += 2\n",
        "\n",
        "  return factor\n",
        "\n",
        "# driver program\n",
        "print('PRIME FACTORIZATION PROGRAM ')\n",
        "print('=========================== ')\n",
        "number = int(input(\"Enter a positive number : \"))\n",
        "factors = primeFactors(number)\n",
        "print(f\"Prime Factors of {number} is {factors}.\")\n",
        "print('---- END of the PROGRAM ----')"
      ],
      "execution_count": 6,
      "outputs": [
        {
          "output_type": "stream",
          "text": [
            "PRIME FACTORIZATION PROGRAM \n",
            "=========================== \n",
            "Enter a positive number : 56\n",
            "Prime Factors of 56 is [2, 2, 2, 7].\n",
            "---- END of the PROGRAM ----\n"
          ],
          "name": "stdout"
        }
      ]
    },
    {
      "cell_type": "markdown",
      "metadata": {
        "id": "15sE51qFUVex"
      },
      "source": [
        "**Ques 4 : Write a program to implement these formulae of permutations and combinations.** \n",
        "\n",
        "**Number of permutations of n objects taken r at a time:**<br>\n",
        ">> p(n, r) = n! / (n-r)!. <br>\n",
        "\n",
        "**Number of combinations of n objects taken r at a time is:** <br>\n",
        ">> c(n, r) = n! / (r!*(n-r)!) = p(n,r) / r!. \n",
        "\n",
        "\n",
        "\n",
        "\n",
        " \n",
        "\n",
        "  \n",
        "\n",
        "\n",
        "\n",
        "\n",
        "\n",
        "\n",
        "\n",
        "\n",
        "\n"
      ]
    },
    {
      "cell_type": "code",
      "metadata": {
        "id": "Euamrm8hVt_U",
        "colab": {
          "base_uri": "https://localhost:8080/"
        },
        "outputId": "b8cca22e-f9e7-4b1a-c42c-064d9b358626"
      },
      "source": [
        "# PROBLEM : \n",
        "# Implement formulaes of permutation and combinations.\n",
        "\n",
        "# memoize function \n",
        "def memoize(func):\n",
        "  '''function to optimize functions taking a function as input.\n",
        "  stores the result of the function\n",
        "  it returns stored result if same inputs occur again.'''\n",
        "\n",
        "  # dictionary to store function results\n",
        "  memory = {}\n",
        "\n",
        "  # optimized function which can access both function and\n",
        "  # the arguments \n",
        "  def modified(*args):\n",
        "    \n",
        "    # creates a key with function and its arguments\n",
        "    key = (func, str(args))\n",
        "\n",
        "    # check dictionary for the key\n",
        "    result = memory.get(key, None)\n",
        "    if result == None:\n",
        "      result = func(*args)\n",
        "      memory[key] = result\n",
        "    return result\n",
        "  return modified\n",
        "\n",
        "@memoize\n",
        "def factorial(number):\n",
        "  '''recursive function taking a number as argument\n",
        "  returning its factorial'''\n",
        "\n",
        "  # base case to stop recursion\n",
        "  if number == 1:\n",
        "    return number\n",
        "  # recursively calling function\n",
        "  return number * factorial(number - 1)\n",
        "\n",
        "@memoize\n",
        "def p(n,r):\n",
        "  '''function to implement permutation formulae\n",
        "  taking n and r as arguments '''\n",
        "  return int(factorial(n) / factorial(n-r))\n",
        "\n",
        "@memoize\n",
        "def c(n,r):\n",
        "  '''function to implement combination formulae\n",
        "  taking n and r as arguments '''\n",
        "  return int(p(n,r)/ factorial(r))\n",
        "\n",
        "# driver program\n",
        "print('PERMUTATIONS AND COMBINATIONS PROGRAM ')\n",
        "print('===================================== ')\n",
        "n = int(input(\"Enter total number of objects : \"))\n",
        "r = int(input(f\"Enter total number of objects chosen from {n} objects : \"))\n",
        "pnr = p(n,r)\n",
        "cnr = c(n,r)\n",
        "print(f\"Number of permutations of {n} objects taken {r} at a time is {pnr}.\")\n",
        "print(f\"Number of combinations of {n} objects taken {r} at a time is {cnr}.\")\n",
        "print('---- END of the PROGRAM ----')"
      ],
      "execution_count": 7,
      "outputs": [
        {
          "output_type": "stream",
          "text": [
            "PERMUTATIONS AND COMBINATIONS PROGRAM \n",
            "===================================== \n",
            "Enter total number of objects : 9\n",
            "Enter total number of objects chosen from 9 objects : 6\n",
            "Number of permutations of 9 objects taken 6 at a time is 60480.\n",
            "Number of combinations of 9 objects taken 6 at a time is 84.\n",
            "---- END of the PROGRAM ----\n"
          ],
          "name": "stdout"
        }
      ]
    },
    {
      "cell_type": "markdown",
      "metadata": {
        "id": "bygKK4IBfuQA"
      },
      "source": [
        "**Ques 5 : Write a function that converts a decimal number to binary number.**"
      ]
    },
    {
      "cell_type": "code",
      "metadata": {
        "id": "UxL5_ikZf0P8",
        "colab": {
          "base_uri": "https://localhost:8080/"
        },
        "outputId": "c8cbaf6b-0e60-43f9-a170-4b16751f9b7e"
      },
      "source": [
        "# PROBLEM :\n",
        "# Create a function that convert decimal number to binary number\n",
        "\n",
        "def convertBinary(number):\n",
        "  '''function takes a positive decimal number\n",
        "  returns its binary equialent.'''\n",
        "\n",
        "  # a string to store binary equivalent result\n",
        "  binary = \"\"\n",
        "  comment = \"\"\n",
        "  # seperating integral and fractional part of decimal number\n",
        "  integralPart = int(number)\n",
        "  fractionalPart = number - integralPart\n",
        "\n",
        "  # calculating integral part binary equivalent\n",
        "  while integralPart >= 1:\n",
        "    remainder = integralPart % 2\n",
        "    integralPart = integralPart // 2\n",
        "    binary = binary + str(remainder)\n",
        "  binary = binary[::-1]\n",
        "\n",
        "  # calculating fractional part binary equivalent\n",
        "  if fractionalPart != 0:\n",
        "    binary = binary + '.'\n",
        "\n",
        "    # number of places after decimal point \n",
        "    places = 5\n",
        "\n",
        "    while fractionalPart != 0:\n",
        "      places -= 1\n",
        "      result = fractionalPart * 2\n",
        "      integral = int(result)\n",
        "      binary = binary + str(integral)\n",
        "      fractionalPart = result - integral\n",
        "      if places == 0:\n",
        "        break\n",
        "    \n",
        "    if fractionalPart != 0:\n",
        "      comment = \"(approx.) upto 5 places\"\n",
        "  return binary + comment\n",
        "\n",
        "# driver program\n",
        "print('DECIMAL TO BINARY CONVERSION PROGRAM ')\n",
        "print('==================================== ')\n",
        "decimal = input(\"Enter a positive number : \")\n",
        "result = convertBinary(float(decimal))\n",
        "print(f\"Binary equivalent of {decimal} is {result}.\")\n",
        "print('---- END of the PROGRAM ----')"
      ],
      "execution_count": 8,
      "outputs": [
        {
          "output_type": "stream",
          "text": [
            "DECIMAL TO BINARY CONVERSION PROGRAM \n",
            "==================================== \n",
            "Enter a positive number : 9.5\n",
            "Binary equivalent of 9.5 is 1001.1.\n",
            "---- END of the PROGRAM ----\n"
          ],
          "name": "stdout"
        }
      ]
    },
    {
      "cell_type": "markdown",
      "metadata": {
        "id": "reWYqtKgmRyx"
      },
      "source": [
        "**Ques 6 :**<br>\n",
        "**1.   Write a function cubesum() that accepts an integer and returns the sum of the cubes of individual digits of that number.**<br>\n",
        "**2.   Use this function to make functions PrintArmstrong() and isArmstrong() to print Armstrong numbers and to find whether is an Armstrong number.**\n",
        "\n",
        "\n",
        "\n",
        " \n",
        "\n"
      ]
    },
    {
      "cell_type": "code",
      "metadata": {
        "colab": {
          "base_uri": "https://localhost:8080/"
        },
        "id": "IuNFC0o9nxZJ",
        "outputId": "dc258aa2-121e-4787-83de-83f06934fd44"
      },
      "source": [
        "# PROBLEM:\n",
        "# 1. create function cubesum() that accepts a integer and \n",
        "#     returns sum of cubes of individual digits of that number.\n",
        "# 2. use cubesum() function to make PrintArmstrong() \n",
        "#     to print Armstrong Numbers\n",
        "#     and isArmstrong() to find whether number is Armstrong.\n",
        "\n",
        "\n",
        "def cubesum(number):\n",
        "  '''function takes a number as argument\n",
        "  returns the sum of cube of its digits.'''\n",
        "\n",
        "  result = 0              # variable to store result\n",
        "  while number > 0:\n",
        "    digit = number % 10   #find digit\n",
        "    result += digit ** 3  #calculate cube of digit and add to result\n",
        "    number = number // 10 #update number\n",
        "\n",
        "  return result\n",
        "\n",
        "\n",
        "def isArmstrong(number):\n",
        "  '''function takes a number as argument\n",
        "  returns TRUE if number is a armstrong number\n",
        "  else return FALSE.'''\n",
        "\n",
        "  if number == cubesum(number):\n",
        "    return True\n",
        "  return False\n",
        "\n",
        "def PrintArmstrong():\n",
        "  '''Function to print Armstrong number upto 3 digits'''\n",
        "\n",
        "  for num in range(1000):\n",
        "    if isArmstrong(num):\n",
        "      print(num)\n",
        "  \n",
        "\n",
        "# driver program\n",
        "print('CUBESUM AND ARMSTRONG PROGRAM ')\n",
        "print('================= ')\n",
        "print('Armstrong numbers upto 3 digits : ')\n",
        "PrintArmstrong()\n",
        "print('---- END of the PROGRAM ----')"
      ],
      "execution_count": 23,
      "outputs": [
        {
          "output_type": "stream",
          "text": [
            "ARMSTRONG PROGRAM \n",
            "================= \n",
            "Armstrong numbers upto 3 digits : \n",
            "0\n",
            "1\n",
            "153\n",
            "370\n",
            "371\n",
            "407\n",
            "---- END of the PROGRAM ----\n"
          ],
          "name": "stdout"
        }
      ]
    },
    {
      "cell_type": "markdown",
      "metadata": {
        "id": "SsZIJfYF7VZT"
      },
      "source": [
        "**Ques 7 : Write a function prodDigits() that inputs a number and returns the product of digits of that number.**"
      ]
    },
    {
      "cell_type": "code",
      "metadata": {
        "colab": {
          "base_uri": "https://localhost:8080/"
        },
        "id": "ddiCXgxI7-4e",
        "outputId": "bfb8bceb-0dc0-419a-a663-a9fc2f57f5e9"
      },
      "source": [
        "# PROBLEM:\n",
        "# create function prodDigits() that inputs a number\n",
        "# return the product of digits of that number\n",
        "\n",
        "def prodDigits(num):\n",
        "  '''function with an positive integer number argument\n",
        "  returns product of the digits of that number. '''\n",
        "\n",
        "  product = 1\n",
        "  while num > 0:\n",
        "    digit = num % 10     #find digit\n",
        "    product *= digit     #calulate product of digit\n",
        "    num //= 10           #update number\n",
        "\n",
        "  return product\n",
        "\n",
        "# driver program\n",
        "print('PRODUCT OF DIGITS PROGRAM ')\n",
        "print('========================= ')\n",
        "# ask user for input\n",
        "number = int(input('Enter a positive integer number : '))\n",
        "result = prodDigits(number)\n",
        "print(f'Product of Digits of {number} is {result}.')\n",
        "print('---- END of the PROGRAM ----')"
      ],
      "execution_count": 27,
      "outputs": [
        {
          "output_type": "stream",
          "text": [
            "PRODUCT OF DIGITS PROGRAM \n",
            "========================= \n",
            "Enter a positive integer number : 56\n",
            "Product of Digits of 56 is 30.\n",
            "---- END of the PROGRAM ----\n"
          ],
          "name": "stdout"
        }
      ]
    },
    {
      "cell_type": "markdown",
      "metadata": {
        "id": "8hYohPmyGr6h"
      },
      "source": [
        "**Ques 8 : Using the function prodDigits() of previous exercise write functions MDR() and MPersistence() that input a number and return its multiplicative digital root and multiplicative persistence respectively.**"
      ]
    },
    {
      "cell_type": "code",
      "metadata": {
        "colab": {
          "base_uri": "https://localhost:8080/"
        },
        "id": "no19nFX4GyDo",
        "outputId": "58700e8a-f834-4b1d-867a-bcc645e9a8fb"
      },
      "source": [
        "# PROBLEM:\n",
        "# Using function prodDigits create functions MDR() and MPersistence()\n",
        "# that input a number and returns its multiplicative digital root \n",
        "# and multiplicative persistence respectively\n",
        "\n",
        "# HINT:\n",
        "# If all digits of a number n are multiplied by each other \n",
        "# repeating with the product, the one digit number obtained at last is called \n",
        "# the multiplicative digital root of n\n",
        "\n",
        "# The number of times digits need to be multiplied to reach one digit is called \n",
        "# the multiplicative persistance of n.\n",
        "\n",
        "# Example: 86 -> 48 -> 32 -> 6 (MDR 6, MPersistence 3)\n",
        "\n",
        "def prodDigits(num):\n",
        "  '''function with an positive integer number argument\n",
        "  returns product of the digits of that number. '''\n",
        "\n",
        "  product = 1\n",
        "  while num > 0:\n",
        "    digit = num % 10     #find digit\n",
        "    product *= digit     #calulate product of digit\n",
        "    num //= 10           #update number\n",
        "\n",
        "  return product\n",
        "\n",
        "def MDR(number):\n",
        "  '''function takes an integer number as argument \n",
        "  retuns the Multiplicative Digital Root of it.'''\n",
        "\n",
        "  while number > 10:\n",
        "    number = prodDigits(number)\n",
        "\n",
        "  return number\n",
        "\n",
        "def MPersistence(number):\n",
        "  '''function takes an integer number as argument \n",
        "  retuns the Multiplicative Persistence of it.'''\n",
        "  \n",
        "  persistence = 0\n",
        "  while number > 10:\n",
        "    persistence += 1\n",
        "    number = prodDigits(number)\n",
        "\n",
        "  return persistence\n",
        "\n",
        "def MDRSequence(number):\n",
        "  '''function takes an integer number as argument \n",
        "  retuns the sequence for Multiplicative Digital Root of it.'''\n",
        "  \n",
        "  sequence = \"\"\n",
        "  while number > 10:\n",
        "    sequence = sequence + str(number) + ' -> '\n",
        "    number = prodDigits(number)\n",
        "\n",
        "  sequence += str(number)\n",
        "  return sequence\n",
        "\n",
        "\n",
        "# driver program\n",
        "print('MULTIPLICATIVE DIGITAL ROOT AND MULTIPLICATIVE PERSISTENCE PROGRAM ')\n",
        "print('================================================================== ')\n",
        "number = int(input('Enter a positive integer : '))\n",
        "MDR, MPersistence, sequence = MDR(number), MPersistence(number), MDRSequence(number)\n",
        "print(f'Sequence for Multiplicative Digital Root of {number} is {sequence}.')\n",
        "print(f'Multiplicative Digital Root of {number} is {MDR}.')\n",
        "print(f'Multiplicative Persistence of {number} is {MPersistence}.')\n",
        "print('---- END of the PROGRAM ----')"
      ],
      "execution_count": 31,
      "outputs": [
        {
          "output_type": "stream",
          "text": [
            "MULTIPLICATIVE DIGITAL ROOT AND MULTIPLICATIVE PERSISTENCE PROGRAM \n",
            "================================================================== \n",
            "Enter a positive integer : 341\n",
            "Sequence for Multiplicative Digital Root of 341 is 341 -> 12 -> 2.\n",
            "Multiplicative Digital Root of 341 is 2.\n",
            "Multiplicative Persistence of 341 is 2.\n",
            "---- END of the PROGRAM ----\n"
          ],
          "name": "stdout"
        }
      ]
    },
    {
      "cell_type": "markdown",
      "metadata": {
        "id": "KSAoLSs_pFIt"
      },
      "source": [
        "**Ques 9 : Write a function sumPdivisors() that finds the sum of proper divisors of a number**"
      ]
    },
    {
      "cell_type": "code",
      "metadata": {
        "colab": {
          "base_uri": "https://localhost:8080/"
        },
        "id": "qGjSvytRpPFQ",
        "outputId": "f0222211-6880-4808-e0ab-a7c3bf0e63f4"
      },
      "source": [
        "# PROBLEM:\n",
        "# create function sumPdivisors() that finds sum of proper divisors of a number\n",
        "\n",
        "# HINT:\n",
        "# Proper divisors of a number are those numbers by which the number is divisible, \n",
        "# except the number itself. \n",
        "# For example proper divisors of 36 are 1, 2, 3, 4, 6, 9, 18\n",
        "\n",
        "def sumPdivisors(number):\n",
        "  '''function takes an integer number as argument \n",
        "  retuns the Proper divisors and the sum of Proper Divisors of it.'''\n",
        "\n",
        "  if number == 0: # for number is zero\n",
        "    return None\n",
        "\n",
        "  divisor = []            #store proper divisors of number\n",
        "  i = 1\n",
        "  while i < number+1//2:  #check for all numbers\n",
        "    if number % i == 0:\n",
        "      divisor.append(i)\n",
        "    i += 1\n",
        "\n",
        "  sumPdivisors = sum(divisor) #using sum() to add all numbers in list\n",
        "  return divisor, sumPdivisors\n",
        "\n",
        "# driver program\n",
        "print('SUM PROPER DIVISORS PROGRAM ')\n",
        "print('=========================== ')\n",
        "number = int(input('Enter a positive integer : '))\n",
        "divisors, sumPdivisors = sumPdivisors(number)\n",
        "print(f'Proper Divisors of {number} is {divisors} \\n \\\n",
        "  and the sum of Proper Divisors is {sumPdivisors}.')\n",
        "print('---- END of the PROGRAM ----')"
      ],
      "execution_count": 55,
      "outputs": [
        {
          "output_type": "stream",
          "text": [
            "SUM PROPER DIVISORS PROGRAM \n",
            "=========================== \n",
            "Enter a positive integer : 153\n",
            "Proper Divisors of 153 is [1, 3, 9, 17, 51] \n",
            "   and the sum of Proper Divisors is 81.\n",
            "---- END of the PROGRAM ----\n"
          ],
          "name": "stdout"
        }
      ]
    },
    {
      "cell_type": "markdown",
      "metadata": {
        "id": "gR8dCyZJvFGQ"
      },
      "source": [
        "**Ques 10 : Write a program to print all the perfect numbers in a given range**"
      ]
    },
    {
      "cell_type": "code",
      "metadata": {
        "colab": {
          "base_uri": "https://localhost:8080/"
        },
        "id": "ISc2OgddvQYY",
        "outputId": "d2adc745-56cb-4ab5-c820-67a3a53aa74d"
      },
      "source": [
        "# PROBLEM :\n",
        "# Write a program to print all the perfect numbers in a given range\n",
        "\n",
        "# HINT :\n",
        "# A number is called perfect if the sum of proper divisors of that number \n",
        "# is equal to the number. \n",
        "# For example 28 is perfect number, since 1+2+4+7+14=28.\n",
        "\n",
        "def sumPdivisors(number):\n",
        "  '''function takes an integer number as argument \n",
        "  retuns the sum of Proper Divisors of it.'''\n",
        "\n",
        "  if number == 0: # for number is zero\n",
        "    return None\n",
        "\n",
        "  sumPdivisors = 1        #store sum of proper divisors of number\n",
        "  i = 2\n",
        "  while i < number+1//2:  \n",
        "    if number % i == 0:\n",
        "      sumPdivisors += i\n",
        "    i += 1\n",
        "\n",
        "  return sumPdivisors\n",
        "\n",
        "def isPerfect(number):\n",
        "  '''function takes an integer number as argument \n",
        "  retuns True if number is perfec number else False.'''\n",
        "  \n",
        "  if number == sumPdivisors(number):\n",
        "    return True\n",
        "  return False\n",
        "\n",
        "\n",
        "# driver program\n",
        "print('PERFECT NUMBER PROGRAM ')\n",
        "print('====================== ')\n",
        "lower = 100 #int(input('Enter lower bound of range : '))  \n",
        "upper = 10000 #int(input('Enter upper bound of range : '))  \n",
        "\n",
        "# variable to store all perfect numbers\n",
        "perfect = []\n",
        "\n",
        "for number in range(lower, upper+1):\n",
        "  if isPerfect(number):\n",
        "    perfect.append(number)\n",
        "\n",
        "print(f'Perfect numbers in range {lower} to {upper} \\n \\\n",
        "   is {perfect}.')\n",
        "print('---- END of the PROGRAM ----') "
      ],
      "execution_count": 66,
      "outputs": [
        {
          "output_type": "stream",
          "text": [
            "PERFECT NUMBER PROGRAM \n",
            "====================== \n",
            "Perfect numbers in range 100 to 10000 \n",
            "    is [496, 8128].\n",
            "---- END of the PROGRAM ----\n"
          ],
          "name": "stdout"
        }
      ]
    },
    {
      "cell_type": "markdown",
      "metadata": {
        "id": "T_caVloAyls_"
      },
      "source": [
        "**Ques 11 : Write a function to print pairs of amicable numbers in a range.**"
      ]
    },
    {
      "cell_type": "code",
      "metadata": {
        "colab": {
          "base_uri": "https://localhost:8080/"
        },
        "id": "X9AEOeHOyuYn",
        "outputId": "856c4c69-62f5-4b9f-86b4-6f5de446a271"
      },
      "source": [
        "# PROBLEM:\n",
        "# Write a function to print pairs of amicable numbers in a range\n",
        "\n",
        "# HINT:\n",
        "# Two different numbers are called amicable numbers \n",
        "# if the sum of the proper divisors of each is equal to the other number. \n",
        "# For example 220 and 284 are amicable numbers.\n",
        "# Sum of proper divisors of 220 = 1+2+4+5+10+11+20+22+44+55+110 = 284\n",
        "# Sum of proper divisors of 284 = 1+2+4+71+142 = 220\n",
        "\n",
        "# memoize function \n",
        "def memoize(func):\n",
        "  '''function to optimize functions taking a function as input.\n",
        "  stores the result of the function\n",
        "  it returns stored result if same inputs occur again.'''\n",
        "\n",
        "  # dictionary to store function results\n",
        "  memory = {}\n",
        "\n",
        "  # optimized function which can access both function and\n",
        "  # the arguments \n",
        "  def modified(*args):\n",
        "    \n",
        "    # creates a key with function and its arguments\n",
        "    key = (func, str(args))\n",
        "\n",
        "    # check dictionary for the key\n",
        "    result = memory.get(key, None)\n",
        "    if result == None:\n",
        "      result = func(*args)\n",
        "      memory[key] = result\n",
        "    return result\n",
        "  return modified\n",
        "\n",
        "@memoize\n",
        "def sumPdivisors(number):\n",
        "  '''function takes an integer number as argument \n",
        "  retuns the sum of Proper Divisors of it.'''\n",
        "\n",
        "  if number == 0: # for number is zero\n",
        "    return None\n",
        "\n",
        "  sumPdivisors = 1        #store sum of proper divisors of number\n",
        "  i = 2\n",
        "  while i < number+1//2:  \n",
        "    if number % i == 0:\n",
        "      sumPdivisors += i\n",
        "    i += 1\n",
        "\n",
        "  return sumPdivisors\n",
        "\n",
        "@memoize\n",
        "def isAmicable(num1, num2):\n",
        "  '''function takes an integer number as argument \n",
        "  retuns True if number is perfec number else False.'''\n",
        "\n",
        "  # Two different numbers are needed in amicable pairs\n",
        "  if num1 == num2:\n",
        "    return False\n",
        "\n",
        "  if sumPdivisors(num1) == num2 and sumPdivisors(num2) == num1:\n",
        "    return True\n",
        "  return False\n",
        "\n",
        "\n",
        "# driver program\n",
        "print('AMICABLE NUMBER PAIRS PROGRAM ')\n",
        "print('============================= ')\n",
        "lower = 100 #int(input('Enter lower bound of range : '))  \n",
        "upper = 10000 #int(input('Enter upper bound of range : '))  \n",
        "\n",
        "# variable to store all amicable number pairs\n",
        "amicable = []\n",
        "\n",
        "for number in range(lower, upper+1):\n",
        "  if isAmicable(number, sumPdivisors(number)) \\\n",
        "  and (sumPdivisors(number), number) not in amicable: #check if pair already exist in list\n",
        "\n",
        "      amicable.append((number, sumPdivisors(number)))\n",
        "\n",
        "print(f'Amicable number Pairs in range {lower} to {upper} \\n \\\n",
        "   is {amicable}.')\n",
        "print('---- END of the PROGRAM ----') "
      ],
      "execution_count": 73,
      "outputs": [
        {
          "output_type": "stream",
          "text": [
            "AMICABLE NUMBER PAIRS PROGRAM \n",
            "============================= \n",
            "Amicable number Pairs in range 100 to 10000 \n",
            "    is [(220, 284), (1184, 1210), (2620, 2924), (5020, 5564), (6232, 6368)].\n",
            "---- END of the PROGRAM ----\n"
          ],
          "name": "stdout"
        }
      ]
    },
    {
      "cell_type": "markdown",
      "metadata": {
        "id": "rIH2igZG6Ieg"
      },
      "source": [
        "**Ques 12 : Write a program which can filter odd numbers in a list by using filter function**"
      ]
    },
    {
      "cell_type": "code",
      "metadata": {
        "colab": {
          "base_uri": "https://localhost:8080/"
        },
        "id": "z1iHYDGj6Sh6",
        "outputId": "88517a0b-0033-4da6-df61-e44376e2d863"
      },
      "source": [
        "# PROBLEM :\n",
        "# Write a program which can filter odd numbers in a list by using filter function\n",
        "\n",
        "# single line function for selecting odd number\n",
        "oddNumber = lambda x: x%2 != 0\n",
        "\n",
        "# driver program\n",
        "print('FILTER LIST PROGRAM ')\n",
        "print('=================== ')\n",
        "numList = [16, -3, 17, 11, 3, -3, 2, 7, -9, 15, -7, -18, 19, -6, -4]\n",
        "oddNumList = list(filter(oddNumber, numList))\n",
        "print(f'Odd Numbers List filtered from {numList} \\n \\\n",
        "is {oddNumList}.')\n",
        "print('---- END of the PROGRAM ----') "
      ],
      "execution_count": 81,
      "outputs": [
        {
          "output_type": "stream",
          "text": [
            "FILTER LIST PROGRAM \n",
            "=================== \n",
            "Odd Numbers List filtered from [16, -3, 17, 11, 3, -3, 2, 7, -9, 15, -7, -18, 19, -6, -4] \n",
            " is [-3, 17, 11, 3, -3, 7, -9, 15, -7, 19].\n",
            "---- END of the PROGRAM ----\n"
          ],
          "name": "stdout"
        }
      ]
    },
    {
      "cell_type": "markdown",
      "metadata": {
        "id": "CCIb20TL9unb"
      },
      "source": [
        "**Ques 13 : Write a program which can map() to make a list whose elements are cube of elements in a given list,**"
      ]
    },
    {
      "cell_type": "code",
      "metadata": {
        "colab": {
          "base_uri": "https://localhost:8080/"
        },
        "id": "0Aur2zeY9529",
        "outputId": "10b69f6e-24e3-4374-b36d-db00a61dc49f"
      },
      "source": [
        "# PROBLEM:\n",
        "# Write a program which can map() to make a list \n",
        "# whose elements are cube of elements in a given list\n",
        "\n",
        "# single line function for cubing a number\n",
        "cubeNumber = lambda x: x**3 \n",
        "\n",
        "\n",
        "# driver program\n",
        "print('CUBE LIST PROGRAM ')\n",
        "print('================= ')\n",
        "numList = [16, -3, 17, 11, 3, -3, 2, 7, -9, 15, -7, -18, 19, -6, -4]\n",
        "cubeNumList = list(map(cubeNumber, numList))\n",
        "print(f'Cube List of Numbers from {numList} \\n \\\n",
        "is {cubeNumList}.')\n",
        "print('---- END of the PROGRAM ----') "
      ],
      "execution_count": 82,
      "outputs": [
        {
          "output_type": "stream",
          "text": [
            "CUBE LIST PROGRAM \n",
            "================= \n",
            "Cube List of Numbers from [16, -3, 17, 11, 3, -3, 2, 7, -9, 15, -7, -18, 19, -6, -4] \n",
            " is [4096, -27, 4913, 1331, 27, -27, 8, 343, -729, 3375, -343, -5832, 6859, -216, -64].\n",
            "---- END of the PROGRAM ----\n"
          ],
          "name": "stdout"
        }
      ]
    },
    {
      "cell_type": "markdown",
      "metadata": {
        "id": "m8-FSnPh-wIH"
      },
      "source": [
        "**Ques 14 : Write a program which can map() and filter() to make a list whose elements are cube of even number in a given list.**"
      ]
    },
    {
      "cell_type": "code",
      "metadata": {
        "colab": {
          "base_uri": "https://localhost:8080/"
        },
        "id": "C6GO0Cug-4Fu",
        "outputId": "6d9d470c-eccc-43b6-b05b-208f4c2b3353"
      },
      "source": [
        "# PROBLEM:\n",
        "# Write a program which can map() and filter() to make a list \n",
        "# whose elements are cube of even number in a given list\n",
        "\n",
        "# single line function for selecting even number\n",
        "evenNumber = lambda x: x%2 == 0\n",
        "\n",
        "# single line function for cubing a number\n",
        "cubeNumber = lambda x: x**3 \n",
        "\n",
        "\n",
        "# driver program\n",
        "print('CUBE LIST PROGRAM ')\n",
        "print('================= ')\n",
        "numList = [16, -3, 17, 11, 3, -3, 2, 7, -9, 15, -7, -18, 19, -6, -4]\n",
        "EvenCubeNumList = list(map(cubeNumber, list(filter (evenNumber, numList))))\n",
        "print(f'Cube List of Even Numbers from {numList} \\n \\\n",
        "is {EvenCubeNumList}.')\n",
        "print('---- END of the PROGRAM ----') "
      ],
      "execution_count": 85,
      "outputs": [
        {
          "output_type": "stream",
          "text": [
            "CUBE LIST PROGRAM \n",
            "================= \n",
            "Cube List of Even Numbers from [16, -3, 17, 11, 3, -3, 2, 7, -9, 15, -7, -18, 19, -6, -4] \n",
            " is [4096, 8, -5832, -216, -64].\n",
            "---- END of the PROGRAM ----\n"
          ],
          "name": "stdout"
        }
      ]
    }
  ]
}