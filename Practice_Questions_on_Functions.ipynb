{
  "nbformat": 4,
  "nbformat_minor": 0,
  "metadata": {
    "colab": {
      "name": "Practice Questions on Functions.ipynb",
      "provenance": [],
      "authorship_tag": "ABX9TyMt6bx/OQs6wXMM+3Czm546",
      "include_colab_link": true
    },
    "kernelspec": {
      "name": "python3",
      "display_name": "Python 3"
    },
    "language_info": {
      "name": "python"
    }
  },
  "cells": [
    {
      "cell_type": "markdown",
      "metadata": {
        "id": "view-in-github",
        "colab_type": "text"
      },
      "source": [
        "<a href=\"https://colab.research.google.com/github/rabindramahato3/AppliedAI/blob/main/Practice_Questions_on_Functions.ipynb\" target=\"_parent\"><img src=\"https://colab.research.google.com/assets/colab-badge.svg\" alt=\"Open In Colab\"/></a>"
      ]
    },
    {
      "cell_type": "markdown",
      "metadata": {
        "id": "XgwQeQeMCMNz"
      },
      "source": [
        "**[OPTIONAL ASSIGNMENT] PRACTICE QUESTIONS ON FUNCTIONS**"
      ]
    },
    {
      "cell_type": "markdown",
      "metadata": {
        "id": "pUYtF9l-B6Ts"
      },
      "source": [
        "**Ques 1. Write a function that inputs a number and prints the multiplication table of that number.**"
      ]
    },
    {
      "cell_type": "code",
      "metadata": {
        "colab": {
          "base_uri": "https://localhost:8080/"
        },
        "id": "QZliW4YZBrqg",
        "outputId": "4c09b43c-c73d-4329-cf4b-0c366ac08af0"
      },
      "source": [
        "# PROBLEM : \n",
        "# Create a function that inputs a number\n",
        "# Print the multiplication table of that number\n",
        "\n",
        "\n",
        "def printTable():\n",
        "  ''' A function taking no arguents.\n",
        "  Ask the user for an integer number as input.\n",
        "  Prints MULTILICATION TABLE for the given number.'''\n",
        "\n",
        "\n",
        "  # Ask user for an input\n",
        "  number = int(input('Enter an integer number : '))\n",
        "\n",
        "  # prints the multiplication table\n",
        "  print(f\"MULTIPLICATION TABLE FOR {number} : \")\n",
        "  for mul in range(1, 11):\n",
        "    print(f\"{number} \\tx {mul} \\t= {number * mul}\")\n",
        "\n",
        "\n",
        "# driver program\n",
        "print('MULTIPLICATION TABLE PROGRAM ')\n",
        "print('============================ ')\n",
        "printTable()\n",
        "print('---- END of the PROGRAM ----')"
      ],
      "execution_count": 84,
      "outputs": [
        {
          "output_type": "stream",
          "text": [
            "MULTIPLICATION TABLE PROGRAM \n",
            "============================ \n",
            "Enter an integer number : 45\n",
            "MULTIPLICATION TABLE FOR 45 : \n",
            "45 \tx 1 \t= 45\n",
            "45 \tx 2 \t= 90\n",
            "45 \tx 3 \t= 135\n",
            "45 \tx 4 \t= 180\n",
            "45 \tx 5 \t= 225\n",
            "45 \tx 6 \t= 270\n",
            "45 \tx 7 \t= 315\n",
            "45 \tx 8 \t= 360\n",
            "45 \tx 9 \t= 405\n",
            "45 \tx 10 \t= 450\n",
            "---- END of the PROGRAM ----\n"
          ],
          "name": "stdout"
        }
      ]
    },
    {
      "cell_type": "markdown",
      "metadata": {
        "id": "D0A0RvNDJCyw"
      },
      "source": [
        "**Ques 2 : Write a program to print twin primes less than 1000.**"
      ]
    },
    {
      "cell_type": "code",
      "metadata": {
        "colab": {
          "base_uri": "https://localhost:8080/"
        },
        "id": "D0QnUmH2JNtz",
        "outputId": "ce297a03-e490-4027-b2b2-47b8ac2d0254"
      },
      "source": [
        "# PROBLEM :\n",
        "# Create program to print twin primes less than 1000.\n",
        "\n",
        "# HINT : If two consecutive odd numbers are both prime,\n",
        "#         then they are known as TWIN PRIMES. \n",
        "\n",
        "def isPrime(number):\n",
        "  '''Function takes an integer number as input.\n",
        "  Returns boolean TRUE if number is PRIME else FALSE.'''\n",
        "\n",
        "  # negative number and 1 is not prime number\n",
        "  # Hence, return False\n",
        "  if number <= 1:\n",
        "    return False\n",
        "\n",
        "  # check whether a number is Prime\n",
        "  i = 2\n",
        "  while i*i <= number:\n",
        "    # if number is diisible by something return False\n",
        "    if number % i == 0:\n",
        "      return False\n",
        "    i += 1\n",
        "  \n",
        "  return True\n",
        "\n",
        "def printTwinPrimes():\n",
        "  ''' function takes no arguments.\n",
        "  prints TWIN PRIMES less than 1000.'''\n",
        "\n",
        "  # prints the multiplication table\n",
        "  print(f\"TWIN PRIMES LESS THAN 1000 : \")\n",
        "\n",
        "  # we start range from 3 as 3 is smallest odd prime number.\n",
        "  for number in range(3, 1000, 2):\n",
        "    if isPrime(number) and isPrime(number+2):\n",
        "      print(f\"({number},{number+2})\")\n",
        "\n",
        "# driver program\n",
        "print('TWIN PRIMES PROGRAM ')\n",
        "print('=================== ')\n",
        "printTwinPrimes()\n",
        "print('---- END of the PROGRAM ----')"
      ],
      "execution_count": 85,
      "outputs": [
        {
          "output_type": "stream",
          "text": [
            "TWIN PRIMES PROGRAM \n",
            "=================== \n",
            "TWIN PRIMES LESS THAN 1000 : \n",
            "(3,5)\n",
            "(5,7)\n",
            "(11,13)\n",
            "(17,19)\n",
            "(29,31)\n",
            "(41,43)\n",
            "(59,61)\n",
            "(71,73)\n",
            "(101,103)\n",
            "(107,109)\n",
            "(137,139)\n",
            "(149,151)\n",
            "(179,181)\n",
            "(191,193)\n",
            "(197,199)\n",
            "(227,229)\n",
            "(239,241)\n",
            "(269,271)\n",
            "(281,283)\n",
            "(311,313)\n",
            "(347,349)\n",
            "(419,421)\n",
            "(431,433)\n",
            "(461,463)\n",
            "(521,523)\n",
            "(569,571)\n",
            "(599,601)\n",
            "(617,619)\n",
            "(641,643)\n",
            "(659,661)\n",
            "(809,811)\n",
            "(821,823)\n",
            "(827,829)\n",
            "(857,859)\n",
            "(881,883)\n",
            "---- END of the PROGRAM ----\n"
          ],
          "name": "stdout"
        }
      ]
    },
    {
      "cell_type": "markdown",
      "metadata": {
        "id": "18fAWJV3OYO4"
      },
      "source": [
        "**Ques 3 : Write a program to find out the prime factors of a number.**"
      ]
    },
    {
      "cell_type": "code",
      "metadata": {
        "colab": {
          "base_uri": "https://localhost:8080/"
        },
        "id": "OgoHXvQXOf7X",
        "outputId": "c6f8ebdd-5e2b-4d77-db4c-e2411361c017"
      },
      "source": [
        "# PROBLEM:\n",
        "# Find all prime Factors of a number.\n",
        "\n",
        "def primeFactors(number):\n",
        "  '''function that takes a positive integer number as input.\n",
        "  returns prime factors of that number.'''\n",
        "\n",
        "  # factors of 1 is 1 only\n",
        "  if number == 1:\n",
        "    return number\n",
        "\n",
        "  # a factor array to store factor\n",
        "  factor = []\n",
        "\n",
        "  # 2 is smallest and only even prime.\n",
        "  # find all 2's in number prime factors.\n",
        "  # till number is divisible by 2, \n",
        "  # add 2 to factor array, divide the number by 2\n",
        "  # so that remaining number is an odd number.\n",
        "  \n",
        "  while number % 2 == 0:\n",
        "    factor.append(2)\n",
        "    number = number / 2\n",
        "\n",
        "\n",
        "  # 3 is smallest odd prime number.\n",
        "  # for all odd numbers from 3\n",
        "  # check number is divisible by it,\n",
        "  # add it to factor array, divide the number by it\n",
        "\n",
        "  i = 3\n",
        "  while number > 1:\n",
        "    if number % i == 0:\n",
        "      factor.append(i)\n",
        "      number = number / i\n",
        "    i += 2\n",
        "\n",
        "  return factor\n",
        "\n",
        "# driver program\n",
        "print('PRIME FACTORIZATION PROGRAM ')\n",
        "print('=========================== ')\n",
        "number = int(input(\"Enter a positive number : \"))\n",
        "factors = primeFactors(number)\n",
        "print(f\"Prime Factors of {number} is {factors}.\")\n",
        "print('---- END of the PROGRAM ----')"
      ],
      "execution_count": null,
      "outputs": [
        {
          "output_type": "stream",
          "text": [
            "PRIME FACTORIZATION PROGRAM \n",
            "=========================== \n",
            "Enter a positive number : 45\n"
          ],
          "name": "stdout"
        }
      ]
    },
    {
      "cell_type": "markdown",
      "metadata": {
        "id": "15sE51qFUVex"
      },
      "source": [
        "**Ques 4 : Write a program to implement these formulae of permutations and combinations.** \n",
        "\n",
        "**Number of permutations of n objects taken r at a time:**<br>\n",
        ">> p(n, r) = n! / (n-r)!. <br>\n",
        "\n",
        "**Number of combinations of n objects taken r at a time is:** <br>\n",
        ">> c(n, r) = n! / (r!*(n-r)!) = p(n,r) / r!. \n",
        "\n",
        "\n",
        "\n",
        "\n",
        " \n",
        "\n",
        "  \n",
        "\n",
        "\n",
        "\n",
        "\n",
        "\n",
        "\n",
        "\n",
        "\n",
        "\n"
      ]
    },
    {
      "cell_type": "code",
      "metadata": {
        "id": "Euamrm8hVt_U"
      },
      "source": [
        "# PROBLEM : \n",
        "# Implement formulaes of permutation and combinations.\n",
        "\n",
        "# memoize function \n",
        "def memoize(func):\n",
        "  '''function to optimize functions taking a function as input.\n",
        "  stores the result of the function\n",
        "  it returns stored result if same inputs occur again.'''\n",
        "\n",
        "  # dictionary to store function results\n",
        "  memory = {}\n",
        "\n",
        "  # optimized function which can access both function and\n",
        "  # the arguments \n",
        "  def modified(*args):\n",
        "    \n",
        "    # creates a key with function and its arguments\n",
        "    key = (func, str(args))\n",
        "\n",
        "    # check dictionary for the key\n",
        "    result = memory.get(key, None)\n",
        "    if result == None:\n",
        "      result = func(*args)\n",
        "      memory[key] = result\n",
        "    return result\n",
        "  return modified\n",
        "\n",
        "@memoize\n",
        "def factorial(number):\n",
        "  '''recursive function taking a number as argument\n",
        "  returning its factorial'''\n",
        "\n",
        "  # base case to stop recursion\n",
        "  if number == 1:\n",
        "    return number\n",
        "  # recursively calling function\n",
        "  return number * factorial(number - 1)\n",
        "\n",
        "@memoize\n",
        "def p(n,r):\n",
        "  '''function to implement permutation formulae\n",
        "  taking n and r as arguments '''\n",
        "  return int(factorial(n) / factorial(n-r))\n",
        "\n",
        "@memoize\n",
        "def c(n,r):\n",
        "  '''function to implement combination formulae\n",
        "  taking n and r as arguments '''\n",
        "  return int(p(n,r)/ factorial(r))\n",
        "\n",
        "# driver program\n",
        "print('PERMUTATIONS AND COMBINATIONS PROGRAM ')\n",
        "print('===================================== ')\n",
        "n = int(input(\"Enter total number of objects : \"))\n",
        "r = int(input(f\"Enter total number of objects chosen from {n} objects : \"))\n",
        "pnr = p(n,r)\n",
        "cnr = c(n,r)\n",
        "print(f\"Number of permutations of {n} objects taken {r} at a time is {pnr}.\")\n",
        "print(f\"Number of combinations of {n} objects taken {r} at a time is {cnr}.\")\n",
        "print('---- END of the PROGRAM ----')"
      ],
      "execution_count": null,
      "outputs": []
    },
    {
      "cell_type": "markdown",
      "metadata": {
        "id": "bygKK4IBfuQA"
      },
      "source": [
        "**Ques 5 : Write a function that converts a decimal number to binary number.**"
      ]
    },
    {
      "cell_type": "code",
      "metadata": {
        "id": "UxL5_ikZf0P8"
      },
      "source": [
        "# PROBLEM :\n",
        "# Create a function that convert decimal number to binary number\n",
        "\n",
        "def convertBinary(number):\n",
        "  '''function takes a positive decimal number\n",
        "  returns its binary equialent.'''\n",
        "\n",
        "  # a string to store binary equivalent result\n",
        "  binary = \"\"\n",
        "  comment = \"\"\n",
        "  # seperating integral and fractional part of decimal number\n",
        "  integralPart = int(number)\n",
        "  fractionalPart = number - integralPart\n",
        "\n",
        "  # calculating integral part binary equivalent\n",
        "  while integralPart >= 1:\n",
        "    remainder = integralPart % 2\n",
        "    integralPart = integralPart // 2\n",
        "    binary = binary + str(remainder)\n",
        "  binary = binary[::-1]\n",
        "\n",
        "  # calculating fractional part binary equivalent\n",
        "  if fractionalPart != 0:\n",
        "    binary = binary + '.'\n",
        "\n",
        "    # number of places after decimal point \n",
        "    places = 5\n",
        "\n",
        "    while fractionalPart != 0:\n",
        "      places -= 1\n",
        "      result = fractionalPart * 2\n",
        "      integral = int(result)\n",
        "      binary = binary + str(integral)\n",
        "      fractionalPart = result - integral\n",
        "      if places == 0:\n",
        "        break\n",
        "    \n",
        "    if fractionalPart != 0:\n",
        "      comment = \"(approx.) upto 5 places\"\n",
        "  return binary + comment\n",
        "\n",
        "# driver program\n",
        "print('DECIMAL TO BINARY CONVERSION PROGRAM ')\n",
        "print('==================================== ')\n",
        "decimal = input(\"Enter a positive number : \")\n",
        "result = convertBinary(float(decimal))\n",
        "print(f\"Binary equivalent of {decimal} is {result}.\")\n",
        "print('---- END of the PROGRAM ----')"
      ],
      "execution_count": null,
      "outputs": []
    },
    {
      "cell_type": "markdown",
      "metadata": {
        "id": "reWYqtKgmRyx"
      },
      "source": [
        "**Ques 5 :**<br>\n",
        "**1.   Write a function cubesum() that accepts an integer and returns the sum of the cubes of individual digits of that number.**<br>\n",
        "**2.   Use this function to make functions PrintArmstrong() and isArmstrong() to print Armstrong numbers and to find whether is an Armstrong number.**\n",
        "\n",
        "\n",
        "\n",
        " \n",
        "\n"
      ]
    },
    {
      "cell_type": "code",
      "metadata": {
        "colab": {
          "base_uri": "https://localhost:8080/"
        },
        "id": "IuNFC0o9nxZJ",
        "outputId": "bf694477-113c-407f-a603-95a969946f10"
      },
      "source": [
        "# PROBLEM:\n",
        "# 1. create function cubesum() that accepts a integer and \n",
        "#     returns sum of cubes of individual digits of that number.\n",
        "# 2. use cubesum() function to make PrintArmstrong() \n",
        "#     to print Armstrong Numbers\n",
        "#     and isArmstrong() to find whether number is Armstrong.\n",
        "\n",
        "\n",
        "def cubesum(number):\n",
        "  _sum = 0\n",
        "  while number > 0:\n",
        "    digit = number % 10\n",
        "    cube = digit * digit * digit\n",
        "    _sum += cube\n",
        "    number = number // 10\n",
        "\n",
        "  return _sum\n",
        "\n",
        "\n",
        "def isArmstrong(number):\n",
        "  if number == cubesum(number):\n",
        "    return True\n",
        "  return False\n",
        "\n",
        "def PrintArmstrong():\n",
        "  for num in range(1, 6000):\n",
        "    if isArmstrong(num):\n",
        "      print(num)\n",
        "  \n",
        "\n",
        "PrintArmstrong()"
      ],
      "execution_count": 2,
      "outputs": [
        {
          "output_type": "stream",
          "text": [
            "1\n",
            "153\n",
            "370\n",
            "371\n",
            "407\n"
          ],
          "name": "stdout"
        }
      ]
    }
  ]
}