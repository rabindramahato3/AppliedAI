{
  "nbformat": 4,
  "nbformat_minor": 0,
  "metadata": {
    "colab": {
      "name": "5_Compute_Performance_metrics.ipynb",
      "provenance": [],
      "collapsed_sections": [
        "nf6YPh8MRn6x",
        "FV47GZ31Vu9t",
        "r-r9RTqLY_j6",
        "V5KZem1BQvn2",
        "HaZ4-YrGtkcB",
        "ql0sVkKPtkcC",
        "O9ru77jptkcC",
        "VfRFr0OmtkcD",
        "GiPGonTzQvoB"
      ],
      "include_colab_link": true
    },
    "kernelspec": {
      "display_name": "Python 3",
      "language": "python",
      "name": "python3"
    },
    "language_info": {
      "codemirror_mode": {
        "name": "ipython",
        "version": 3
      },
      "file_extension": ".py",
      "mimetype": "text/x-python",
      "name": "python",
      "nbconvert_exporter": "python",
      "pygments_lexer": "ipython3",
      "version": "3.6.3"
    }
  },
  "cells": [
    {
      "cell_type": "markdown",
      "metadata": {
        "id": "view-in-github",
        "colab_type": "text"
      },
      "source": [
        "<a href=\"https://colab.research.google.com/github/rabindramahato3/AppliedAI/blob/main/5_Compute_Performance_metrics.ipynb\" target=\"_parent\"><img src=\"https://colab.research.google.com/assets/colab-badge.svg\" alt=\"Open In Colab\"/></a>"
      ]
    },
    {
      "cell_type": "markdown",
      "metadata": {
        "id": "53M1ssJWkyWb"
      },
      "source": [
        "**[ASSIGNMENT 5] : COMPUTING PERFORMANCE METRICS WITHOUT SKLEARN**"
      ]
    },
    {
      "cell_type": "markdown",
      "metadata": {
        "id": "s0Ej_bXyQvnV"
      },
      "source": [
        "# Compute performance metrics for the given Y and Y_score without sklearn"
      ]
    },
    {
      "cell_type": "code",
      "metadata": {
        "id": "4CHb6NE7Qvnc"
      },
      "source": [
        "import numpy as np\n",
        "import pandas as pd\n",
        "# other than these two you should not import any other packages"
      ],
      "execution_count": 1,
      "outputs": []
    },
    {
      "cell_type": "markdown",
      "metadata": {
        "id": "KbsWXuDaQvnq"
      },
      "source": [
        "\n",
        "## A. Compute performance metrics for the given data '5_a.csv'\n",
        " <pre>  <b>Note 1:</b> in this data you can see number of positive points >> number of negatives points\n",
        "   <b>Note 2:</b> use pandas or numpy to read the data from <b>5_a.csv</b>\n",
        "   <b>Note 3:</b> you need to derive the class labels from given score</pre> $y^{pred}= \\text{[0 if y_score < 0.5 else 1]}$\n",
        "\n",
        "<pre>\n",
        "<ol>\n",
        "<li> Compute Confusion Matrix </li>\n",
        "<li> Compute F1 Score </li>\n",
        "<li> Compute AUC Score, you need to compute different thresholds and for each threshold compute tpr,fpr and then use<br> numpy.trapz(tpr_array, fpr_array) <a href='https://stackoverflow.com/q/53603376/4084039'>https://stackoverflow.com/q/53603376/4084039</a>, <a href='https://stackoverflow.com/a/39678975/4084039'>https://stackoverflow.com/a/39678975/4084039</a> <br>Note: it should be numpy.trapz(tpr_array, fpr_array) not numpy.trapz(fpr_array, tpr_array)\n",
        "Note- Make sure that you arrange your probability scores in descending order while calculating AUC</li>\n",
        "<li> Compute Accuracy Score </li>\n",
        "</ol>\n",
        "</pre>"
      ]
    },
    {
      "cell_type": "code",
      "metadata": {
        "id": "WaFLW7oBQvnt",
        "colab": {
          "base_uri": "https://localhost:8080/",
          "height": 202
        },
        "outputId": "dbc53d57-9405-4737-ec40-1644bb7b5324"
      },
      "source": [
        "# Read the data from 5_a.csv\n",
        "df_a=pd.read_csv('5_a.csv')\n",
        "df_a.head()"
      ],
      "execution_count": 26,
      "outputs": [
        {
          "output_type": "execute_result",
          "data": {
            "text/html": [
              "<div>\n",
              "<style scoped>\n",
              "    .dataframe tbody tr th:only-of-type {\n",
              "        vertical-align: middle;\n",
              "    }\n",
              "\n",
              "    .dataframe tbody tr th {\n",
              "        vertical-align: top;\n",
              "    }\n",
              "\n",
              "    .dataframe thead th {\n",
              "        text-align: right;\n",
              "    }\n",
              "</style>\n",
              "<table border=\"1\" class=\"dataframe\">\n",
              "  <thead>\n",
              "    <tr style=\"text-align: right;\">\n",
              "      <th></th>\n",
              "      <th>y</th>\n",
              "      <th>proba</th>\n",
              "    </tr>\n",
              "  </thead>\n",
              "  <tbody>\n",
              "    <tr>\n",
              "      <th>0</th>\n",
              "      <td>1.0</td>\n",
              "      <td>0.637387</td>\n",
              "    </tr>\n",
              "    <tr>\n",
              "      <th>1</th>\n",
              "      <td>1.0</td>\n",
              "      <td>0.635165</td>\n",
              "    </tr>\n",
              "    <tr>\n",
              "      <th>2</th>\n",
              "      <td>1.0</td>\n",
              "      <td>0.766586</td>\n",
              "    </tr>\n",
              "    <tr>\n",
              "      <th>3</th>\n",
              "      <td>1.0</td>\n",
              "      <td>0.724564</td>\n",
              "    </tr>\n",
              "    <tr>\n",
              "      <th>4</th>\n",
              "      <td>1.0</td>\n",
              "      <td>0.889199</td>\n",
              "    </tr>\n",
              "  </tbody>\n",
              "</table>\n",
              "</div>"
            ],
            "text/plain": [
              "     y     proba\n",
              "0  1.0  0.637387\n",
              "1  1.0  0.635165\n",
              "2  1.0  0.766586\n",
              "3  1.0  0.724564\n",
              "4  1.0  0.889199"
            ]
          },
          "metadata": {},
          "execution_count": 26
        }
      ]
    },
    {
      "cell_type": "code",
      "metadata": {
        "id": "yg8uUJvGAfCM"
      },
      "source": [
        "# write your code here for task A"
      ],
      "execution_count": 3,
      "outputs": []
    },
    {
      "cell_type": "code",
      "metadata": {
        "colab": {
          "base_uri": "https://localhost:8080/",
          "height": 202
        },
        "id": "VdXcS1VZZ8M7",
        "outputId": "40a277ca-19f2-40fd-c4f8-99834d1396f0"
      },
      "source": [
        "# Deriving class labels from the given score\n",
        "\n",
        "df_a['y_pred'] = [0 if prob < 0.5 else 1 for prob in list(df_a.proba) ]\n",
        "df_a.head()"
      ],
      "execution_count": 27,
      "outputs": [
        {
          "output_type": "execute_result",
          "data": {
            "text/html": [
              "<div>\n",
              "<style scoped>\n",
              "    .dataframe tbody tr th:only-of-type {\n",
              "        vertical-align: middle;\n",
              "    }\n",
              "\n",
              "    .dataframe tbody tr th {\n",
              "        vertical-align: top;\n",
              "    }\n",
              "\n",
              "    .dataframe thead th {\n",
              "        text-align: right;\n",
              "    }\n",
              "</style>\n",
              "<table border=\"1\" class=\"dataframe\">\n",
              "  <thead>\n",
              "    <tr style=\"text-align: right;\">\n",
              "      <th></th>\n",
              "      <th>y</th>\n",
              "      <th>proba</th>\n",
              "      <th>y_pred</th>\n",
              "    </tr>\n",
              "  </thead>\n",
              "  <tbody>\n",
              "    <tr>\n",
              "      <th>0</th>\n",
              "      <td>1.0</td>\n",
              "      <td>0.637387</td>\n",
              "      <td>1</td>\n",
              "    </tr>\n",
              "    <tr>\n",
              "      <th>1</th>\n",
              "      <td>1.0</td>\n",
              "      <td>0.635165</td>\n",
              "      <td>1</td>\n",
              "    </tr>\n",
              "    <tr>\n",
              "      <th>2</th>\n",
              "      <td>1.0</td>\n",
              "      <td>0.766586</td>\n",
              "      <td>1</td>\n",
              "    </tr>\n",
              "    <tr>\n",
              "      <th>3</th>\n",
              "      <td>1.0</td>\n",
              "      <td>0.724564</td>\n",
              "      <td>1</td>\n",
              "    </tr>\n",
              "    <tr>\n",
              "      <th>4</th>\n",
              "      <td>1.0</td>\n",
              "      <td>0.889199</td>\n",
              "      <td>1</td>\n",
              "    </tr>\n",
              "  </tbody>\n",
              "</table>\n",
              "</div>"
            ],
            "text/plain": [
              "     y     proba  y_pred\n",
              "0  1.0  0.637387       1\n",
              "1  1.0  0.635165       1\n",
              "2  1.0  0.766586       1\n",
              "3  1.0  0.724564       1\n",
              "4  1.0  0.889199       1"
            ]
          },
          "metadata": {},
          "execution_count": 27
        }
      ]
    },
    {
      "cell_type": "markdown",
      "metadata": {
        "id": "nf6YPh8MRn6x"
      },
      "source": [
        "### 1. Computing Confusion Matrix\n"
      ]
    },
    {
      "cell_type": "code",
      "metadata": {
        "id": "LYnyvcrVmtrg"
      },
      "source": [
        "def Find_TpFpFnTn(y, predicted):\n",
        "  '''\n",
        "    given y class scores and predicted class scores \n",
        "    returns TP, FP, FN, TN values\n",
        "  '''\n",
        "  tp, tn, fp, fn = 0, 0, 0, 0\n",
        "  for y, y_pred in zip(y, predicted):\n",
        "    if y == 0 and y_pred == 0:\n",
        "      tn = tn + 1\n",
        "    elif y == 0 and y_pred == 1:\n",
        "      fp = fp + 1\n",
        "    elif y == 1 and y_pred == 0:\n",
        "      fn = fn + 1\n",
        "    elif y == 1 and y_pred == 1:\n",
        "      tp = tp + 1\n",
        "\n",
        "  return tp, fp, fn, tn"
      ],
      "execution_count": 5,
      "outputs": []
    },
    {
      "cell_type": "code",
      "metadata": {
        "id": "RQjGmnlTZ2ZF"
      },
      "source": [
        "def Create_ConfusionMatrix(y, predicted):\n",
        "  '''\n",
        "    given actual class scores and predicted class scores \n",
        "    returns a confusion matrix\n",
        "  '''\n",
        "  tp, fp, fn, tn = Find_TpFpFnTn(y, predicted)\n",
        "  return np.matrix([[tp, fp],[fn, tn]])"
      ],
      "execution_count": 6,
      "outputs": []
    },
    {
      "cell_type": "code",
      "metadata": {
        "colab": {
          "base_uri": "https://localhost:8080/"
        },
        "id": "Q17sdl3qSn4D",
        "outputId": "63e4a137-4b97-43ef-fdfa-dc977ceefc92"
      },
      "source": [
        "# computing a confusion matrix\n",
        "confusionMatrix = Create_ConfusionMatrix(df_a.y, df_a.y_pred)\n",
        "print(f'Confusion Matrix : \\n{confusionMatrix}')"
      ],
      "execution_count": 7,
      "outputs": [
        {
          "output_type": "stream",
          "name": "stdout",
          "text": [
            "Confusion Matrix : \n",
            "[[10000   100]\n",
            " [    0     0]]\n"
          ]
        }
      ]
    },
    {
      "cell_type": "markdown",
      "metadata": {
        "id": "FV47GZ31Vu9t"
      },
      "source": [
        "### 2. Compute F1 Score "
      ]
    },
    {
      "cell_type": "code",
      "metadata": {
        "id": "GkSiRvhwWRjb"
      },
      "source": [
        "def Compute_F1Score(y, predicted):\n",
        "  '''\n",
        "  given y-class scores and y-predicted class scores \n",
        "  returns the F1 Score\n",
        "  '''\n",
        "  tp, fp, fn, tn = Find_TpFpFnTn(y, predicted)\n",
        "\n",
        "  precision_score = tp/(tp+fp)\n",
        "  recall_score = tp/(tp+fn)\n",
        "\n",
        "  return (2 * precision_score * recall_score) / (precision_score + recall_score)"
      ],
      "execution_count": 8,
      "outputs": []
    },
    {
      "cell_type": "code",
      "metadata": {
        "colab": {
          "base_uri": "https://localhost:8080/"
        },
        "id": "pxDmsFYtYf_q",
        "outputId": "26045c18-0088-456e-a23f-4a9ab6e8e0fe"
      },
      "source": [
        "# Computing F1 Score\n",
        "f1_score = Compute_F1Score(df_a.y, df_a.y_pred)\n",
        "print(f'F1 Score : {f1_score:.6f}')"
      ],
      "execution_count": 9,
      "outputs": [
        {
          "output_type": "stream",
          "name": "stdout",
          "text": [
            "F1 Score : 0.995025\n"
          ]
        }
      ]
    },
    {
      "cell_type": "markdown",
      "metadata": {
        "id": "r-r9RTqLY_j6"
      },
      "source": [
        "### 3. Compute AUC Score"
      ]
    },
    {
      "cell_type": "code",
      "metadata": {
        "id": "i9kHlZuZaUf2"
      },
      "source": [
        "  \n",
        "def ComputeAUCscore(y, probabilities):\n",
        "    '''\n",
        "    given y-class scores and y-predicted class scores \n",
        "    returns the AUC Score\n",
        "    '''\n",
        "    thresholds = list(set(probabilities))\n",
        "    thresholds = sorted(thresholds, reverse=True)\n",
        "\n",
        "    tpr_list, fpr_list = [], [] \n",
        "\n",
        "    for threshold in thresholds :\n",
        "      tpr_thresh, fpr_thresh = Calculate_TprFprThresh(y, probabilities, threshold)\n",
        "      tpr_list.append(tpr_thresh)\n",
        "      fpr_list.append(fpr_thresh) \n",
        "      \n",
        "    return np.trapz(tpr_list, fpr_list)"
      ],
      "execution_count": 23,
      "outputs": []
    },
    {
      "cell_type": "code",
      "metadata": {
        "id": "TZiTzNaOeEja"
      },
      "source": [
        "\n",
        "def Calculate_TprFprThresh(y, probabilities, threshold):\n",
        "  '''\n",
        "    given y-class scores, y-predicted class scores and threshold\n",
        "    Calculates TPR and FPR for given threshold\n",
        "    '''\n",
        "  y_pred_thresh = [0 if prob < threshold else 1 for prob in probabilities ]\n",
        "  tp, fp, fn, tn = Find_TpFpFnTn(y, y_pred_thresh)\n",
        "\n",
        "  tpr = tp / (tp + fn)\n",
        "  fpr = tn / (fp + tn)\n",
        "\n",
        "  return tpr, fpr\n"
      ],
      "execution_count": 20,
      "outputs": []
    },
    {
      "cell_type": "code",
      "metadata": {
        "colab": {
          "base_uri": "https://localhost:8080/"
        },
        "id": "lxtfvmbM-26t",
        "outputId": "14cfbf08-9d04-40b5-8a45-11849a32df26"
      },
      "source": [
        "# computing AUC score\n",
        "auc_score = ComputeAUCscore(df_a.y, df_a.proba)\n",
        "print(f'AUC Score : {auc_score:.6f} ')"
      ],
      "execution_count": 24,
      "outputs": [
        {
          "output_type": "stream",
          "name": "stdout",
          "text": [
            "AUC Score : -0.488299 \n"
          ]
        }
      ]
    },
    {
      "cell_type": "markdown",
      "metadata": {
        "id": "_EhPdi4fZatV"
      },
      "source": [
        "### 4. Compute Accuracy Score"
      ]
    },
    {
      "cell_type": "code",
      "metadata": {
        "id": "J8p_dBwOZj5O"
      },
      "source": [
        "def Compute_AccuracyScore(y, predicted):\n",
        "  '''\n",
        "  given y-class scores and y-predicted class scores \n",
        "  returns the Accuracy Score\n",
        "  '''\n",
        "\n",
        "  tp, fp, fn, tn = Find_TpFpFnTn(y, predicted)\n",
        "\n",
        "  return (tp + tn) / (tp + fp + fn + tn)"
      ],
      "execution_count": 15,
      "outputs": []
    },
    {
      "cell_type": "code",
      "metadata": {
        "colab": {
          "base_uri": "https://localhost:8080/"
        },
        "id": "i2gBIXVDaBmm",
        "outputId": "61681a82-132e-414d-847b-5d206c83e27d"
      },
      "source": [
        "# Computing Accuracy Score\n",
        "acc_score = Compute_AccuracyScore(df_a.y, df_a.y_pred)\n",
        "print(f'Accuracy Score : {acc_score:.6f}')"
      ],
      "execution_count": 16,
      "outputs": [
        {
          "output_type": "stream",
          "name": "stdout",
          "text": [
            "Accuracy Score : 0.990099\n"
          ]
        }
      ]
    },
    {
      "cell_type": "markdown",
      "metadata": {
        "id": "V5KZem1BQvn2"
      },
      "source": [
        "\n",
        "\n",
        "## B. Compute performance metrics for the given data '5_b.csv'\n",
        "<pre>\n",
        "   <b>Note 1:</b> in this data you can see number of positive points << number of negatives points\n",
        "   <b>Note 2:</b> use pandas or numpy to read the data from <b>5_b.csv</b>\n",
        "   <b>Note 3:</b> you need to derive the class labels from given score</pre> $y^{pred}= \\text{[0 if y_score < 0.5 else 1]}$\n",
        "\n",
        "<pre>\n",
        "<ol>\n",
        "<li> Compute Confusion Matrix </li>\n",
        "<li> Compute F1 Score </li>\n",
        "<li> Compute AUC Score, you need to compute different thresholds and for each threshold compute tpr,fpr and then use               numpy.trapz(tpr_array, fpr_array) <a href='https://stackoverflow.com/q/53603376/4084039'>https://stackoverflow.com/q/53603376/4084039</a>, <a href='https://stackoverflow.com/a/39678975/4084039'>https://stackoverflow.com/a/39678975/4084039</a>\n",
        "Note- Make sure that you arrange your probability scores in descending order while calculating AUC</li>\n",
        "<li> Compute Accuracy Score </li>\n",
        "</ol>\n",
        "</pre>"
      ]
    },
    {
      "cell_type": "code",
      "metadata": {
        "colab": {
          "base_uri": "https://localhost:8080/",
          "height": 202
        },
        "id": "SZoi_A1qAqbh",
        "outputId": "07d81e81-c393-4079-b916-7f77be70117b"
      },
      "source": [
        "# Read the data from 5_b.csv\n",
        "df_b=pd.read_csv('5_b.csv')\n",
        "df_b.head()"
      ],
      "execution_count": 25,
      "outputs": [
        {
          "output_type": "execute_result",
          "data": {
            "text/html": [
              "<div>\n",
              "<style scoped>\n",
              "    .dataframe tbody tr th:only-of-type {\n",
              "        vertical-align: middle;\n",
              "    }\n",
              "\n",
              "    .dataframe tbody tr th {\n",
              "        vertical-align: top;\n",
              "    }\n",
              "\n",
              "    .dataframe thead th {\n",
              "        text-align: right;\n",
              "    }\n",
              "</style>\n",
              "<table border=\"1\" class=\"dataframe\">\n",
              "  <thead>\n",
              "    <tr style=\"text-align: right;\">\n",
              "      <th></th>\n",
              "      <th>y</th>\n",
              "      <th>proba</th>\n",
              "    </tr>\n",
              "  </thead>\n",
              "  <tbody>\n",
              "    <tr>\n",
              "      <th>0</th>\n",
              "      <td>0.0</td>\n",
              "      <td>0.281035</td>\n",
              "    </tr>\n",
              "    <tr>\n",
              "      <th>1</th>\n",
              "      <td>0.0</td>\n",
              "      <td>0.465152</td>\n",
              "    </tr>\n",
              "    <tr>\n",
              "      <th>2</th>\n",
              "      <td>0.0</td>\n",
              "      <td>0.352793</td>\n",
              "    </tr>\n",
              "    <tr>\n",
              "      <th>3</th>\n",
              "      <td>0.0</td>\n",
              "      <td>0.157818</td>\n",
              "    </tr>\n",
              "    <tr>\n",
              "      <th>4</th>\n",
              "      <td>0.0</td>\n",
              "      <td>0.276648</td>\n",
              "    </tr>\n",
              "  </tbody>\n",
              "</table>\n",
              "</div>"
            ],
            "text/plain": [
              "     y     proba\n",
              "0  0.0  0.281035\n",
              "1  0.0  0.465152\n",
              "2  0.0  0.352793\n",
              "3  0.0  0.157818\n",
              "4  0.0  0.276648"
            ]
          },
          "metadata": {},
          "execution_count": 25
        }
      ]
    },
    {
      "cell_type": "code",
      "metadata": {
        "id": "kdQtOqJTt3Bh"
      },
      "source": [
        "# write your code here for task B"
      ],
      "execution_count": null,
      "outputs": []
    },
    {
      "cell_type": "code",
      "metadata": {
        "colab": {
          "base_uri": "https://localhost:8080/",
          "height": 202
        },
        "id": "7llBiMnpt3Bh",
        "outputId": "e320c570-bfa2-4d9b-bb4c-e6b31523367d"
      },
      "source": [
        "# Deriving class labels from the given score\n",
        "\n",
        "df_b['y_pred'] = [0 if prob < 0.5 else 1 for prob in list(df_b.proba) ]\n",
        "df_b.head()"
      ],
      "execution_count": 28,
      "outputs": [
        {
          "output_type": "execute_result",
          "data": {
            "text/html": [
              "<div>\n",
              "<style scoped>\n",
              "    .dataframe tbody tr th:only-of-type {\n",
              "        vertical-align: middle;\n",
              "    }\n",
              "\n",
              "    .dataframe tbody tr th {\n",
              "        vertical-align: top;\n",
              "    }\n",
              "\n",
              "    .dataframe thead th {\n",
              "        text-align: right;\n",
              "    }\n",
              "</style>\n",
              "<table border=\"1\" class=\"dataframe\">\n",
              "  <thead>\n",
              "    <tr style=\"text-align: right;\">\n",
              "      <th></th>\n",
              "      <th>y</th>\n",
              "      <th>proba</th>\n",
              "      <th>y_pred</th>\n",
              "    </tr>\n",
              "  </thead>\n",
              "  <tbody>\n",
              "    <tr>\n",
              "      <th>0</th>\n",
              "      <td>0.0</td>\n",
              "      <td>0.281035</td>\n",
              "      <td>0</td>\n",
              "    </tr>\n",
              "    <tr>\n",
              "      <th>1</th>\n",
              "      <td>0.0</td>\n",
              "      <td>0.465152</td>\n",
              "      <td>0</td>\n",
              "    </tr>\n",
              "    <tr>\n",
              "      <th>2</th>\n",
              "      <td>0.0</td>\n",
              "      <td>0.352793</td>\n",
              "      <td>0</td>\n",
              "    </tr>\n",
              "    <tr>\n",
              "      <th>3</th>\n",
              "      <td>0.0</td>\n",
              "      <td>0.157818</td>\n",
              "      <td>0</td>\n",
              "    </tr>\n",
              "    <tr>\n",
              "      <th>4</th>\n",
              "      <td>0.0</td>\n",
              "      <td>0.276648</td>\n",
              "      <td>0</td>\n",
              "    </tr>\n",
              "  </tbody>\n",
              "</table>\n",
              "</div>"
            ],
            "text/plain": [
              "     y     proba  y_pred\n",
              "0  0.0  0.281035       0\n",
              "1  0.0  0.465152       0\n",
              "2  0.0  0.352793       0\n",
              "3  0.0  0.157818       0\n",
              "4  0.0  0.276648       0"
            ]
          },
          "metadata": {},
          "execution_count": 28
        }
      ]
    },
    {
      "cell_type": "markdown",
      "metadata": {
        "id": "HaZ4-YrGtkcB"
      },
      "source": [
        "### 1. Computing Confusion Matrix\n"
      ]
    },
    {
      "cell_type": "code",
      "metadata": {
        "colab": {
          "base_uri": "https://localhost:8080/"
        },
        "id": "EsRIiIOatkcC",
        "outputId": "808790ea-dd3d-4523-d525-da100e92fae1"
      },
      "source": [
        "# computing a confusion matrix\n",
        "confusionMatrix = Create_ConfusionMatrix(df_b.y, df_b.y_pred)\n",
        "print(f'Confusion Matrix : \\n{confusionMatrix}')"
      ],
      "execution_count": 29,
      "outputs": [
        {
          "output_type": "stream",
          "name": "stdout",
          "text": [
            "Confusion Matrix : \n",
            "[[  55  239]\n",
            " [  45 9761]]\n"
          ]
        }
      ]
    },
    {
      "cell_type": "markdown",
      "metadata": {
        "id": "ql0sVkKPtkcC"
      },
      "source": [
        "### 2. Compute F1 Score "
      ]
    },
    {
      "cell_type": "code",
      "metadata": {
        "colab": {
          "base_uri": "https://localhost:8080/"
        },
        "id": "_q-TpysVtkcC",
        "outputId": "ff02b7b4-23e0-4775-ba53-439b5f62a016"
      },
      "source": [
        "# Computing F1 Score\n",
        "f1_score = Compute_F1Score(df_b.y, df_b.y_pred)\n",
        "print(f'F1 Score : {f1_score:.6f}')"
      ],
      "execution_count": 30,
      "outputs": [
        {
          "output_type": "stream",
          "name": "stdout",
          "text": [
            "F1 Score : 0.279188\n"
          ]
        }
      ]
    },
    {
      "cell_type": "markdown",
      "metadata": {
        "id": "O9ru77jptkcC"
      },
      "source": [
        "### 3. Compute AUC Score"
      ]
    },
    {
      "cell_type": "code",
      "metadata": {
        "colab": {
          "base_uri": "https://localhost:8080/"
        },
        "id": "0VqiG2pxtkcD",
        "outputId": "2b3d9b89-f01c-4b20-e353-84d16cd8062e"
      },
      "source": [
        "# computing AUC score\n",
        "auc_score = ComputeAUCscore(df_b.y, df_b.proba)\n",
        "print(f'AUC Score : {auc_score:.6f} ')"
      ],
      "execution_count": 32,
      "outputs": [
        {
          "output_type": "stream",
          "name": "stdout",
          "text": [
            "AUC Score : -0.937757 \n"
          ]
        }
      ]
    },
    {
      "cell_type": "markdown",
      "metadata": {
        "id": "VfRFr0OmtkcD"
      },
      "source": [
        "### 4. Compute Accuracy Score"
      ]
    },
    {
      "cell_type": "code",
      "metadata": {
        "colab": {
          "base_uri": "https://localhost:8080/"
        },
        "id": "3UgarR9AtkcD",
        "outputId": "19832da8-576b-45b7-db94-4a513269d7e6"
      },
      "source": [
        "# Computing Accuracy Score\n",
        "acc_score = Compute_AccuracyScore(df_b.y, df_b.y_pred)\n",
        "print(f'Accuracy Score : {acc_score:.6f}')"
      ],
      "execution_count": 31,
      "outputs": [
        {
          "output_type": "stream",
          "name": "stdout",
          "text": [
            "Accuracy Score : 0.971881\n"
          ]
        }
      ]
    },
    {
      "cell_type": "markdown",
      "metadata": {
        "id": "GiPGonTzQvoB"
      },
      "source": [
        "## C. Compute the best threshold (similarly to ROC curve computation) of probability which gives lowest values of metric <b>A</b> for the given data \n",
        "<br>\n",
        "\n",
        "you will be predicting label of a data points like this: $y^{pred}= \\text{[0 if y_score < threshold  else 1]}$\n",
        "\n",
        "$ A = 500 \\times \\text{number of false negative} + 100 \\times \\text{number of false positive}$\n",
        "\n",
        "<pre>\n",
        "   <b>Note 1:</b> in this data you can see number of negative points > number of positive points\n",
        "   <b>Note 2:</b> use pandas or numpy to read the data from <b>5_c.csv</b>\n",
        "</pre>"
      ]
    },
    {
      "cell_type": "code",
      "metadata": {
        "id": "x5HIJzq1QvoE",
        "colab": {
          "base_uri": "https://localhost:8080/",
          "height": 202
        },
        "outputId": "57371089-e9c9-401a-fa89-2358a5b25305"
      },
      "source": [
        "# read data from 5_c.csv\n",
        "df_c=pd.read_csv('5_c.csv')\n",
        "df_c.head()"
      ],
      "execution_count": 33,
      "outputs": [
        {
          "output_type": "execute_result",
          "data": {
            "text/html": [
              "<div>\n",
              "<style scoped>\n",
              "    .dataframe tbody tr th:only-of-type {\n",
              "        vertical-align: middle;\n",
              "    }\n",
              "\n",
              "    .dataframe tbody tr th {\n",
              "        vertical-align: top;\n",
              "    }\n",
              "\n",
              "    .dataframe thead th {\n",
              "        text-align: right;\n",
              "    }\n",
              "</style>\n",
              "<table border=\"1\" class=\"dataframe\">\n",
              "  <thead>\n",
              "    <tr style=\"text-align: right;\">\n",
              "      <th></th>\n",
              "      <th>y</th>\n",
              "      <th>prob</th>\n",
              "    </tr>\n",
              "  </thead>\n",
              "  <tbody>\n",
              "    <tr>\n",
              "      <th>0</th>\n",
              "      <td>0</td>\n",
              "      <td>0.458521</td>\n",
              "    </tr>\n",
              "    <tr>\n",
              "      <th>1</th>\n",
              "      <td>0</td>\n",
              "      <td>0.505037</td>\n",
              "    </tr>\n",
              "    <tr>\n",
              "      <th>2</th>\n",
              "      <td>0</td>\n",
              "      <td>0.418652</td>\n",
              "    </tr>\n",
              "    <tr>\n",
              "      <th>3</th>\n",
              "      <td>0</td>\n",
              "      <td>0.412057</td>\n",
              "    </tr>\n",
              "    <tr>\n",
              "      <th>4</th>\n",
              "      <td>0</td>\n",
              "      <td>0.375579</td>\n",
              "    </tr>\n",
              "  </tbody>\n",
              "</table>\n",
              "</div>"
            ],
            "text/plain": [
              "   y      prob\n",
              "0  0  0.458521\n",
              "1  0  0.505037\n",
              "2  0  0.418652\n",
              "3  0  0.412057\n",
              "4  0  0.375579"
            ]
          },
          "metadata": {},
          "execution_count": 33
        }
      ]
    },
    {
      "cell_type": "code",
      "metadata": {
        "id": "eAPjewjzAfCa"
      },
      "source": [
        " # write your code for task C"
      ],
      "execution_count": 34,
      "outputs": []
    },
    {
      "cell_type": "markdown",
      "metadata": {
        "id": "F5AlGM1yBBxK"
      },
      "source": [
        "### Finding Best threshold"
      ]
    },
    {
      "cell_type": "code",
      "metadata": {
        "id": "1-Ib_ODaBZbw"
      },
      "source": [
        " \n",
        " \n",
        "def BestThreshold(y, probabilities):\n",
        "  '''\n",
        "  Find Best Threshold value for a metric A, given y class scores and probabilities scores\n",
        "  '''\n",
        "  thresholds = list(set(probabilities))\n",
        "  thresholds = sorted(thresholds, reverse=True)\n",
        "  minA = 9876543210\n",
        "\n",
        "  for threshold in thresholds:\n",
        "    y_pred = [0 if prob < threshold else 1 for prob in probabilities]\n",
        "\n",
        "    tp, fp, fn, tn = Find_TpFpFnTn(y, y_pred)\n",
        "\n",
        "    if fn < fp :\n",
        "      A = CalculateMetricA(fn, fp)\n",
        "      if A < minA:\n",
        "        minA = A        \n",
        "        bestThreshold = threshold\n",
        "        FN, FP = fn, fp\n",
        "\n",
        "  \n",
        "  return bestThreshold, minA, FN, FP"
      ],
      "execution_count": 43,
      "outputs": []
    },
    {
      "cell_type": "code",
      "metadata": {
        "id": "8U8QbbvpBxSo"
      },
      "source": [
        "def CalculateMetricA(FN, FP):\n",
        "  '''\n",
        "  returns value of metric A\n",
        "  '''\n",
        "  return (500 * FN) + (100 * FP)\n"
      ],
      "execution_count": 44,
      "outputs": []
    },
    {
      "cell_type": "code",
      "metadata": {
        "colab": {
          "base_uri": "https://localhost:8080/"
        },
        "id": "qiae6MNuGGFa",
        "outputId": "d754f2ef-6858-4a9d-925d-ba5548e2ba52"
      },
      "source": [
        "bestThreshold, metric, FN, FP = BestThreshold(df_c.y, df_c.prob)\n",
        "print(f'Best Threshold : {bestThreshold:.6f} with metric A value : {metric} having FN={FN} and FP={FP}')"
      ],
      "execution_count": 45,
      "outputs": [
        {
          "output_type": "stream",
          "name": "stdout",
          "text": [
            "Best Threshold : 0.230039 with metric A value : 141000 having FN=78 and FP=1020\n"
          ]
        }
      ]
    },
    {
      "cell_type": "markdown",
      "metadata": {
        "id": "sD4CcgjXQvoL"
      },
      "source": [
        "\n",
        "## D.</b></font> Compute performance metrics(for regression) for the given data 5_d.csv\n",
        "<pre>    <b>Note 2:</b> use pandas or numpy to read the data from <b>5_d.csv</b>\n",
        "    <b>Note 1:</b> <b>5_d.csv</b> will having two columns Y and predicted_Y both are real valued features\n",
        "<ol>\n",
        "<li> Compute Mean Square Error </li>\n",
        "<li> Compute MAPE: https://www.youtube.com/watch?v=ly6ztgIkUxk</li>\n",
        "<li> Compute R^2 error: https://en.wikipedia.org/wiki/Coefficient_of_determination#Definitions </li>\n",
        "</ol>\n",
        "</pre>"
      ]
    },
    {
      "cell_type": "code",
      "metadata": {
        "id": "sVOj-bF9AfCd",
        "colab": {
          "base_uri": "https://localhost:8080/",
          "height": 202
        },
        "outputId": "299f34b3-11f0-4ceb-dbf2-9706ac25e0f4"
      },
      "source": [
        "df_d=pd.read_csv('5_d.csv')\n",
        "df_d.head()"
      ],
      "execution_count": 46,
      "outputs": [
        {
          "output_type": "execute_result",
          "data": {
            "text/html": [
              "<div>\n",
              "<style scoped>\n",
              "    .dataframe tbody tr th:only-of-type {\n",
              "        vertical-align: middle;\n",
              "    }\n",
              "\n",
              "    .dataframe tbody tr th {\n",
              "        vertical-align: top;\n",
              "    }\n",
              "\n",
              "    .dataframe thead th {\n",
              "        text-align: right;\n",
              "    }\n",
              "</style>\n",
              "<table border=\"1\" class=\"dataframe\">\n",
              "  <thead>\n",
              "    <tr style=\"text-align: right;\">\n",
              "      <th></th>\n",
              "      <th>y</th>\n",
              "      <th>pred</th>\n",
              "    </tr>\n",
              "  </thead>\n",
              "  <tbody>\n",
              "    <tr>\n",
              "      <th>0</th>\n",
              "      <td>101.0</td>\n",
              "      <td>100.0</td>\n",
              "    </tr>\n",
              "    <tr>\n",
              "      <th>1</th>\n",
              "      <td>120.0</td>\n",
              "      <td>100.0</td>\n",
              "    </tr>\n",
              "    <tr>\n",
              "      <th>2</th>\n",
              "      <td>131.0</td>\n",
              "      <td>113.0</td>\n",
              "    </tr>\n",
              "    <tr>\n",
              "      <th>3</th>\n",
              "      <td>164.0</td>\n",
              "      <td>125.0</td>\n",
              "    </tr>\n",
              "    <tr>\n",
              "      <th>4</th>\n",
              "      <td>154.0</td>\n",
              "      <td>152.0</td>\n",
              "    </tr>\n",
              "  </tbody>\n",
              "</table>\n",
              "</div>"
            ],
            "text/plain": [
              "       y   pred\n",
              "0  101.0  100.0\n",
              "1  120.0  100.0\n",
              "2  131.0  113.0\n",
              "3  164.0  125.0\n",
              "4  154.0  152.0"
            ]
          },
          "metadata": {},
          "execution_count": 46
        }
      ]
    },
    {
      "cell_type": "code",
      "metadata": {
        "id": "uRhL1pheAfCe"
      },
      "source": [
        " # write your code for task 5d"
      ],
      "execution_count": 47,
      "outputs": []
    },
    {
      "cell_type": "markdown",
      "metadata": {
        "id": "kfg4BE_FReXV"
      },
      "source": [
        "### 1. Compute Mean Square Error"
      ]
    },
    {
      "cell_type": "code",
      "metadata": {
        "colab": {
          "base_uri": "https://localhost:8080/"
        },
        "id": "pIOMVXH5SfjR",
        "outputId": "b357de1b-dd4d-43cd-e7fe-1302b09ec773"
      },
      "source": [
        "df_d.info()"
      ],
      "execution_count": 48,
      "outputs": [
        {
          "output_type": "stream",
          "name": "stdout",
          "text": [
            "<class 'pandas.core.frame.DataFrame'>\n",
            "RangeIndex: 157200 entries, 0 to 157199\n",
            "Data columns (total 2 columns):\n",
            " #   Column  Non-Null Count   Dtype  \n",
            "---  ------  --------------   -----  \n",
            " 0   y       157200 non-null  float64\n",
            " 1   pred    157200 non-null  float64\n",
            "dtypes: float64(2)\n",
            "memory usage: 2.4 MB\n"
          ]
        }
      ]
    },
    {
      "cell_type": "markdown",
      "metadata": {
        "id": "-REV_TTtwbnP"
      },
      "source": [
        "*No missing values.*"
      ]
    },
    {
      "cell_type": "code",
      "metadata": {
        "id": "rBW03JmVRd-p"
      },
      "source": [
        "def Compute_MeanSquareError(actual, predicted):\n",
        "  '''\n",
        "  returns Mean Squared Error value for given actual and predicted values\n",
        "  '''\n",
        "  return np.mean((actual - predicted)**2)"
      ],
      "execution_count": 49,
      "outputs": []
    },
    {
      "cell_type": "code",
      "metadata": {
        "colab": {
          "base_uri": "https://localhost:8080/"
        },
        "id": "Fro6LVY7UR7r",
        "outputId": "7eef053a-5746-46d1-b3c4-4194e666ea88"
      },
      "source": [
        "# Computing Mean Squared Value\n",
        "mse = Compute_MeanSquareError(df_d.y, df_d.pred)\n",
        "print(f'Mean Squared Error : {mse:.6f}')"
      ],
      "execution_count": 50,
      "outputs": [
        {
          "output_type": "stream",
          "name": "stdout",
          "text": [
            "Mean Squared Error : 177.165700\n"
          ]
        }
      ]
    },
    {
      "cell_type": "markdown",
      "metadata": {
        "id": "FkrSMTW0Wk_6"
      },
      "source": [
        "### 2. Compute Mean Absolute Percentage Error(MAPE)"
      ]
    },
    {
      "cell_type": "code",
      "metadata": {
        "id": "vHxskc2UWuYo"
      },
      "source": [
        "def Compute_MAPE(actual, predicted):\n",
        "  '''\n",
        "  returns Mean Absolute Percentage Error value for given actual and predicted values\n",
        "  '''\n",
        "  return (np.mean(np.abs(actual - predicted) / actual ))*100"
      ],
      "execution_count": 51,
      "outputs": []
    },
    {
      "cell_type": "code",
      "metadata": {
        "colab": {
          "base_uri": "https://localhost:8080/"
        },
        "id": "S0Z_oxhXXiqT",
        "outputId": "a1a16e18-7b36-437d-f1a7-b6553c0cd53d"
      },
      "source": [
        "mape = Compute_MAPE(df_d.y, df_d.pred)\n",
        "print(f'Mean Absolute Percentage Error : {mape :.2f} %')"
      ],
      "execution_count": 52,
      "outputs": [
        {
          "output_type": "stream",
          "name": "stdout",
          "text": [
            "Mean Absolute Percentage Error : inf %\n"
          ]
        }
      ]
    },
    {
      "cell_type": "markdown",
      "metadata": {
        "id": "eDhK2BwEX2Pd"
      },
      "source": [
        "*Our Compute_MAPE() output is not defined. It can be due to zeros present in out actual values.*"
      ]
    },
    {
      "cell_type": "code",
      "metadata": {
        "colab": {
          "base_uri": "https://localhost:8080/"
        },
        "id": "jFU0bUn8W35q",
        "outputId": "2a7d0318-e270-4b79-e654-01641b9fba74"
      },
      "source": [
        "(df_d == 0).any()"
      ],
      "execution_count": 53,
      "outputs": [
        {
          "output_type": "execute_result",
          "data": {
            "text/plain": [
              "y       True\n",
              "pred    True\n",
              "dtype: bool"
            ]
          },
          "metadata": {},
          "execution_count": 53
        }
      ]
    },
    {
      "cell_type": "code",
      "metadata": {
        "colab": {
          "base_uri": "https://localhost:8080/"
        },
        "id": "lAhiqA6JY30h",
        "outputId": "3591d9bf-99ea-41bf-f440-0ca6eebfa7f2"
      },
      "source": [
        "(df_d < 0).any()"
      ],
      "execution_count": 54,
      "outputs": [
        {
          "output_type": "execute_result",
          "data": {
            "text/plain": [
              "y       False\n",
              "pred     True\n",
              "dtype: bool"
            ]
          },
          "metadata": {},
          "execution_count": 54
        }
      ]
    },
    {
      "cell_type": "markdown",
      "metadata": {
        "id": "iQ-adGGqYMgH"
      },
      "source": [
        "*As we see zeroes are present in actual values. Also all actual values are positive. So our Compute_MAPE() function needs to be modified as follows :-*\n",
        "<br>\n",
        "error = actual value - predicted value <br>\n",
        "Let **mean_a** = average of **N** actual values<br>\n",
        "or  **N** * **mean_a** = sum of **N** actual values = sum of **N** |actual values|<br>\n",
        "\n",
        "modified_MAPE = 1/**N** * sum of all **|error|**/mean_a <br>\n",
        "              = sum of all **|error|** / sum of all actual values<br>\n"
      ]
    },
    {
      "cell_type": "code",
      "metadata": {
        "id": "tbhunkTWbLBQ"
      },
      "source": [
        "def Compute_MAPEmodified(actual, predicted):\n",
        "  '''\n",
        "  returns Mean Absolute Percentage Error value for given actual and predicted values\n",
        "  '''\n",
        "  return (sum(np.abs(actual - predicted)) / sum(actual))*100"
      ],
      "execution_count": 60,
      "outputs": []
    },
    {
      "cell_type": "code",
      "metadata": {
        "colab": {
          "base_uri": "https://localhost:8080/"
        },
        "id": "2AB84MTNbuSq",
        "outputId": "030f25e5-9f5a-453d-9d9f-bccd448be2f4"
      },
      "source": [
        "mape = Compute_MAPEmodified(df_d.y, df_d.pred)\n",
        "print(f'Mean Absolute Percentage Error : {mape :.2f}%')"
      ],
      "execution_count": 56,
      "outputs": [
        {
          "output_type": "stream",
          "name": "stdout",
          "text": [
            "Mean Absolute Percentage Error : 12.91%\n"
          ]
        }
      ]
    },
    {
      "cell_type": "markdown",
      "metadata": {
        "id": "AnNRhsf1cq3o"
      },
      "source": [
        "### 3. Compute R^2 error"
      ]
    },
    {
      "cell_type": "code",
      "metadata": {
        "id": "KhvMW0OVdCao"
      },
      "source": [
        "def Compute_R2Error(actual, predicted):\n",
        "  '''\n",
        "  returns R-Squared Error value for given actual and predicted values\n",
        "  '''\n",
        "  SSres = sum( (actual - predicted)**2)\n",
        "  mean_y = np.mean(actual)\n",
        "  SStot = sum((actual - mean_y)**2)\n",
        "  return 1 - (SSres / SStot)\n"
      ],
      "execution_count": 59,
      "outputs": []
    },
    {
      "cell_type": "code",
      "metadata": {
        "colab": {
          "base_uri": "https://localhost:8080/"
        },
        "id": "LhyugLkbeGTf",
        "outputId": "7ac34ab5-f792-45b0-eccd-b29d46580d7e"
      },
      "source": [
        "r2 = Compute_R2Error(df_d.y, df_d.pred)\n",
        "print(f'R-Squared Error : {r2:.6f}')"
      ],
      "execution_count": 58,
      "outputs": [
        {
          "output_type": "stream",
          "name": "stdout",
          "text": [
            "R-Squared Error : 0.956358\n"
          ]
        }
      ]
    }
  ]
}