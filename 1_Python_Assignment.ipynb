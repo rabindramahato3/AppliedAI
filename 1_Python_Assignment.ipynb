{
  "nbformat": 4,
  "nbformat_minor": 0,
  "metadata": {
    "kernelspec": {
      "display_name": "Python 3",
      "language": "python",
      "name": "python3"
    },
    "language_info": {
      "codemirror_mode": {
        "name": "ipython",
        "version": 3
      },
      "file_extension": ".py",
      "mimetype": "text/x-python",
      "name": "python",
      "nbconvert_exporter": "python",
      "pygments_lexer": "ipython3",
      "version": "3.6.8"
    },
    "colab": {
      "name": "1_Python_Assignment.ipynb",
      "provenance": [],
      "collapsed_sections": [],
      "include_colab_link": true
    }
  },
  "cells": [
    {
      "cell_type": "markdown",
      "metadata": {
        "id": "view-in-github",
        "colab_type": "text"
      },
      "source": [
        "<a href=\"https://colab.research.google.com/github/rabindramahato3/AppliedAI/blob/main/1_Python_Assignment.ipynb\" target=\"_parent\"><img src=\"https://colab.research.google.com/assets/colab-badge.svg\" alt=\"Open In Colab\"/></a>"
      ]
    },
    {
      "cell_type": "markdown",
      "metadata": {
        "id": "l0ZzOlyxB-kf"
      },
      "source": [
        "<h1>Python: without numpy or sklearn </h1>"
      ]
    },
    {
      "cell_type": "markdown",
      "metadata": {
        "id": "C0xO8JV9B-ki"
      },
      "source": [
        "#<h3> Q1: Given two matrices please print the product of those two matrices </h3>\n",
        "<pre>\n",
        "\n",
        "Ex 1: A   = [[1 3 4]\n",
        "             [2 5 7]\n",
        "             [5 9 6]]\n",
        "      B   = [[1 0 0]\n",
        "             [0 1 0]\n",
        "             [0 0 1]]\n",
        "      A*B = [[1 3 4]\n",
        "             [2 5 7]\n",
        "             [5 9 6]]\n",
        "\n",
        "     \n",
        "Ex 2: A   = [[1 2]\n",
        "             [3 4]]\n",
        "      B   = [[1 2 3 4 5]\n",
        "             [5 6 7 8 9]]\n",
        "      A*B = [[11 14 17 20 23]\n",
        "             [23 30 36 42 51]]\n",
        "             \n",
        "Ex 3: A   = [[1 2]\n",
        "             [3 4]]\n",
        "      B   = [[1 4]\n",
        "             [5 6]\n",
        "             [7 8]\n",
        "             [9 6]]\n",
        "      A*B =Not possible\n",
        "</pre>"
      ]
    },
    {
      "cell_type": "code",
      "metadata": {
        "id": "rnssAfpgB-kj"
      },
      "source": [
        "# write your python code here\n",
        "# you can take the above example as sample input for your program to test\n",
        "# it should work for any general input try not to hard code for only given input examples\n",
        "\n",
        "\n",
        "# you can free to change all these codes/structure\n",
        "# here A and B are list of lists\n",
        "def matrix_mul(A, B):\n",
        "    # write your code\n",
        "    # matices are taken by list of lists\n",
        "    # get rows and columns of both matrices A and B\n",
        "    rowsA = len(A)\n",
        "    colsA = len(A[0])\n",
        "    rowsB = len(B)\n",
        "    colsB = len(B[0])\n",
        "\n",
        "    # check whether multiplication is possible.\n",
        "    # i.e., colsA should be equal to rowsB\n",
        "    if colsA != rowsB:\n",
        "      return  \n",
        "    else:\n",
        "      # resultant matrix will be of size (rowsA, colsB) \n",
        "      # C(rowsA, colsB)  be a matrix to store multiplication result\n",
        "      # initializing it with zeroes\n",
        "      result =[[0 for c in range(colsB)] for r in range(rowsA)]\n",
        "      # print(result)\n",
        "      # Matrix multiplication\n",
        "      # result(i,j) = summation(A(i,k) + B(k,j)) \n",
        "      # for i : 1...rowsA, j:1...colsB, k:1...rowsB/colsA\n",
        "\n",
        "      for i in range(rowsA):\n",
        "        for j in range(colsB):\n",
        "          for k in range(rowsB):\n",
        "            result[i][j] = result[i][j] + A[i][k] * B[k][j]\n",
        "            # print(f'({i},{j})= {result[i][j]}')\n",
        "      return result\n"
      ],
      "execution_count": null,
      "outputs": []
    },
    {
      "cell_type": "code",
      "metadata": {
        "id": "CwFABSL720mA"
      },
      "source": [
        "def printMatrix(M):\n",
        "    '''\n",
        "    This function prints the matrix by taking list of lists as argument\n",
        "    '''\n",
        "    for r in M:\n",
        "        print(r)   "
      ],
      "execution_count": null,
      "outputs": []
    },
    {
      "cell_type": "code",
      "metadata": {
        "colab": {
          "base_uri": "https://localhost:8080/"
        },
        "id": "_1VkTZfNyy6H",
        "outputId": "e220f05b-d730-4846-ad6c-511e31976c64"
      },
      "source": [
        "A1 = [[1,2],[3,4]]\n",
        "B1 = [[1,4],[5,6], [7,8], [9,6]]\n",
        "\n",
        "A2 = [[1, 3, 4],[2, 5, 7],[5, 9, 6]]\n",
        "B2 = [[1, 0, 0],[0, 1, 0],[0, 0, 1]]\n",
        "\n",
        "A3 = [[1,2],[3,4]]\n",
        "B3 = [[1,2,3,4,5],[5,6,7,8,9]]\n",
        "\n",
        "A = [A1, A2, A3]\n",
        "B = [B1, B2, B3]\n",
        "\n",
        "for A, B in zip(A, B):\n",
        "\n",
        "  print('\\nA = ')\n",
        "  printMatrix(A)\n",
        "  print('\\nB = ')\n",
        "  printMatrix(B)\n",
        "  print('\\nA*B = ')\n",
        "  result = matrix_mul(A, B)\n",
        "  if result:\n",
        "    printMatrix(result)\n",
        "  else:\n",
        "    print('Not Possible')"
      ],
      "execution_count": null,
      "outputs": [
        {
          "output_type": "stream",
          "text": [
            "\n",
            "A = \n",
            "[1, 2]\n",
            "[3, 4]\n",
            "\n",
            "B = \n",
            "[1, 4]\n",
            "[5, 6]\n",
            "[7, 8]\n",
            "[9, 6]\n",
            "\n",
            "A*B = \n",
            "Not Possible\n",
            "\n",
            "A = \n",
            "[1, 3, 4]\n",
            "[2, 5, 7]\n",
            "[5, 9, 6]\n",
            "\n",
            "B = \n",
            "[1, 0, 0]\n",
            "[0, 1, 0]\n",
            "[0, 0, 1]\n",
            "\n",
            "A*B = \n",
            "[1, 3, 4]\n",
            "[2, 5, 7]\n",
            "[5, 9, 6]\n",
            "\n",
            "A = \n",
            "[1, 2]\n",
            "[3, 4]\n",
            "\n",
            "B = \n",
            "[1, 2, 3, 4, 5]\n",
            "[5, 6, 7, 8, 9]\n",
            "\n",
            "A*B = \n",
            "[11, 14, 17, 20, 23]\n",
            "[23, 30, 37, 44, 51]\n"
          ],
          "name": "stdout"
        }
      ]
    },
    {
      "cell_type": "markdown",
      "metadata": {
        "id": "at4VwLggB-kn"
      },
      "source": [
        "#<h3> Q2: Select a number randomly with probability proportional to its magnitude from the given array of n elements</h3>\n",
        "\n",
        "consider an experiment, selecting an element from the list A randomly with probability proportional to its magnitude.\n",
        "assume we are doing the same experiment for 100 times with replacement, in each experiment you will print a number that is selected randomly from A.\n",
        "\n",
        "<pre>\n",
        "Ex 1: A = [0 5 27 6 13 28 100 45 10 79]\n",
        "let f(x) denote the number of times x getting selected in 100 experiments.\n",
        "f(100) > f(79) > f(45) > f(28) > f(27) > f(13) > f(10) > f(6) > f(5) > f(0)\n",
        "</pre>"
      ]
    },
    {
      "cell_type": "code",
      "metadata": {
        "id": "B6S2dpBhB-kn"
      },
      "source": [
        "from random import uniform\n",
        "# write your python code here\n",
        "# you can take the above example as sample input for your program to test\n",
        "# it should work for any general input try not to hard code for only given input examples\n",
        "\n",
        "\n",
        "# you can free to change all these codes/structure\n",
        "def pick_a_number_from_list(A):\n",
        "    # your code here for picking an element from with the probability propotional to its magnitude\n",
        "    # correction : else zero will not be selected\n",
        "    Am = [i+1 for i in A]\n",
        "\n",
        "    # 1. Compute sum of all elements in list\n",
        "    S = sum(Am)\n",
        "\n",
        "    # 2. normalize the list\n",
        "    normA = [(i/S) for i in Am]\n",
        "\n",
        "    # 3. cummalative normalized sum\n",
        "    summ = 0\n",
        "    cummNormSum = []\n",
        "    for i in range(len(normA)):\n",
        "      summ += normA[i]\n",
        "      cummNormSum.append(summ)\n",
        "\n",
        "    # print(cummNormSum)\n",
        "    # sample one-value uniformly in range (0,1)\n",
        "    random_value = uniform(0.0, 1.0)\n",
        "    # print(random_value)\n",
        "\n",
        "    # proportional sampling\n",
        "    for index in range(len(cummNormSum)):\n",
        "      if random_value <= cummNormSum[index]:\n",
        "        return A[index]\n",
        "\n",
        "\n"
      ],
      "execution_count": null,
      "outputs": []
    },
    {
      "cell_type": "code",
      "metadata": {
        "id": "eTl8vkUi-mA5"
      },
      "source": [
        "def sampling_based_on_magnitued():\n",
        "    f = dict.fromkeys(A, 0)\n",
        "    for i in range(1,100):\n",
        "        number = pick_a_number_from_list(A)\n",
        "        print(number)\n",
        "        f[number] += 1\n",
        "\n",
        "    print('\\nSummary of the Sampling :')\n",
        "    for k, v in sorted(f.items(), key = lambda item : item[1], reverse = True):\n",
        "      # print(f'f({k}) = {v}')\n",
        "      print(f'[ f({k}) : {v} ]', end=\" > \")\n",
        "    "
      ],
      "execution_count": null,
      "outputs": []
    },
    {
      "cell_type": "code",
      "metadata": {
        "colab": {
          "base_uri": "https://localhost:8080/"
        },
        "id": "7aXxlJ-u-qI_",
        "outputId": "0684a6dc-5a26-48e3-f442-ba7084634d07"
      },
      "source": [
        "A = [0, 5, 27, 6, 13, 28, 100, 45, 10, 79]\n",
        "# A = [2,6,1.2,5.8,20]\n",
        "\n",
        "# calling function\n",
        "sampling_based_on_magnitued()\n"
      ],
      "execution_count": null,
      "outputs": [
        {
          "output_type": "stream",
          "text": [
            "100\n",
            "100\n",
            "13\n",
            "45\n",
            "100\n",
            "79\n",
            "45\n",
            "27\n",
            "28\n",
            "28\n",
            "79\n",
            "28\n",
            "6\n",
            "79\n",
            "100\n",
            "100\n",
            "10\n",
            "10\n",
            "100\n",
            "100\n",
            "100\n",
            "28\n",
            "100\n",
            "100\n",
            "45\n",
            "28\n",
            "100\n",
            "79\n",
            "100\n",
            "28\n",
            "27\n",
            "79\n",
            "79\n",
            "79\n",
            "45\n",
            "100\n",
            "13\n",
            "100\n",
            "13\n",
            "100\n",
            "27\n",
            "100\n",
            "79\n",
            "100\n",
            "100\n",
            "100\n",
            "79\n",
            "100\n",
            "79\n",
            "100\n",
            "100\n",
            "100\n",
            "27\n",
            "10\n",
            "27\n",
            "100\n",
            "28\n",
            "100\n",
            "45\n",
            "100\n",
            "28\n",
            "28\n",
            "28\n",
            "79\n",
            "79\n",
            "79\n",
            "27\n",
            "45\n",
            "45\n",
            "45\n",
            "27\n",
            "79\n",
            "28\n",
            "100\n",
            "13\n",
            "45\n",
            "13\n",
            "28\n",
            "6\n",
            "100\n",
            "28\n",
            "79\n",
            "79\n",
            "100\n",
            "100\n",
            "79\n",
            "6\n",
            "100\n",
            "27\n",
            "27\n",
            "79\n",
            "28\n",
            "28\n",
            "100\n",
            "45\n",
            "100\n",
            "100\n",
            "10\n",
            "79\n",
            "\n",
            "Summary of the Sampling :\n",
            "[ f(100) : 34 ] > [ f(79) : 19 ] > [ f(28) : 15 ] > [ f(45) : 10 ] > [ f(27) : 9 ] > [ f(13) : 5 ] > [ f(10) : 4 ] > [ f(6) : 3 ] > [ f(0) : 0 ] > [ f(5) : 0 ] > "
          ],
          "name": "stdout"
        }
      ]
    },
    {
      "cell_type": "markdown",
      "metadata": {
        "id": "D1xQy2WWB-kq"
      },
      "source": [
        "#<h3> Q3: Replace the digits in the string with '#'</h3>\n",
        "\n",
        "consider a string that will have digits in that, we need to remove all the not digits and replace the digits with #\n",
        "<pre>\n",
        "Ex 1: A = 234                Output: ###\n",
        "Ex 2: A = a2b3c4             Output: ###\n",
        "Ex 3: A = abc                Output:   (empty string)\n",
        "Ex 5: A = #2a$#b%c%561#      Output: ####\n",
        "</pre>"
      ]
    },
    {
      "cell_type": "code",
      "metadata": {
        "id": "fxczi2jzB-kr"
      },
      "source": [
        "import re\n",
        "# write your python code here\n",
        "# you can take the above example as sample input for your program to test\n",
        "# it should work for any general input try not to hard code for only given input examples\n",
        "\n",
        "# you can free to change all these codes/structure\n",
        "# String: it will be the input to your program\n",
        "def replace_digits(String):\n",
        "    # write your code\n",
        "    # 1. remove all non-digits\n",
        "    digitString = re.sub(r'\\D', '', String)\n",
        "\n",
        "    # 2. replace digits with '#'\n",
        "    hashString = re.sub(r'\\d', '#', digitString)\n",
        "    return  hashString # modified string which is after replacing the # with digits\n",
        "\n"
      ],
      "execution_count": null,
      "outputs": []
    },
    {
      "cell_type": "code",
      "metadata": {
        "colab": {
          "base_uri": "https://localhost:8080/"
        },
        "id": "7_JDDnGFl5dH",
        "outputId": "384a3d7b-96ba-4f06-c559-3adc279a7c88"
      },
      "source": [
        "\n",
        "A1 = '234'\n",
        "A2 = 'a2b3c4'\n",
        "A3 = 'abc'\n",
        "A4 = '#2a$#b%c%561#'\n",
        "# replace_digits(String)\n",
        "strings = [A1, A2, A3, A4]\n",
        "print('For strings output is :')\n",
        "for string in strings:\n",
        "  replacedDigits = replace_digits(string)\n",
        "  print(f'{string} --> {replacedDigits}')"
      ],
      "execution_count": null,
      "outputs": [
        {
          "output_type": "stream",
          "text": [
            "For strings output is :\n",
            "234 --> ###\n",
            "a2b3c4 --> ###\n",
            "abc --> \n",
            "#2a$#b%c%561# --> ####\n"
          ],
          "name": "stdout"
        }
      ]
    },
    {
      "cell_type": "markdown",
      "metadata": {
        "id": "j7h0Ywg7B-kw"
      },
      "source": [
        "#<h3> Q4: Students marks dashboard</h3>\n",
        "\n",
        "consider the marks list of class students given two lists <br>\n",
        "Students = ['student1','student2','student3','student4','student5','student6','student7','student8','student9','student10'] <br>\n",
        "Marks = [45, 78, 12, 14, 48, 43, 45, 98, 35, 80] <br>\n",
        "from the above two lists the Student[0] got Marks[0],  Student[1] got Marks[1] and so on <br><br>\n",
        "your task is to print the name of students\n",
        "<strong>a. Who got top 5 ranks, in the descending order of marks</strong> <br>\n",
        "<strong>b. Who got least 5 ranks, in the increasing order of marks</strong><br>\n",
        "<strong>d. Who got marks between  &gt;25th percentile &lt;75th percentile, in the increasing order of marks</strong>\n",
        "\n",
        "<pre>\n",
        "Ex 1: \n",
        "Students=['student1','student2','student3','student4','student5','student6','student7','student8','student9','student10'] \n",
        "Marks = [45, 78, 12, 14, 48, 43, 47, 98, 35, 80]\n",
        "a. \n",
        "student8  98\n",
        "student10 80\n",
        "student2  78\n",
        "student5  48\n",
        "student7  47\n",
        "b.\n",
        "student3 12\n",
        "student4 14\n",
        "student9 35\n",
        "student6 43\n",
        "student1 45\n",
        "c.\n",
        "student9 35\n",
        "student6 43\n",
        "student1 45\n",
        "student7 47\n",
        "student5 48\n",
        "</pre>"
      ]
    },
    {
      "cell_type": "code",
      "metadata": {
        "id": "cxPJgItsB-kx"
      },
      "source": [
        "# write your python code here\n",
        "# you can take the above example as sample input for your program to test\n",
        "# it should work for any general input try not to hard code for only given input examples\n",
        "\n",
        "# you can free to change all these codes/structure\n",
        "def display_dash_board(students, marks):\n",
        "\n",
        "  # create a dictionary with students as key and marks as values\n",
        "  dashboard = dict(zip(Students, Marks))\n",
        "  \n",
        "  # write code for computing top top 5 students\n",
        "  top_5_students = sorted(dashboard.items(), key = lambda item:item[1], reverse=True)[:5]\n",
        "\n",
        "  # write code for computing top least 5 students\n",
        "  least_5_students = sorted(dashboard.items(), key = lambda item:item[1])[:5]\n",
        "  \n",
        "  # write code for computing top least 5 students\n",
        "  min_mark = min(marks)\n",
        "  max_mark = max(marks)\n",
        "  difference = max_mark - min_mark\n",
        "  perc_25 = difference*0.25\n",
        "  perc_75 = difference*0.75\n",
        "\n",
        "  students_within_25_and_75 = dict()\n",
        "  for key, value in dashboard.items():\n",
        "    if int(value) >= perc_25 and int(value) <= perc_75:\n",
        "      students_within_25_and_75[key] = value\n",
        "  students_within_25_and_75 = sorted(students_within_25_and_75.items(), key = lambda item:item[1])\n",
        "  return top_5_students, least_5_students, students_within_25_and_75\n",
        "\n"
      ],
      "execution_count": null,
      "outputs": []
    },
    {
      "cell_type": "code",
      "metadata": {
        "colab": {
          "base_uri": "https://localhost:8080/"
        },
        "id": "DueJoSWVoiMf",
        "outputId": "63d176f9-5747-4002-aae2-a46e0cdad4d5"
      },
      "source": [
        "Students=['student1','student2','student3','student4','student5','student6','student7','student8','student9','student10'] \n",
        "Marks = [45, 78, 12, 14, 48, 43, 47, 98, 35, 80]\n",
        "\n",
        "# main program\n",
        "top_5_students, least_5_students, students_within_25_and_75 = display_dash_board(Students, Marks)\n",
        "\n",
        "print('--- DASHBOARD ---')\n",
        "print(' STUDENT  \\t  MARK ')\n",
        "print('--------- \\t ------')\n",
        "for s, m in zip(Students, Marks):\n",
        "  print(f'{s} --------  {m}')\n",
        "\n",
        "print('\\nA. Top 5 students in descending order of marks :')\n",
        "for student in top_5_students:\n",
        "  print(student[0],' : ',student[1])\n",
        "\n",
        "print('\\nB. Least 5 students in increasing order of marks :')\n",
        "for student in least_5_students:\n",
        "  print(student[0],' : ',student[1])\n",
        "\n",
        "print('\\nC. Students having marks between 25 pencentile and 75 percentile :')\n",
        "for student in students_within_25_and_75:\n",
        "  print(student[0],' : ',student[1])"
      ],
      "execution_count": null,
      "outputs": [
        {
          "output_type": "stream",
          "text": [
            "--- DASHBOARD ---\n",
            " STUDENT  \t  MARK \n",
            "--------- \t ------\n",
            "student1 --------  45\n",
            "student2 --------  78\n",
            "student3 --------  12\n",
            "student4 --------  14\n",
            "student5 --------  48\n",
            "student6 --------  43\n",
            "student7 --------  47\n",
            "student8 --------  98\n",
            "student9 --------  35\n",
            "student10 --------  80\n",
            "\n",
            "A. Top 5 students in descending order of marks :\n",
            "student8  :  98\n",
            "student10  :  80\n",
            "student2  :  78\n",
            "student5  :  48\n",
            "student7  :  47\n",
            "\n",
            "B. Least 5 students in increasing order of marks :\n",
            "student3  :  12\n",
            "student4  :  14\n",
            "student9  :  35\n",
            "student6  :  43\n",
            "student1  :  45\n",
            "\n",
            "C. Students having marks between 25 pencentile and 75 percentile :\n",
            "student9  :  35\n",
            "student6  :  43\n",
            "student1  :  45\n",
            "student7  :  47\n",
            "student5  :  48\n"
          ],
          "name": "stdout"
        }
      ]
    },
    {
      "cell_type": "markdown",
      "metadata": {
        "id": "qha0OhQHB-k1"
      },
      "source": [
        "#<h3> Q5: Find the closest points</h3>\n",
        "\n",
        "consider you have given n data points in the form of list of tuples like S=[(x1,y1),(x2,y2),(x3,y3),(x4,y4),(x5,y5),..,(xn,yn)] and a point P=(p,q) <br> your task is to find 5 closest points(based on cosine distance) in S from P\n",
        "<br>cosine distance between two points (x,y) and (p,q) is defind as $cos^{-1}(\\frac{(x\\cdot p+y\\cdot q)}{\\sqrt(x^2+y^2)\\cdot\\sqrt(p^2+q^2)})$\n",
        "<pre>\n",
        "Ex:\n",
        "\n",
        "S= [(1,2),(3,4),(-1,1),(6,-7),(0, 6),(-5,-8),(-1,-1)(6,0),(1,-1)]\n",
        "P= (3,-4)\n",
        "<img src='https://i.imgur.com/vIFPOcG.jpg', width=300>\n",
        "Output:\n",
        "(6,-7)\n",
        "(1,-1)\n",
        "(6,0)\n",
        "(-5,-8)\n",
        "(-1,-1)\n",
        "</pre>"
      ]
    },
    {
      "cell_type": "code",
      "metadata": {
        "id": "wA5I1g-2B-k2"
      },
      "source": [
        "import math\n",
        "\n",
        "# write your python code here\n",
        "# you can take the above example as sample input for your program to test\n",
        "# it should work for any general input try not to hard code for only given input examples\n",
        "# you can free to change all these codes/structure\n",
        "\n",
        "\n",
        "# here S is list of tuples and P is a tuple ot len=2\n",
        "def closest_points_to_p(S, P):\n",
        "  # write your code here\n",
        "  \n",
        "  cosineDistanceList = dict()\n",
        "  for x,y in S:\n",
        "    # calculate cosine distance using formulae\n",
        "    num = x*P[0] + y*P[1]\n",
        "    den = math.sqrt(x**2 + y**2) * math.sqrt(P[0]**2 + P[1]**2)\n",
        "    cosineDistance = math.acos(num/den)\n",
        "    cosineDistanceList[(x,y)] = cosineDistance\n",
        "\n",
        "    closest_points_to_p = sorted(cosineDistanceList.items(), key=lambda item:item[1])\n",
        "  return closest_points_to_p  # its list of tuples\n",
        "\n"
      ],
      "execution_count": null,
      "outputs": []
    },
    {
      "cell_type": "code",
      "metadata": {
        "colab": {
          "base_uri": "https://localhost:8080/"
        },
        "id": "CcvFd3DJzawK",
        "outputId": "b14e02bb-b18a-4259-ad5b-1c2fa3671114"
      },
      "source": [
        "S= [(1,2), (3,4), (-1,1), (6,-7), (0, 6), (-5,-8), (-1,-1), (6,0), (1,-1)]\n",
        "P= (3,-4)\n",
        "\n",
        "# main program\n",
        "points = closest_points_to_p(S, P)\n",
        "print(f'5 closest points(based on cosine distance)\\n\\\n",
        " in S {S} \\n\\\n",
        " from P {P} :')\n",
        "for point in points[:5]:\n",
        "  print(point[0]) #print the returned values"
      ],
      "execution_count": null,
      "outputs": [
        {
          "output_type": "stream",
          "text": [
            "5 closest points(based on cosine distance)\n",
            " in S [(1, 2), (3, 4), (-1, 1), (6, -7), (0, 6), (-5, -8), (-1, -1), (6, 0), (1, -1)] \n",
            " from P (3, -4) :\n",
            "(6, -7)\n",
            "(1, -1)\n",
            "(6, 0)\n",
            "(-5, -8)\n",
            "(-1, -1)\n"
          ],
          "name": "stdout"
        }
      ]
    },
    {
      "cell_type": "markdown",
      "metadata": {
        "id": "-g11jeAiB-k5"
      },
      "source": [
        "#<h3> Q6: Find Which line separates oranges and apples</h3>\n",
        "consider you have given two set of data points in the form of list of tuples like \n",
        "<pre>\n",
        "Red =[(R11,R12),(R21,R22),(R31,R32),(R41,R42),(R51,R52),..,(Rn1,Rn2)]\n",
        "Blue=[(B11,B12),(B21,B22),(B31,B32),(B41,B42),(B51,B52),..,(Bm1,Bm2)]\n",
        "</pre>\n",
        "and set of line equations(in the string formate, i.e list of strings)\n",
        "<pre>\n",
        "Lines = [a1x+b1y+c1,a2x+b2y+c2,a3x+b3y+c3,a4x+b4y+c4,..,K lines]\n",
        "Note: you need to string parsing here and get the coefficients of x,y and intercept\n",
        "</pre>\n",
        "your task is to for each line that is given print \"YES\"/\"NO\", you will print yes, if all the red points are one side of the line and blue points are other side of the line, otherwise no\n",
        "<pre>\n",
        "Ex:\n",
        "Red= [(1,1),(2,1),(4,2),(2,4), (-1,4)]\n",
        "Blue= [(-2,-1),(-1,-2),(-3,-2),(-3,-1),(1,-3)]\n",
        "Lines=[\"1x+1y+0\",\"1x-1y+0\",\"1x+0y-3\",\"0x+1y-0.5\"]\n",
        "<img src='https://i.imgur.com/DoQf7mE.jpg' width=400>\n",
        "Output:\n",
        "YES\n",
        "NO\n",
        "NO\n",
        "YES\n",
        "</pre>"
      ]
    },
    {
      "cell_type": "code",
      "metadata": {
        "id": "eRxExaTRB-k6"
      },
      "source": [
        "import math\n",
        "# write your python code here\n",
        "# you can take the above example as sample input for your program to test\n",
        "# it should work for any general input try not to hard code for only given input strings\n",
        "\n",
        "\n",
        "# you can free to change all these codes/structure\n",
        "def i_am_the_one(red,blue,line):\n",
        "    # your code\n",
        "    # seperate coefficeints\n",
        "    a = line.split('x')\n",
        "    b = a[1].split('y')\n",
        "    coeff = tuple(map(float, [a[0], b[0], b[1]]))\n",
        "\n",
        "    # check side of one red and one blue point\n",
        "    side_red = getSide(coeff, red[0]) if len(red) != 0 else 0\n",
        "    side_blue = getSide(coeff, blue[0]) if len(blue) != 0 else 0\n",
        "\n",
        "    # check all other red points lies on one side\n",
        "    for i in range(1,len(red)):\n",
        "      if side_red != getSide(coeff, red[i]):\n",
        "        return 'NO'\n",
        "\n",
        "    # check all other blue points lies on one side\n",
        "    for i in range(1,len(blue)):\n",
        "      if side_blue != getSide(coeff, blue[i]):\n",
        "        return 'NO'\n",
        "\n",
        "    # if both red and blue points lies on same side\n",
        "    if side_red == side_blue:\n",
        "      return 'NO'\n",
        "\n",
        "    # if all red points lie on one side and blue on other side\n",
        "    return 'YES'\n",
        "\n"
      ],
      "execution_count": null,
      "outputs": []
    },
    {
      "cell_type": "code",
      "metadata": {
        "id": "ITxlzu-2xyLl"
      },
      "source": [
        "# function to determine side of point\n",
        "def getSide(line, point):\n",
        "  fx = line[0] * point[0] + line[1] * point[1] + line[2]\n",
        "  if fx > 0:\n",
        "    return 1\n",
        "  elif fx < 0:\n",
        "    return -1\n",
        "  elif fx == 0:\n",
        "    return 0"
      ],
      "execution_count": null,
      "outputs": []
    },
    {
      "cell_type": "code",
      "metadata": {
        "colab": {
          "base_uri": "https://localhost:8080/"
        },
        "id": "uyeJHguN44JE",
        "outputId": "ee317545-6c00-479f-fd0b-9540e3c491de"
      },
      "source": [
        "# given data points and lines\n",
        "Red= [(1,1),(2,1),(4,2),(2,4), (-1,4)]\n",
        "Blue= [(-2,-1),(-1,-2),(-3,-2),(-3,-1),(1,-3)]\n",
        "Lines=[\"1x+1y+0\",\"1x-1y+0\",\"1x+0y-3\",\"0x+1y-0.5\", \"1x+0y+6\"]\n",
        "\n",
        "# main program\n",
        "print(f'Red Points : {Red}')\n",
        "print(f'Blue Points : {Blue}')\n",
        "print(f'Line Equations : {Lines} \\n')\n",
        "for i in Lines:\n",
        "  yes_or_no = i_am_the_one(Red, Blue, i)\n",
        "  print(f'Line {i} seperates Red and Blue Points : {yes_or_no}')\n"
      ],
      "execution_count": null,
      "outputs": [
        {
          "output_type": "stream",
          "text": [
            "Red Points : [(1, 1), (2, 1), (4, 2), (2, 4), (-1, 4)]\n",
            "Blue Points : [(-2, -1), (-1, -2), (-3, -2), (-3, -1), (1, -3)]\n",
            "Line Equations : ['1x+1y+0', '1x-1y+0', '1x+0y-3', '0x+1y-0.5', '1x+0y+6'] \n",
            "\n",
            "Line 1x+1y+0 seperates Red and Blue Points : YES\n",
            "Line 1x-1y+0 seperates Red and Blue Points : NO\n",
            "Line 1x+0y-3 seperates Red and Blue Points : NO\n",
            "Line 0x+1y-0.5 seperates Red and Blue Points : YES\n",
            "Line 1x+0y+6 seperates Red and Blue Points : NO\n"
          ],
          "name": "stdout"
        }
      ]
    },
    {
      "cell_type": "markdown",
      "metadata": {
        "id": "9OBpURbNB-k9"
      },
      "source": [
        "#<h3> Q7: Filling the missing values in the specified formate</h3>\n",
        "You will be given a string with digits and '\\_'(missing value) symbols you have to replace the '\\_' symbols as explained \n",
        "<pre>\n",
        "Ex 1: _, _, _, 24 ==> 24/4, 24/4, 24/4, 24/4 i.e we. have distributed the 24 equally to all 4 places <br>\n",
        "Ex 2: 40, _, _, _, 60 ==> (60+40)/5,(60+40)/5,(60+40)/5,(60+40)/5,(60+40)/5 ==> 20, 20, 20, 20, 20 i.e. the sum of (60+40) is distributed qually to all 5 places<br>\n",
        "Ex 3: 80, _, _, _, _  ==> 80/5,80/5,80/5,80/5,80/5 ==> 16, 16, 16, 16, 16 i.e. the 80 is distributed qually to all 5 missing values that are right to it<br>\n",
        "Ex 4: _, _, 30, _, _, _, 50, _, _  \n",
        "==> we will fill the missing values from left to right \n",
        "    a. first we will distribute the 30 to left two missing values (10, 10, 10, _, _, _, 50, _, _)\n",
        "    b. now distribute the sum (10+50) missing values in between (10, 10, 12, 12, 12, 12, 12, _, _) \n",
        "    c. now we will distribute 12 to right side missing values (10, 10, 12, 12, 12, 12, 4, 4, 4)\n",
        "</pre>\n",
        "for a given string with comma seprate values, which will have both missing values numbers like ex: \"_, _, x, _, _, _\"\n",
        "you need fill the missing values\n",
        "\n",
        "Q: your program reads a string like ex: \"_, _, x, _, _, _\" and returns the filled sequence\n",
        "\n",
        "Ex: \n",
        "<pre>\n",
        "Input1: \"_,_,_,24\"\n",
        "Output1: 6,6,6,6\n",
        "\n",
        "Input2: \"40,_,_,_,60\"\n",
        "Output2: 20,20,20,20,20\n",
        "\n",
        "Input3: \"80,_,_,_,_\"\n",
        "Output3: 16,16,16,16,16\n",
        "\n",
        "Input4: \"_,_,30,_,_,_,50,_,_\"\n",
        "Output4: 10,10,12,12,12,12,4,4,4\n",
        "</pre>\n",
        "\n"
      ]
    },
    {
      "cell_type": "code",
      "metadata": {
        "id": "nZmpzHs_B-k-"
      },
      "source": [
        "# write your python code here\n",
        "# you can take the above example as sample input for your program to test\n",
        "# it should work for any general input try not to hard code for only given input strings\n",
        "\n",
        "\n",
        "# you can free to change all these codes/structure\n",
        "def curve_smoothing(string):\n",
        "  # your code\n",
        "  # split the comma seperated values\n",
        "  s_list = string.split(',')\n",
        "\n",
        "  # for every value in s_list if it is integer\n",
        "  # if integer then smooth it \n",
        "  start_index = 0\n",
        "  for index in range(len(s_list)):\n",
        "    if s_list[index].isnumeric():\n",
        "      s_list = smooth_it(s_list, start_index, index)\n",
        "      start_index = index\n",
        "    else:\n",
        "      s_list[index] = 0\n",
        "\n",
        "  # smoothing all of values is missing after a number\n",
        "  end_index = len(s_list) - 1\n",
        "  s_list = smooth_it(s_list, start_index, end_index)\n",
        "    \n",
        "  return s_list\n",
        "\n",
        "\n"
      ],
      "execution_count": null,
      "outputs": []
    },
    {
      "cell_type": "code",
      "metadata": {
        "id": "XlHYG21WEcIK"
      },
      "source": [
        "\n",
        "def smooth_it(s_list, start_index, end_index):\n",
        "\n",
        "  # finding mean\n",
        "  T = 0\n",
        "  for i in range(start_index, end_index+1):\n",
        "    T += int(s_list[i])\n",
        "  N = end_index - start_index + 1\n",
        "  smoothed_value = T // N\n",
        "\n",
        "  # updating the list\n",
        "  for i in range(start_index, end_index+1):\n",
        "        s_list[i] = str(smoothed_value)\n",
        "        \n",
        "  return s_list\n"
      ],
      "execution_count": null,
      "outputs": []
    },
    {
      "cell_type": "code",
      "metadata": {
        "colab": {
          "base_uri": "https://localhost:8080/"
        },
        "id": "iu2ttK1xB3to",
        "outputId": "64cc6883-0eab-49c1-cbcb-042306ec1812"
      },
      "source": [
        "S1 = \"_,_,30,_,_,_,50,_,_\"\n",
        "S2 = \"_,_,_,24\"\n",
        "S3 = \"40,_,_,_,60\"\n",
        "S4 = \"80,_,_,_,_\"\n",
        "S = [S1, S2, S3, S4]\n",
        "\n",
        "# main program\n",
        "print('String Smoothing : ' )\n",
        "for string in S:\n",
        "  smoothed_values = curve_smoothing(string)\n",
        "  smoothed_string = \",\".join(smoothed_values)\n",
        "  print(f' {string} \\t>>  {smoothed_string}')"
      ],
      "execution_count": null,
      "outputs": [
        {
          "output_type": "stream",
          "text": [
            "String Smoothing : \n",
            " _,_,30,_,_,_,50,_,_ \t>>  10,10,12,12,12,12,4,4,4\n",
            " _,_,_,24 \t>>  6,6,6,6\n",
            " 40,_,_,_,60 \t>>  20,20,20,20,20\n",
            " 80,_,_,_,_ \t>>  16,16,16,16,16\n"
          ],
          "name": "stdout"
        }
      ]
    },
    {
      "cell_type": "markdown",
      "metadata": {
        "id": "RBz4pzlfB-lB"
      },
      "source": [
        "#<h3> Q8: Compute conditional Probablities</h3>\n",
        "You will be given a list of lists, each sublist will be of length 2 i.e. [[x,y],[p,q],[l,m]..[r,s]]\n",
        "consider its like a martrix of n rows and two columns\n",
        "1. the first column F will contain only 5 uniques values (F1, F2, F3, F4, F5)\n",
        "2. the second column S will contain only 3 uniques values (S1, S2, S3)\n",
        "<pre>\n",
        "your task is to find\n",
        "a. Probability of P(F=F1|S==S1), P(F=F1|S==S2), P(F=F1|S==S3)\n",
        "b. Probability of P(F=F2|S==S1), P(F=F2|S==S2), P(F=F2|S==S3)\n",
        "c. Probability of P(F=F3|S==S1), P(F=F3|S==S2), P(F=F3|S==S3)\n",
        "d. Probability of P(F=F4|S==S1), P(F=F4|S==S2), P(F=F4|S==S3)\n",
        "e. Probability of P(F=F5|S==S1), P(F=F5|S==S2), P(F=F5|S==S3)\n",
        "</pre>\n",
        "Ex:\n",
        "\n",
        "<pre>\n",
        "[[F1,S1],[F2,S2],[F3,S3],[F1,S2],[F2,S3],[F3,S2],[F2,S1],[F4,S1],[F4,S3],[F5,S1]]\n",
        "\n",
        "a. P(F=F1|S==S1)=1/4, P(F=F1|S==S2)=1/3, P(F=F1|S==S3)=0/3\n",
        "b. P(F=F2|S==S1)=1/4, P(F=F2|S==S2)=1/3, P(F=F2|S==S3)=1/3\n",
        "c. P(F=F3|S==S1)=0/4, P(F=F3|S==S2)=1/3, P(F=F3|S==S3)=1/3\n",
        "d. P(F=F4|S==S1)=1/4, P(F=F4|S==S2)=0/3, P(F=F4|S==S3)=1/3\n",
        "e. P(F=F5|S==S1)=1/4, P(F=F5|S==S2)=0/3, P(F=F5|S==S3)=0/3\n",
        "</pre>\n",
        "\n",
        "\n"
      ]
    },
    {
      "cell_type": "code",
      "metadata": {
        "id": "e-1giz1MB-lC"
      },
      "source": [
        "# write your python code here\n",
        "# you can take the above example as sample input for your program to test\n",
        "# it should work for any general input try not to hard code for only given input strings\n",
        "\n",
        "\n",
        "\n",
        "# you can free to change all these codes/structure\n",
        "def compute_conditional_probabilites(A):\n",
        "  # your code\n",
        "  # print the output as per the instructions\n",
        "  F, S = [], []\n",
        "  for f, s in A:\n",
        "    if f not in F:\n",
        "      F.append(f)\n",
        "    if s not in S:\n",
        "      S.append(s)\n",
        "  # print(F, S)\n",
        "\n",
        "  i = 97\n",
        "  for f in F:\n",
        "    p = []\n",
        "    for s in S:\n",
        "      num, den = probability(f, s, A)\n",
        "      p.append(f'P(F={f}|S={s})={num}/{den}')\n",
        "    print(f'{chr(i)}. {\", \".join(p)}')\n",
        "    i +=1"
      ],
      "execution_count": null,
      "outputs": []
    },
    {
      "cell_type": "code",
      "metadata": {
        "id": "gwFZvN3MQI2-"
      },
      "source": [
        "# calculate probability of happening f when s already happened in an event\n",
        "def probability(f, s, event):\n",
        "  num , den = 0, 0\n",
        "  for i in range(len(event)):\n",
        "    if event[i][1] == s:\n",
        "      den += 1\n",
        "      if event[i][0] == f:\n",
        "        num += 1\n",
        "\n",
        "  return num, den"
      ],
      "execution_count": null,
      "outputs": []
    },
    {
      "cell_type": "code",
      "metadata": {
        "colab": {
          "base_uri": "https://localhost:8080/"
        },
        "id": "P5EGR4gtNeX0",
        "outputId": "106b253e-25e0-499a-898d-79a80bdb5723"
      },
      "source": [
        "A = [['F1','S1'],['F2','S2'],['F3','S3'],['F1','S2'],['F2','S3'],['F3','S2'],['F2','S1'],['F4','S1'],['F4','S3'],['F5','S1']]\n",
        "\n",
        "print(f'A = {A}')\n",
        "print('Conditional probabilites for A : \\n')\n",
        "compute_conditional_probabilites(A)"
      ],
      "execution_count": null,
      "outputs": [
        {
          "output_type": "stream",
          "text": [
            "A = [['F1', 'S1'], ['F2', 'S2'], ['F3', 'S3'], ['F1', 'S2'], ['F2', 'S3'], ['F3', 'S2'], ['F2', 'S1'], ['F4', 'S1'], ['F4', 'S3'], ['F5', 'S1']]\n",
            "Conditional probabilites for A : \n",
            "\n",
            "a. P(F=F1|S=S1)=1/4, P(F=F1|S=S2)=1/3, P(F=F1|S=S3)=0/3\n",
            "b. P(F=F2|S=S1)=1/4, P(F=F2|S=S2)=1/3, P(F=F2|S=S3)=1/3\n",
            "c. P(F=F3|S=S1)=0/4, P(F=F3|S=S2)=1/3, P(F=F3|S=S3)=1/3\n",
            "d. P(F=F4|S=S1)=1/4, P(F=F4|S=S2)=0/3, P(F=F4|S=S3)=1/3\n",
            "e. P(F=F5|S=S1)=1/4, P(F=F5|S=S2)=0/3, P(F=F5|S=S3)=0/3\n"
          ],
          "name": "stdout"
        }
      ]
    },
    {
      "cell_type": "markdown",
      "metadata": {
        "id": "n4HS87QmB-lF"
      },
      "source": [
        "#<h3> Q9: Given two sentances S1, S2</h3>\n",
        "You will be given two sentances S1, S2 your task is to find \n",
        "<pre>\n",
        "a. Number of common words between S1, S2\n",
        "b. Words in S1 but not in S2\n",
        "c. Words in S2 but not in S1\n",
        "</pre>\n",
        "\n",
        "Ex: \n",
        "<pre>\n",
        "S1= \"the first column F will contain only 5 uniques values\"\n",
        "S2= \"the second column S will contain only 3 uniques values\"\n",
        "Output:\n",
        "a. 7\n",
        "b. ['first','F','5']\n",
        "c. ['second','S','3']\n",
        "</pre>"
      ]
    },
    {
      "cell_type": "code",
      "metadata": {
        "id": "Ez7hlHK0B-lG"
      },
      "source": [
        "# write your python code here\n",
        "# you can take the above example as sample input for your program to test\n",
        "# it should work for any general input try not to hard code for only given input strings\n",
        "\n",
        "# you can free to change all these codes/structure\n",
        "def string_features(S1, S2):\n",
        "    # your code\n",
        "    # split the string and convert it into set\n",
        "    s1 = set(S1.split())\n",
        "    s2 = set(S2.split())\n",
        "\n",
        "    # number of common words = length of set intersection (s1,s2)\n",
        "    a = len(s1 & s2)\n",
        "\n",
        "    # in S1 but not in S2 = set difference (s1, s2)\n",
        "    b = sorted(list(s1 - s2), reverse=True)\n",
        "\n",
        "    # in S2 but not in S1 = set difference (s2, s1)\n",
        "    c = sorted(list(s2 - s1), reverse=True)\n",
        "\n",
        "    return a, b, c\n",
        "\n"
      ],
      "execution_count": null,
      "outputs": []
    },
    {
      "cell_type": "code",
      "metadata": {
        "colab": {
          "base_uri": "https://localhost:8080/"
        },
        "id": "erIYrdSBYlf6",
        "outputId": "f0fd64f3-e898-407e-9d22-b0196e95d666"
      },
      "source": [
        "S1= \"the first column F will contain only 5 uniques values\"\n",
        "S2= \"the second column S will contain only 3 uniques values\"\n",
        "\n",
        "\n",
        "a,b,c = string_features(S1, S2)\n",
        "print(f'S1 = {S1}')\n",
        "print(f'S2 = {S2}')\n",
        "\n",
        "print(f'\\na. Number of common words between S1, S2 : {a}')\n",
        "print(f'b. Words in S1 but not in S2 : {b}')\n",
        "print(f'c. Words in S2 but not in S1 : {c}')"
      ],
      "execution_count": null,
      "outputs": [
        {
          "output_type": "stream",
          "text": [
            "S1 = the first column F will contain only 5 uniques values\n",
            "S2 = the second column S will contain only 3 uniques values\n",
            "\n",
            "a. Number of common words between S1, S2 : 7\n",
            "b. Words in S1 but not in S2 : ['first', 'F', '5']\n",
            "c. Words in S2 but not in S1 : ['second', 'S', '3']\n"
          ],
          "name": "stdout"
        }
      ]
    },
    {
      "cell_type": "markdown",
      "metadata": {
        "id": "XefXVEjCB-lI"
      },
      "source": [
        "#<h3> Q10: Compute log loss</h3>\n",
        "You will be given a list of lists, each sublist will be of length 2 i.e. [[x,y],[p,q],[l,m]..[r,s]]\n",
        "consider its like a martrix of n rows and two columns\n",
        "\n",
        "a. the first column Y will contain interger values <br>\n",
        "b. the second column $Y_{score}$ will be having float values <br>\n",
        "Your task is to find the value of $f(Y,Y_{score}) = -1*\\frac{1}{n}\\Sigma_{for each Y,Y_{score} pair}(Ylog10(Y_{score})+(1-Y)log10(1-Y_{score}))$ here n is the number of rows in the matrix\n",
        "<pre>\n",
        "Ex:\n",
        "[[1, 0.4], [0, 0.5], [0, 0.9], [0, 0.3], [0, 0.6], [1, 0.1], [1, 0.9], [1, 0.8]]\n",
        "output:\n",
        "0.4243099\n",
        "</pre>\n",
        "$\\frac{-1}{8}\\cdot((1\\cdot log_{10}(0.4)+0\\cdot log_{10}(0.6))+(0\\cdot log_{10}(0.5)+1\\cdot log_{10}(0.5)) + ... + (1\\cdot log_{10}(0.8)+0\\cdot log_{10}(0.2)) )$"
      ]
    },
    {
      "cell_type": "code",
      "metadata": {
        "id": "N9zkagyNB-lJ"
      },
      "source": [
        "# write your python code here\n",
        "# you can take the above example as sample input for your program to test\n",
        "# it should work for any general input try not to hard code for only given input strings\n",
        "\n",
        "# you can free to change all these codes/structure\n",
        "def compute_log_loss(A):\n",
        "    # your code\n",
        "    n = len(A)\n",
        "    loss = 0\n",
        "    for y, y_score in A:\n",
        "      loss += (y*log10(y_score) + (1-y)*log10(1-y_score))\n",
        "    loss = -1/n * loss\n",
        "    return loss\n",
        "\n"
      ],
      "execution_count": null,
      "outputs": []
    },
    {
      "cell_type": "markdown",
      "metadata": {
        "id": "6E05_9jHk3wI"
      },
      "source": [
        "ln(x) = lim <sub><sub> n -> infinity</sub></sub> n(x<sup><sup>1/n</sup></sup> - 1)<br>\n",
        "\n",
        "<br>\n",
        "log<sub>b</sub>x = log<sub>k</sub>x / log<sub>k</sub>b = ln(x)/ln(b)\n",
        "\n",
        "log<sub>10</sub>x = ln(x) / ln(10)"
      ]
    },
    {
      "cell_type": "code",
      "metadata": {
        "id": "BgDUMSVZefsN"
      },
      "source": [
        "def log10(x):\n",
        "  return ln(x)/ln(10)\n",
        "\n",
        "def ln(x):\n",
        "  n = 999999999\n",
        "  return n * ((x ** (1/n)) - 1)"
      ],
      "execution_count": null,
      "outputs": []
    },
    {
      "cell_type": "code",
      "metadata": {
        "colab": {
          "base_uri": "https://localhost:8080/"
        },
        "id": "6swkB2XOcrah",
        "outputId": "9a8a3e95-06c7-458c-aaf5-52417c84f9b9"
      },
      "source": [
        "A = [[1, 0.4], [0, 0.5], [0, 0.9], [0, 0.3], [0, 0.6], [1, 0.1], [1, 0.9], [1, 0.8]]\n",
        "\n",
        "loss = compute_log_loss(A)\n",
        "# print(loss)\n",
        "print(f'A = {A}')\n",
        "print('log loss for A is {0:.7f} approx.'.format(loss))"
      ],
      "execution_count": null,
      "outputs": [
        {
          "output_type": "stream",
          "text": [
            "A = [[1, 0.4], [0, 0.5], [0, 0.9], [0, 0.3], [0, 0.6], [1, 0.1], [1, 0.9], [1, 0.8]]\n",
            "log loss for A is 0.4243099 approx.\n"
          ],
          "name": "stdout"
        }
      ]
    }
  ]
}