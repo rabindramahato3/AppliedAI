{
  "nbformat": 4,
  "nbformat_minor": 0,
  "metadata": {
    "colab": {
      "name": "PythonPracticeQuestions.ipynb",
      "provenance": [],
      "collapsed_sections": [
        "Vijea1KJT9Ib",
        "2Av_OWHhTyTR",
        "EKzjOVioUFTp",
        "zBKm5EUryJcU"
      ],
      "authorship_tag": "ABX9TyOFOZ+gu/44N81+ax+w8/dy",
      "include_colab_link": true
    },
    "kernelspec": {
      "name": "python3",
      "display_name": "Python 3"
    },
    "language_info": {
      "name": "python"
    }
  },
  "cells": [
    {
      "cell_type": "markdown",
      "metadata": {
        "id": "view-in-github",
        "colab_type": "text"
      },
      "source": [
        "<a href=\"https://colab.research.google.com/github/rabindramahato3/AppliedAI/blob/main/PythonPracticeQuestions.ipynb\" target=\"_parent\"><img src=\"https://colab.research.google.com/assets/colab-badge.svg\" alt=\"Open In Colab\"/></a>"
      ]
    },
    {
      "cell_type": "markdown",
      "metadata": {
        "id": "Vijea1KJT9Ib"
      },
      "source": [
        "# Problem 1 : \n",
        "**Write a function that inputs a number and prints the multiplication table of that number**"
      ]
    },
    {
      "cell_type": "code",
      "metadata": {
        "colab": {
          "base_uri": "https://localhost:8080/"
        },
        "id": "spkKrymn9vB_",
        "outputId": "21c761ea-49eb-4b4d-c950-776cab9ff9db"
      },
      "source": [
        "# Function that inputs a number and prints the multiplication table of that number.\n",
        "\n",
        "\n",
        "def mul_table():\n",
        "  \"\"\"\n",
        "  Function to input a number and print multiplication table of the number.\n",
        "  \"\"\"\n",
        "\n",
        "  # Taking a number as input\n",
        "  num = int(input(\"Enter a number : \"))\n",
        "\n",
        "  print('\\n   Multiplication Table of {} is : \\n'.format(num))\n",
        "  \n",
        "  # loop for printing the multiplication table\n",
        "  for i in range(1, 11):\n",
        "    print('{0} x {1} = {2}'.format( num, i, num*i))\n",
        "\n",
        "# calling mul_table() function\n",
        "print('Program to input a number and print its multiplication table \\n')\n",
        "mul_table()"
      ],
      "execution_count": 48,
      "outputs": [
        {
          "output_type": "stream",
          "text": [
            "Program to input a number and print its multiplication table \n",
            "\n",
            "Enter a number : 45\n",
            "\n",
            "   Multiplication Table of 45 is : \n",
            "\n",
            "45 x 1 = 45\n",
            "45 x 2 = 90\n",
            "45 x 3 = 135\n",
            "45 x 4 = 180\n",
            "45 x 5 = 225\n",
            "45 x 6 = 270\n",
            "45 x 7 = 315\n",
            "45 x 8 = 360\n",
            "45 x 9 = 405\n",
            "45 x 10 = 450\n"
          ],
          "name": "stdout"
        }
      ]
    },
    {
      "cell_type": "markdown",
      "metadata": {
        "id": "2Av_OWHhTyTR"
      },
      "source": [
        "# Problem 2 : \n",
        "**Write a program to print twin primes less than 1000. If two consecutive odd numbers are both prime then they are known as twin primes.**"
      ]
    },
    {
      "cell_type": "code",
      "metadata": {
        "colab": {
          "base_uri": "https://localhost:8080/"
        },
        "id": "_upDeHfhemrA",
        "outputId": "a6f02a63-199b-4fa4-ae69-25ec38997404"
      },
      "source": [
        "# Print twin primes less than 1000\n",
        "\n",
        "def check_prime(num):\n",
        "  \"\"\"\n",
        "    Function to Check Whether a number is prime or not\n",
        "  \"\"\"\n",
        "\n",
        "  # a flag variable\n",
        "  flag = False\n",
        "\n",
        "  if num > 1 :\n",
        "    for i in range (2, num):\n",
        "      if (num % i) == 0:\n",
        "        flag = True\n",
        "        break\n",
        "  return flag\n",
        "\n",
        "\n",
        "\n",
        "def twin_primes():\n",
        "  \"\"\"\n",
        "    Function to print thetwin primes less than 1000\n",
        "  \"\"\"\n",
        "  print('  Twin Primes less than 1000 : \\n')\n",
        "  # taking odd numbers less than 1000\n",
        "  for num in range(1, 1000, 2):\n",
        "    # taking numbers except 1\n",
        "    if (num > 1): \n",
        "      # check whether number is prime or not\n",
        "      if check_prime(num): \n",
        "        # not prime the continue with next number\n",
        "        continue\n",
        "      # check whether next consecutive odd number is prime or not\n",
        "      elif check_prime(num + 2):\n",
        "        continue\n",
        "      else:\n",
        "          # when consecutive odd numbers are prime, print them\n",
        "          print('({},{})'.format(num, num+2))\n",
        "\n",
        "print('Program to print twin primesless than 1000 \\n')\n",
        "# calling the function\n",
        "twin_primes()"
      ],
      "execution_count": 42,
      "outputs": [
        {
          "output_type": "stream",
          "text": [
            "Program to print twin primesless than 1000 \n",
            "\n",
            "  Twin Primes less than 1000 : \n",
            "\n",
            "(3,5)\n",
            "(5,7)\n",
            "(11,13)\n",
            "(17,19)\n",
            "(29,31)\n",
            "(41,43)\n",
            "(59,61)\n",
            "(71,73)\n",
            "(101,103)\n",
            "(107,109)\n",
            "(137,139)\n",
            "(149,151)\n",
            "(179,181)\n",
            "(191,193)\n",
            "(197,199)\n",
            "(227,229)\n",
            "(239,241)\n",
            "(269,271)\n",
            "(281,283)\n",
            "(311,313)\n",
            "(347,349)\n",
            "(419,421)\n",
            "(431,433)\n",
            "(461,463)\n",
            "(521,523)\n",
            "(569,571)\n",
            "(599,601)\n",
            "(617,619)\n",
            "(641,643)\n",
            "(659,661)\n",
            "(809,811)\n",
            "(821,823)\n",
            "(827,829)\n",
            "(857,859)\n",
            "(881,883)\n"
          ],
          "name": "stdout"
        }
      ]
    },
    {
      "cell_type": "markdown",
      "metadata": {
        "id": "EKzjOVioUFTp"
      },
      "source": [
        "# Problem 3 : \n",
        "**Write a program to find out the prime factors of a number. Example: prime factors of 56 - 2, 2, 2, 7**"
      ]
    },
    {
      "cell_type": "code",
      "metadata": {
        "colab": {
          "base_uri": "https://localhost:8080/"
        },
        "id": "3FKgIaBFUSCp",
        "outputId": "eafe1c62-005e-4187-a56f-5804defdfddb"
      },
      "source": [
        "# Find prime factors of a number\n",
        "\n",
        "\n",
        "\n",
        "def prime_factors():\n",
        "\n",
        "  # inputs a number\n",
        "  num = int(input(\"Enter a number : \"))\n",
        "\n",
        "  print('\\n Prime factors of {} are : '.format(num), end=\" \")\n",
        "\n",
        "  # finding all the 2's in its prime as aftewards all primes are odd\n",
        "  while (num % 2 == 0):\n",
        "    print(2, end=\", \")\n",
        "    num //= 2\n",
        "\n",
        "  # next prime number is 3\n",
        "  i = 3\n",
        "  \n",
        "  while (num > 1) and (i < num):\n",
        "      if (num % i) == 0:\n",
        "        print(i, end=\", \")\n",
        "        num //= i\n",
        "      else:\n",
        "        # all other primes are odd \n",
        "        i += 2\n",
        "        \n",
        "  if num > 2 :\n",
        "    print(num)\n",
        "print('Program to find prime factors of a number \\n')\n",
        "prime_factors()\n"
      ],
      "execution_count": 16,
      "outputs": [
        {
          "output_type": "stream",
          "text": [
            "Program to find prime factors of a number \n",
            "\n",
            "Enter a number : 1331\n",
            "\n",
            " Prime factors of 1331 are :  11, 11, 11\n"
          ],
          "name": "stdout"
        }
      ]
    },
    {
      "cell_type": "markdown",
      "metadata": {
        "id": "zBKm5EUryJcU"
      },
      "source": [
        "# Problem 4 : \n",
        "**Write a program to implement these formulae of permutations and combinations. Number of permutations of n objects taken r at a time: p(n, r) = n! / (n-r)!. Number of combinations of n objects taken r at a time is: c(n, r) = n! / (r!*(n-r)!) = p(n,r) / r!**\n"
      ]
    },
    {
      "cell_type": "code",
      "metadata": {
        "colab": {
          "base_uri": "https://localhost:8080/"
        },
        "id": "kDYIq_CFydrz",
        "outputId": "d1d63404-0d74-462d-dfcb-6a5ded32199b"
      },
      "source": [
        "# Implement formulae of permutations and combinations\n",
        "\n",
        "def factorial(n):\n",
        "  \"\"\"\n",
        "    Calculate factorial of a number\n",
        "  \"\"\"\n",
        "  if n == 1:\n",
        "    return n\n",
        "  else:\n",
        "    return n * factorial(n-1)\n",
        "\n",
        "\n",
        "def p(n,r):\n",
        "  \"\"\"\n",
        "  Calculate number of permutaions for n objects taken r at a time\n",
        "  \"\"\"\n",
        "  # implementing formulae for permutations\n",
        "  no_of_permutations = factorial(n)/factorial(n-r)\n",
        "  return int(no_of_permutations)\n",
        "\n",
        "def c(n,r):\n",
        "  \"\"\"\n",
        "  Calculate number of combinations for n objects taken r at a time\n",
        "  \"\"\"\n",
        "  # implementing formulae for combinations\n",
        "  no_of_combinations = p(n,r)/factorial(r)\n",
        "  return int(no_of_combinations)\n",
        "\n",
        "\n",
        "print('Program to implement formulae of permutations and combinations')\n",
        "print(' for n objects taken r at a time \\n')\n",
        "print('formulae for p(n,r) = n!/(n-r)!')\n",
        "print('formulae for c(n,r) = n!/r!*(n-r)! = p(n,r)/r!\\n')\n",
        "\n",
        "n = int(input('Enter n : '))\n",
        "r = int(input('Enter r : '))\n",
        "\n",
        "np = p(n,r)\n",
        "nc = c(n,r)\n",
        "\n",
        "print('\\n Number of permutations for {} objects taken {} at a time is {}.'.format(n,r,np))\n",
        "print('\\n Number of combinations for {} objects taken {} at a time is {}.'.format(n,r,nc))\n"
      ],
      "execution_count": 6,
      "outputs": [
        {
          "output_type": "stream",
          "text": [
            "Program to implement formulae of permutations and combinations\n",
            " for n objects taken r at a time \n",
            "\n",
            "formulae for p(n,r) = n!/(n-r)!\n",
            "formulae for c(n,r) = n!/r!*(n-r)! = p(n,r)/r!\n",
            "\n",
            "Enter n : 6\n",
            "Enter r : 2\n",
            "\n",
            " Number of permutations for 6 objects taken 2 at a time is 30.\n",
            "\n",
            " Number of combinations for 6 objects taken 2 at a time is 15.\n"
          ],
          "name": "stdout"
        }
      ]
    },
    {
      "cell_type": "markdown",
      "metadata": {
        "id": "POOJdmEH-fAG"
      },
      "source": [
        "# Problem 5 : \n",
        "**Write a function that converts a decimal number to binary number**"
      ]
    },
    {
      "cell_type": "code",
      "metadata": {
        "colab": {
          "base_uri": "https://localhost:8080/"
        },
        "id": "lWVblXJu-qye",
        "outputId": "05745752-ba17-4375-c86a-2bed3a36c967"
      },
      "source": [
        "# function that converts a decimal number to binary number\n",
        "\n",
        "def decimalToBinary(num):\n",
        "  \n",
        "  # seperating integral and fractional part from the decimal\n",
        "  integral = int(num)\n",
        "  fractional = num - integral\n",
        "  \n",
        "  # store the binary number\n",
        "  binary =\"\"\n",
        "\n",
        "  # calculating binary value of integral part\n",
        "  while(integral > 0):\n",
        "    remainder = integral % 2\n",
        "    integral //= 2\n",
        "    binary += str(remainder)\n",
        "\n",
        "  # reversing the integral part binary\n",
        "  binary = binary[::-1]\n",
        "\n",
        "  # adding . to binary output\n",
        "  binary += '.'\n",
        "\n",
        "  \n",
        "  # calculating binary value of fractional part\n",
        "  while(fractional != 0):\n",
        "    fractional = fractional * 2\n",
        "    remainder = int(fractional)\n",
        "    fractional = fractional - remainder\n",
        "    binary += str(remainder)\n",
        "\n",
        "  # print the binary value\n",
        "  print('\\nBinary equivalent of Decimal number {} is {}'.format(num, binary))  \n",
        "\n",
        "\n",
        "print('Program for converting decimal number to its binary equivalent\\n')\n",
        "num = float(input('Enter a decimal number : '))\n",
        "decimalToBinary(num)\n",
        "\n"
      ],
      "execution_count": 26,
      "outputs": [
        {
          "output_type": "stream",
          "text": [
            "Program for converting decimal number to its binary equivalent\n",
            "\n",
            "Enter a decimal number : 34.1994\n",
            "\n",
            "Binary equivalent of Decimal number 34.1994 is 100010.001100110000101111100000110111101101001010001\n"
          ],
          "name": "stdout"
        }
      ]
    },
    {
      "cell_type": "markdown",
      "metadata": {
        "id": "QOERHT1eIinA"
      },
      "source": [
        "# Problem 6 : \n",
        "**Write a function cubesum() that accepts an integer and returns the sum of the cubes of individual digits of that number. Use this function to make functions PrintArmstrong() and isArmstrong() to print Armstrong numbers and to find whether is an Armstrong number.**"
      ]
    },
    {
      "cell_type": "code",
      "metadata": {
        "colab": {
          "base_uri": "https://localhost:8080/"
        },
        "id": "OR-okUlpIuoX",
        "outputId": "f5f96d0e-3984-4a52-c199-45df70a5abd7"
      },
      "source": [
        "def cubesum(num):\n",
        "  sum = 0\n",
        "  while(num > 0):\n",
        "    digit = num % 10\n",
        "    cube = digit*digit*digit\n",
        "    sum += cube\n",
        "    num //= 10\n",
        "  return sum\n",
        "\n",
        "\n",
        "def PrintArmstrong():\n",
        "  l = int(input('Enter limit for armstrong numbers : '))\n",
        "  for i in range(1, 1000):\n",
        "    if (isArmstrong(i)):\n",
        "      print(i, end=' ')\n",
        "\n",
        "def isArmstrong(num):\n",
        "  flag = False\n",
        "  if num == cubesum(num):\n",
        "    flag = True\n",
        "  return flag\n",
        "\n",
        "PrintArmstrong()\n"
      ],
      "execution_count": 51,
      "outputs": [
        {
          "output_type": "stream",
          "text": [
            "Enter limit for armstrong numbers : 1000\n",
            "1 153 370 371 407 "
          ],
          "name": "stdout"
        }
      ]
    },
    {
      "cell_type": "markdown",
      "metadata": {
        "id": "tfVqxjCZOkPO"
      },
      "source": [
        "# Problem 7 : \n",
        "**Write a function prodDigits() that inputs a number and returns the product of digits of that number**"
      ]
    },
    {
      "cell_type": "code",
      "metadata": {
        "colab": {
          "base_uri": "https://localhost:8080/"
        },
        "id": "l6XVfIK7OxQU",
        "outputId": "e0ee3d8d-a324-492c-8a10-817a226eea73"
      },
      "source": [
        "def prodDigits(num):\n",
        "  product = 1\n",
        "  while(num > 1):\n",
        "    digit = num % 10\n",
        "    product *= digit\n",
        "    num //= 10\n",
        "  return product\n",
        "\n",
        "\n",
        "prodDigits(42)"
      ],
      "execution_count": 8,
      "outputs": [
        {
          "output_type": "execute_result",
          "data": {
            "text/plain": [
              "8"
            ]
          },
          "metadata": {
            "tags": []
          },
          "execution_count": 8
        }
      ]
    },
    {
      "cell_type": "markdown",
      "metadata": {
        "id": "6TfDbAfxSQVn"
      },
      "source": [
        "# Problem 8 : \n",
        "**If all digits of a number n are multiplied by each other repeating with the product, the one \n",
        "digit number obtained at last is called the multiplicative digital root of n. The number of \n",
        "times digits need to be multiplied to reach one digit is called the multiplicative \n",
        "persistance of n. \n",
        "Example: 86 -> 48 -> 32 -> 6 (MDR 6, MPersistence 3)\n",
        " 341 -> 12->2 (MDR 2, MPersistence 2)\n",
        "Using the function prodDigits() of previous exercise write functions MDR() and \n",
        "MPersistence() that input a number and return its multiplicative digital root and \n",
        "multiplicative persistence respectively**"
      ]
    },
    {
      "cell_type": "code",
      "metadata": {
        "colab": {
          "base_uri": "https://localhost:8080/"
        },
        "id": "jF5D52I2SaQu",
        "outputId": "7c8c63a2-354c-49b8-c95f-366286b3acd3"
      },
      "source": [
        "def prodDigits(num):\n",
        "  product = 1\n",
        "  while(num > 1):\n",
        "    digit = num % 10\n",
        "    product *= digit\n",
        "    num //= 10\n",
        "  return product\n",
        "\n",
        "def MPersistence(count):\n",
        "  count += 1\n",
        "  return count\n",
        "\n",
        "def MDR(num):\n",
        "  MP = 0\n",
        "  MDR = num\n",
        "  while MDR >= 10:\n",
        "    print(MDR, end=' -> ')\n",
        "    MDR = prodDigits(MDR)\n",
        "    MP = MPersistence(MP)\n",
        "\n",
        "  print(MDR,)\n",
        "  print('(MDR : {}, MPersistence : {})'.format(MDR, MP))\n",
        "\n",
        "MDR(12179)\n",
        "    "
      ],
      "execution_count": 24,
      "outputs": [
        {
          "output_type": "stream",
          "text": [
            "12179 -> 126 -> 12 -> 2\n",
            "(MDR : 2, MPersistence : 3)\n"
          ],
          "name": "stdout"
        }
      ]
    },
    {
      "cell_type": "markdown",
      "metadata": {
        "id": "g70yCz6aWRIw"
      },
      "source": [
        "# Problem 9 :\n",
        "**Write a function sumPdivisors() that finds the sum of proper divisors of a number. Proper \n",
        "divisors of a number are those numbers by which the number is divisible, except the \n",
        "number itself. For example proper divisors of 36 are 1, 2, 3, 4, 6, 9, 18**"
      ]
    },
    {
      "cell_type": "code",
      "metadata": {
        "colab": {
          "base_uri": "https://localhost:8080/"
        },
        "id": "8qSXFIqsWYEt",
        "outputId": "48899ed9-5364-46ee-f87f-9c7dc43f616a"
      },
      "source": [
        "def sumPdivisors(num):\n",
        "  sum = 0\n",
        "  for i in range (1, num):\n",
        "    if (num % i == 0):\n",
        "      sum += i\n",
        "\n",
        "  return sum\n",
        "\n",
        "sumPdivisors(12)"
      ],
      "execution_count": 29,
      "outputs": [
        {
          "output_type": "execute_result",
          "data": {
            "text/plain": [
              "16"
            ]
          },
          "metadata": {
            "tags": []
          },
          "execution_count": 29
        }
      ]
    },
    {
      "cell_type": "markdown",
      "metadata": {
        "id": "LKYuBJSjXIKZ"
      },
      "source": [
        "# Problem 10 :\n",
        "**A number is called perfect if the sum of proper divisors of that number is equal to the \n",
        "number. For example 28 is perfect number, since 1+2+4+7+14=28. Write a program to \n",
        "print all the perfect numbers in a given range**"
      ]
    },
    {
      "cell_type": "code",
      "metadata": {
        "colab": {
          "base_uri": "https://localhost:8080/"
        },
        "id": "lOtD57pbXPh2",
        "outputId": "486dc7a4-720c-4974-d171-94ab6f8718a5"
      },
      "source": [
        "def sumPdivisors(num):\n",
        "  sum = 0\n",
        "  for i in range (1, num):\n",
        "    if (num % i == 0):\n",
        "      sum += i\n",
        "\n",
        "  return sum\n",
        "\n",
        "def isPerfect(num):\n",
        "  flag = False\n",
        "  if (num == sumPdivisors(num)):\n",
        "    flag = True\n",
        "  \n",
        "  return flag\n",
        "\n",
        "l = int(input('Enter lower limit : '))\n",
        "u = int(input('Enter upper limit : '))\n",
        "\n",
        "for i in range(l, u+1):\n",
        "  if isPerfect(i):\n",
        "    print(i, end=\" \")"
      ],
      "execution_count": 36,
      "outputs": [
        {
          "output_type": "stream",
          "text": [
            "Enter lower limit : 1\n",
            "Enter upper limit : 1000\n",
            "6 28 496 "
          ],
          "name": "stdout"
        }
      ]
    },
    {
      "cell_type": "markdown",
      "metadata": {
        "id": "AjpaZ7AmYnWA"
      },
      "source": [
        "# Problem 11 : \n",
        "**Two different numbers are called amicable numbers if the sum of the proper divisors of \n",
        "each is equal to the other number. For example 220 and 284 are amicable numbers.Sum of proper divisors of 220 = 1+2+4+5+10+11+20+22+44+55+110 = 284\n",
        "Sum of proper divisors of 284 = 1+2+4+71+142 = 220\n",
        "Write a function to print pairs of amicable numbers in a range**"
      ]
    },
    {
      "cell_type": "code",
      "metadata": {
        "colab": {
          "base_uri": "https://localhost:8080/"
        },
        "id": "9ay211InYwHc",
        "outputId": "76806d96-79c7-4ac2-9b08-f32ced6ebdb0"
      },
      "source": [
        "\n",
        "def sumPdivisors(num):\n",
        "  sum = 0\n",
        "  for i in range (1, num):\n",
        "    if (num % i == 0):\n",
        "      sum += i\n",
        "\n",
        "  return sum\n",
        "\n",
        "def isAmicable(num1, num2):\n",
        "  flag = False\n",
        "  if( sumPdivisors(num1) == num2) and (sumPdivisors(num2) == num1):\n",
        "    flag = True\n",
        "  return flag\n",
        "\n",
        "# l = int(input('Enter lower limit : '))\n",
        "# u = int(input('Enter upper limit : '))\n",
        "l=1\n",
        "u=2000\n",
        "\n",
        "for i in range(l, u):\n",
        "  for j in range(i+1, u+1):\n",
        "    if isAmicable(i, j):\n",
        "      print('({},{})'.format(i,j))"
      ],
      "execution_count": 42,
      "outputs": [
        {
          "output_type": "stream",
          "text": [
            "(220,284)\n",
            "(1184,1210)\n"
          ],
          "name": "stdout"
        }
      ]
    },
    {
      "cell_type": "markdown",
      "metadata": {
        "id": "SyyAYL-qdcPN"
      },
      "source": [
        "# Problem 12 :"
      ]
    },
    {
      "cell_type": "markdown",
      "metadata": {
        "id": "zsoW7iKmdirk"
      },
      "source": [
        "# Problem 13 :"
      ]
    },
    {
      "cell_type": "markdown",
      "metadata": {
        "id": "fO449csSdfZr"
      },
      "source": [
        "# Problem 14 :"
      ]
    }
  ]
}