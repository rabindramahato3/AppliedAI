{
  "nbformat": 4,
  "nbformat_minor": 0,
  "metadata": {
    "colab": {
      "name": "PythonPracticeQuestions.ipynb",
      "provenance": [],
      "collapsed_sections": [
        "Vijea1KJT9Ib",
        "2Av_OWHhTyTR"
      ],
      "authorship_tag": "ABX9TyPSJ0d8x5UsuR2wGQ/3qwsg",
      "include_colab_link": true
    },
    "kernelspec": {
      "name": "python3",
      "display_name": "Python 3"
    },
    "language_info": {
      "name": "python"
    }
  },
  "cells": [
    {
      "cell_type": "markdown",
      "metadata": {
        "id": "view-in-github",
        "colab_type": "text"
      },
      "source": [
        "<a href=\"https://colab.research.google.com/github/rabindramahato3/AppliedAI/blob/main/PythonPracticeQuestions.ipynb\" target=\"_parent\"><img src=\"https://colab.research.google.com/assets/colab-badge.svg\" alt=\"Open In Colab\"/></a>"
      ]
    },
    {
      "cell_type": "markdown",
      "metadata": {
        "id": "Vijea1KJT9Ib"
      },
      "source": [
        "# Problem 1 : **Write a function that inputs a number and prints the multiplication table of that number**"
      ]
    },
    {
      "cell_type": "code",
      "metadata": {
        "colab": {
          "base_uri": "https://localhost:8080/"
        },
        "id": "spkKrymn9vB_",
        "outputId": "21c761ea-49eb-4b4d-c950-776cab9ff9db"
      },
      "source": [
        "# Function that inputs a number and prints the multiplication table of that number.\n",
        "\n",
        "\n",
        "def mul_table():\n",
        "  \"\"\"\n",
        "  Function to input a number and print multiplication table of the number.\n",
        "  \"\"\"\n",
        "\n",
        "  # Taking a number as input\n",
        "  num = int(input(\"Enter a number : \"))\n",
        "\n",
        "  print('\\n   Multiplication Table of {} is : \\n'.format(num))\n",
        "  \n",
        "  # loop for printing the multiplication table\n",
        "  for i in range(1, 11):\n",
        "    print('{0} x {1} = {2}'.format( num, i, num*i))\n",
        "\n",
        "# calling mul_table() function\n",
        "print('Program to input a number and print its multiplication table \\n')\n",
        "mul_table()"
      ],
      "execution_count": 48,
      "outputs": [
        {
          "output_type": "stream",
          "text": [
            "Program to input a number and print its multiplication table \n",
            "\n",
            "Enter a number : 45\n",
            "\n",
            "   Multiplication Table of 45 is : \n",
            "\n",
            "45 x 1 = 45\n",
            "45 x 2 = 90\n",
            "45 x 3 = 135\n",
            "45 x 4 = 180\n",
            "45 x 5 = 225\n",
            "45 x 6 = 270\n",
            "45 x 7 = 315\n",
            "45 x 8 = 360\n",
            "45 x 9 = 405\n",
            "45 x 10 = 450\n"
          ],
          "name": "stdout"
        }
      ]
    },
    {
      "cell_type": "markdown",
      "metadata": {
        "id": "2Av_OWHhTyTR"
      },
      "source": [
        "# Problem 2 : **Write a program to print twin primes less than 1000. If two consecutive odd numbers are both prime then they are known as twin primes.**"
      ]
    },
    {
      "cell_type": "code",
      "metadata": {
        "colab": {
          "base_uri": "https://localhost:8080/"
        },
        "id": "_upDeHfhemrA",
        "outputId": "c1459de2-4f50-4d5d-cc2f-9206dfbc443b"
      },
      "source": [
        "# Print twin primes less than 1000\n",
        "\n",
        "def check_prime(num):\n",
        "  \"\"\"\n",
        "    Function to Check Whether a number is prime or not\n",
        "  \"\"\"\n",
        "\n",
        "  # a flag variable\n",
        "  flag = False\n",
        "\n",
        "  if num > 1 :\n",
        "    for i in range (2, num):\n",
        "      if (num % i) == 0:\n",
        "        flag = True\n",
        "        break\n",
        "  return flag\n",
        "\n",
        "\n",
        "\n",
        "def twin_primes():\n",
        "  \"\"\"\n",
        "    Function to print thetwin primes less than 1000\n",
        "  \"\"\"\n",
        "  print('  Twin Primes less than 1000 : \\n')\n",
        "  # taking odd numbers less than 1000\n",
        "  for num in range(1, 1000, 2):\n",
        "    # taking numbers except 1\n",
        "    if (num > 1): \n",
        "      # check whether number is prime or not\n",
        "      if check_prime(num): \n",
        "        # not prime the continue with next number\n",
        "        continue\n",
        "      # check whether next consecutive odd number is prime or not\n",
        "      elif check_prime(num + 2):\n",
        "        continue\n",
        "      else:\n",
        "          # when consecutive odd numbers are prime, print them\n",
        "          print('({},{})'.format(num, num+2))\n",
        "\n",
        "print('Program to print twin primesless than 1000 \\n')\n",
        "# calling the function\n",
        "twin_primes()"
      ],
      "execution_count": 51,
      "outputs": [
        {
          "output_type": "stream",
          "text": [
            "Program to print twin primesless than 1000 \n",
            "\n",
            "  Twin Primes less than 1000 : \n",
            "\n",
            "(3,5)\n",
            "(5,7)\n",
            "(11,13)\n",
            "(17,19)\n",
            "(29,31)\n",
            "(41,43)\n",
            "(59,61)\n",
            "(71,73)\n",
            "(101,103)\n",
            "(107,109)\n",
            "(137,139)\n",
            "(149,151)\n",
            "(179,181)\n",
            "(191,193)\n",
            "(197,199)\n",
            "(227,229)\n",
            "(239,241)\n",
            "(269,271)\n",
            "(281,283)\n",
            "(311,313)\n",
            "(347,349)\n",
            "(419,421)\n",
            "(431,433)\n",
            "(461,463)\n",
            "(521,523)\n",
            "(569,571)\n",
            "(599,601)\n",
            "(617,619)\n",
            "(641,643)\n",
            "(659,661)\n",
            "(809,811)\n",
            "(821,823)\n",
            "(827,829)\n",
            "(857,859)\n",
            "(881,883)\n"
          ],
          "name": "stdout"
        }
      ]
    },
    {
      "cell_type": "markdown",
      "metadata": {
        "id": "EKzjOVioUFTp"
      },
      "source": [
        "# Problem 3 : **Write a program to find out the prime factors of a number. Example: prime factors of 56 - 2, 2, 2, 7**"
      ]
    },
    {
      "cell_type": "code",
      "metadata": {
        "colab": {
          "base_uri": "https://localhost:8080/"
        },
        "id": "3FKgIaBFUSCp",
        "outputId": "ce516c7b-dc2b-4af2-ecea-d3138bf082bf"
      },
      "source": [
        "# Find prime factors of a number\n",
        "\n",
        "\n",
        "\n",
        "def prime_factors():\n",
        "\n",
        "  # inputs a number\n",
        "  num = int(input(\"Enter a number : \"))\n",
        "\n",
        "  print('\\n Prime factors of {} are : '.format(num), end=\" \")\n",
        "\n",
        "  # finding all the 2's in its prime as aftewards all primes are odd\n",
        "  while (num % 2 == 0):\n",
        "    print(2, end=\", \")\n",
        "    num //= 2\n",
        "\n",
        "  # next prime number is 3\n",
        "  i = 3\n",
        "  \n",
        "  while (num > 1) and (i <= num):\n",
        "      if (num % i) == 0:\n",
        "        print(i, end=\", \")\n",
        "        num //= i\n",
        "      else:\n",
        "        # all other primes are odd \n",
        "        i += 2\n",
        "\n",
        "print('Program to find prime factors of a number \\n')\n",
        "prime_factors()\n"
      ],
      "execution_count": 125,
      "outputs": [
        {
          "output_type": "stream",
          "text": [
            "Program to find prime factors of a number \n",
            "\n",
            "Enter a number : 560\n",
            "\n",
            " Prime factors of 560 are :  2, 2, 2, 2, 5, 7, "
          ],
          "name": "stdout"
        }
      ]
    },
    {
      "cell_type": "markdown",
      "metadata": {
        "id": "zBKm5EUryJcU"
      },
      "source": [
        "# Problem 4 : **Write a program to implement these formulae of permutations and combinations. Number of permutations of n objects taken r at a time: p(n, r) = n! / (n-r)!. Number of combinations of n objects taken r at a time is: c(n, r) = n! / (r!*(n-r)!) = p(n,r) / r!**\n"
      ]
    },
    {
      "cell_type": "code",
      "metadata": {
        "colab": {
          "base_uri": "https://localhost:8080/"
        },
        "id": "kDYIq_CFydrz",
        "outputId": "d1d63404-0d74-462d-dfcb-6a5ded32199b"
      },
      "source": [
        "# Implement formulae of permutations and combinations\n",
        "\n",
        "def factorial(n):\n",
        "  \"\"\"\n",
        "    Calculate factorial of a number\n",
        "  \"\"\"\n",
        "  if n == 1:\n",
        "    return n\n",
        "  else:\n",
        "    return n * factorial(n-1)\n",
        "\n",
        "\n",
        "def p(n,r):\n",
        "  \"\"\"\n",
        "  Calculate number of permutaions for n objects taken r at a time\n",
        "  \"\"\"\n",
        "  # implementing formulae for permutations\n",
        "  no_of_permutations = factorial(n)/factorial(n-r)\n",
        "  return int(no_of_permutations)\n",
        "\n",
        "def c(n,r):\n",
        "  \"\"\"\n",
        "  Calculate number of combinations for n objects taken r at a time\n",
        "  \"\"\"\n",
        "  # implementing formulae for combinations\n",
        "  no_of_combinations = p(n,r)/factorial(r)\n",
        "  return int(no_of_combinations)\n",
        "\n",
        "\n",
        "print('Program to implement formulae of permutations and combinations')\n",
        "print(' for n objects taken r at a time \\n')\n",
        "print('formulae for p(n,r) = n!/(n-r)!')\n",
        "print('formulae for c(n,r) = n!/r!*(n-r)! = p(n,r)/r!\\n')\n",
        "\n",
        "n = int(input('Enter n : '))\n",
        "r = int(input('Enter r : '))\n",
        "\n",
        "np = p(n,r)\n",
        "nc = c(n,r)\n",
        "\n",
        "print('\\n Number of permutations for {} objects taken {} at a time is {}.'.format(n,r,np))\n",
        "print('\\n Number of combinations for {} objects taken {} at a time is {}.'.format(n,r,nc))\n"
      ],
      "execution_count": 6,
      "outputs": [
        {
          "output_type": "stream",
          "text": [
            "Program to implement formulae of permutations and combinations\n",
            " for n objects taken r at a time \n",
            "\n",
            "formulae for p(n,r) = n!/(n-r)!\n",
            "formulae for c(n,r) = n!/r!*(n-r)! = p(n,r)/r!\n",
            "\n",
            "Enter n : 6\n",
            "Enter r : 2\n",
            "\n",
            " Number of permutations for 6 objects taken 2 at a time is 30.\n",
            "\n",
            " Number of combinations for 6 objects taken 2 at a time is 15.\n"
          ],
          "name": "stdout"
        }
      ]
    }
  ]
}