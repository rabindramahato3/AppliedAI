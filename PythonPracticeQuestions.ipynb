{
  "nbformat": 4,
  "nbformat_minor": 0,
  "metadata": {
    "colab": {
      "name": "PythonPracticeQuestions.ipynb",
      "provenance": [],
      "collapsed_sections": [],
      "toc_visible": true,
      "authorship_tag": "ABX9TyOIcZ8SOX80P8HPuOQvWaFR",
      "include_colab_link": true
    },
    "kernelspec": {
      "name": "python3",
      "display_name": "Python 3"
    },
    "language_info": {
      "name": "python"
    }
  },
  "cells": [
    {
      "cell_type": "markdown",
      "metadata": {
        "id": "view-in-github",
        "colab_type": "text"
      },
      "source": [
        "<a href=\"https://colab.research.google.com/github/rabindramahato3/AppliedAI/blob/main/PythonPracticeQuestions.ipynb\" target=\"_parent\"><img src=\"https://colab.research.google.com/assets/colab-badge.svg\" alt=\"Open In Colab\"/></a>"
      ]
    },
    {
      "cell_type": "markdown",
      "metadata": {
        "id": "Vijea1KJT9Ib"
      },
      "source": [
        "# Problem 1 : \n",
        "**Write a function that inputs a number and prints the multiplication table of that number**"
      ]
    },
    {
      "cell_type": "code",
      "metadata": {
        "colab": {
          "base_uri": "https://localhost:8080/"
        },
        "id": "spkKrymn9vB_",
        "outputId": "21c761ea-49eb-4b4d-c950-776cab9ff9db"
      },
      "source": [
        "# Function that inputs a number and prints the multiplication table of that number.\n",
        "\n",
        "\n",
        "def mul_table():\n",
        "  \"\"\"\n",
        "  Function to input a number and print multiplication table of the number.\n",
        "  \"\"\"\n",
        "\n",
        "  # Taking a number as input\n",
        "  num = int(input(\"Enter a number : \"))\n",
        "\n",
        "  print('\\n   Multiplication Table of {} is : \\n'.format(num))\n",
        "  \n",
        "  # loop for printing the multiplication table\n",
        "  for i in range(1, 11):\n",
        "    print('{0} x {1} = {2}'.format( num, i, num*i))\n",
        "\n",
        "# calling mul_table() function\n",
        "print('Program to input a number and print its multiplication table \\n')\n",
        "mul_table()"
      ],
      "execution_count": null,
      "outputs": [
        {
          "output_type": "stream",
          "text": [
            "Program to input a number and print its multiplication table \n",
            "\n",
            "Enter a number : 45\n",
            "\n",
            "   Multiplication Table of 45 is : \n",
            "\n",
            "45 x 1 = 45\n",
            "45 x 2 = 90\n",
            "45 x 3 = 135\n",
            "45 x 4 = 180\n",
            "45 x 5 = 225\n",
            "45 x 6 = 270\n",
            "45 x 7 = 315\n",
            "45 x 8 = 360\n",
            "45 x 9 = 405\n",
            "45 x 10 = 450\n"
          ],
          "name": "stdout"
        }
      ]
    },
    {
      "cell_type": "markdown",
      "metadata": {
        "id": "2Av_OWHhTyTR"
      },
      "source": [
        "# Problem 2 : \n",
        "**Write a program to print twin primes less than 1000. If two consecutive odd numbers are both prime then they are known as twin primes.**"
      ]
    },
    {
      "cell_type": "code",
      "metadata": {
        "colab": {
          "base_uri": "https://localhost:8080/",
          "height": 0
        },
        "id": "_upDeHfhemrA",
        "outputId": "cd6c2a98-34e1-45c4-8565-b3addd776180"
      },
      "source": [
        "# Print twin primes less than 1000\n",
        "\n",
        "def checkPrime(num):\n",
        "  \"\"\"\n",
        "    Function to Check Whether a number is prime or not\n",
        "  \"\"\"\n",
        "\n",
        "  # boolean flag\n",
        "  prime = True\n",
        "\n",
        "  if num > 1 :\n",
        "    for i in range (2, num):\n",
        "      if (num % i) == 0:\n",
        "        prime = False\n",
        "        break\n",
        "  return prime\n",
        "\n",
        "\n",
        "\n",
        "def twinPrimes():\n",
        "  \"\"\"\n",
        "    Function to print thetwin primes less than 1000\n",
        "  \"\"\"\n",
        "  print('  Twin Primes less than 1000 : \\n')\n",
        "  # taking odd numbers less than 1000\n",
        "  for num in range(1, 1000, 2):\n",
        "    # taking numbers except 1\n",
        "    if (num > 1): \n",
        "      # check whether number is prime or not\n",
        "      if checkPrime(num): \n",
        "        if checkPrime(num+2):\n",
        "          # when consecutive odd numbers are prime, print them\n",
        "          print('({},{})'.format(num, num+2))\n",
        "\n",
        "print('Program to print twin primesless than 1000 \\n')\n",
        "# calling the function\n",
        "twinPrimes()"
      ],
      "execution_count": 3,
      "outputs": [
        {
          "output_type": "stream",
          "text": [
            "Program to print twin primesless than 1000 \n",
            "\n",
            "  Twin Primes less than 1000 : \n",
            "\n",
            "(3,5)\n",
            "(5,7)\n",
            "(11,13)\n",
            "(17,19)\n",
            "(29,31)\n",
            "(41,43)\n",
            "(59,61)\n",
            "(71,73)\n",
            "(101,103)\n",
            "(107,109)\n",
            "(137,139)\n",
            "(149,151)\n",
            "(179,181)\n",
            "(191,193)\n",
            "(197,199)\n",
            "(227,229)\n",
            "(239,241)\n",
            "(269,271)\n",
            "(281,283)\n",
            "(311,313)\n",
            "(347,349)\n",
            "(419,421)\n",
            "(431,433)\n",
            "(461,463)\n",
            "(521,523)\n",
            "(569,571)\n",
            "(599,601)\n",
            "(617,619)\n",
            "(641,643)\n",
            "(659,661)\n",
            "(809,811)\n",
            "(821,823)\n",
            "(827,829)\n",
            "(857,859)\n",
            "(881,883)\n"
          ],
          "name": "stdout"
        }
      ]
    },
    {
      "cell_type": "markdown",
      "metadata": {
        "id": "EKzjOVioUFTp"
      },
      "source": [
        "# Problem 3 : \n",
        "**Write a program to find out the prime factors of a number. Example: prime factors of 56 - 2, 2, 2, 7**"
      ]
    },
    {
      "cell_type": "code",
      "metadata": {
        "colab": {
          "base_uri": "https://localhost:8080/"
        },
        "id": "3FKgIaBFUSCp",
        "outputId": "eafe1c62-005e-4187-a56f-5804defdfddb"
      },
      "source": [
        "# Find prime factors of a number\n",
        "\n",
        "\n",
        "\n",
        "def primeFactors():\n",
        "\n",
        "  # inputs a number\n",
        "  num = int(input(\"Enter a number : \"))\n",
        "\n",
        "  print('\\n Prime factors of {} are : '.format(num), end=\" \")\n",
        "\n",
        "  # finding all the 2's in its prime as number becomes odd after that\n",
        "  # all other primes are odd\n",
        "  while (num % 2 == 0):\n",
        "    print(2, end=\", \")\n",
        "    num //= 2\n",
        "\n",
        "  # next prime number is 3\n",
        "  i = 3\n",
        "  \n",
        "  while (num > 1) and (i < num):\n",
        "      if (num % i) == 0:\n",
        "        print(i, end=\", \")\n",
        "        num //= i\n",
        "      else:\n",
        "        # all other primes are odd \n",
        "        i += 2\n",
        "        \n",
        "  # prints the last factor\n",
        "  if num > 2 :\n",
        "    print(num)\n",
        "print('Program to find prime factors of a number \\n')\n",
        "primeFactors()\n"
      ],
      "execution_count": null,
      "outputs": [
        {
          "output_type": "stream",
          "text": [
            "Program to find prime factors of a number \n",
            "\n",
            "Enter a number : 1331\n",
            "\n",
            " Prime factors of 1331 are :  11, 11, 11\n"
          ],
          "name": "stdout"
        }
      ]
    },
    {
      "cell_type": "markdown",
      "metadata": {
        "id": "zBKm5EUryJcU"
      },
      "source": [
        "# Problem 4 : \n",
        "**Write a program to implement these formulae of permutations and combinations. Number of permutations of n objects taken r at a time: p(n, r) = n! / (n-r)!. Number of combinations of n objects taken r at a time is: c(n, r) = n! / (r!*(n-r)!) = p(n,r) / r!**\n"
      ]
    },
    {
      "cell_type": "code",
      "metadata": {
        "colab": {
          "base_uri": "https://localhost:8080/",
          "height": 0
        },
        "id": "kDYIq_CFydrz",
        "outputId": "2461dd88-85c6-4106-b363-5fd116cb34f3"
      },
      "source": [
        "# Implement formulae of permutations and combinations\n",
        "\n",
        "def factorial(n):\n",
        "  \"\"\"\n",
        "    Calculate factorial of a number\n",
        "  \"\"\"\n",
        "  if n == 1:\n",
        "    return n\n",
        "  else:\n",
        "    return n * factorial(n-1)\n",
        "\n",
        "\n",
        "def p(n,r):\n",
        "  \"\"\"\n",
        "  Calculate number of permutaions for n objects taken r at a time\n",
        "  \"\"\"\n",
        "  # implementing formulae for permutations\n",
        "  no_of_permutations = factorial(n)//factorial(n-r)\n",
        "  return no_of_permutations\n",
        "\n",
        "def c(n,r):\n",
        "  \"\"\"\n",
        "  Calculate number of combinations for n objects taken r at a time\n",
        "  \"\"\"\n",
        "  # implementing formulae for combinations\n",
        "  no_of_combinations = p(n,r)//factorial(r)\n",
        "  return no_of_combinations\n",
        "\n",
        "\n",
        "print('Program to implement formulae of permutations and combinations')\n",
        "print(' for n objects taken r at a time \\n')\n",
        "print('formulae for p(n,r) = n!/(n-r)!')\n",
        "print('formulae for c(n,r) = n!/r!*(n-r)! = p(n,r)/r!\\n')\n",
        "\n",
        "n = int(input('Enter n : '))\n",
        "r = int(input('Enter r : '))\n",
        "\n",
        "np = p(n,r)\n",
        "nc = c(n,r)\n",
        "\n",
        "print('\\n Number of permutations for {} objects taken {} at a time is {}.'.format(n,r,np))\n",
        "print('\\n Number of combinations for {} objects taken {} at a time is {}.'.format(n,r,nc))\n"
      ],
      "execution_count": 2,
      "outputs": [
        {
          "output_type": "stream",
          "text": [
            "Program to implement formulae of permutations and combinations\n",
            " for n objects taken r at a time \n",
            "\n",
            "formulae for p(n,r) = n!/(n-r)!\n",
            "formulae for c(n,r) = n!/r!*(n-r)! = p(n,r)/r!\n",
            "\n",
            "Enter n : 5\n",
            "Enter r : 2\n",
            "\n",
            " Number of permutations for 5 objects taken 2 at a time is 20.\n",
            "\n",
            " Number of combinations for 5 objects taken 2 at a time is 10.\n"
          ],
          "name": "stdout"
        }
      ]
    },
    {
      "cell_type": "markdown",
      "metadata": {
        "id": "POOJdmEH-fAG"
      },
      "source": [
        "# Problem 5 : \n",
        "**Write a function that converts a decimal number to binary number**"
      ]
    },
    {
      "cell_type": "code",
      "metadata": {
        "colab": {
          "base_uri": "https://localhost:8080/",
          "height": 0
        },
        "id": "lWVblXJu-qye",
        "outputId": "bc8d3ad4-0e3c-4ff1-90db-a9f54df6812a"
      },
      "source": [
        "# function that converts a decimal number to binary number\n",
        "\n",
        "def DecimalToBinary(num):\n",
        "  \n",
        "  # seperating integral and fractional part from the decimal\n",
        "  integral = int(num)\n",
        "  fractional = num - integral\n",
        "  \n",
        "  # store the binary number\n",
        "  binary =\"\"\n",
        "\n",
        "  # calculating binary value of integral part\n",
        "  while(integral > 0):\n",
        "    remainder = integral % 2\n",
        "    integral //= 2\n",
        "    binary += str(remainder)\n",
        "\n",
        "  # reversing the integral part binary\n",
        "  binary = binary[::-1]\n",
        "\n",
        "  # adding . to binary output\n",
        "  binary += '.'\n",
        "\n",
        "  \n",
        "  # calculating binary value of fractional part\n",
        "  while(fractional != 0):\n",
        "    fractional = fractional * 2\n",
        "    remainder = int(fractional)\n",
        "    fractional = fractional - remainder\n",
        "    binary += str(remainder)\n",
        "\n",
        "  # print the binary value\n",
        "  print('\\nBinary equivalent of Decimal number {} is {}'.format(num, binary))  \n",
        "\n",
        "\n",
        "print('Program for converting decimal number to its binary equivalent\\n')\n",
        "num = float(input('Enter a decimal number : '))\n",
        "DecimalToBinary(num)\n",
        "\n"
      ],
      "execution_count": 5,
      "outputs": [
        {
          "output_type": "stream",
          "text": [
            "Program for converting decimal number to its binary equivalent\n",
            "\n",
            "Enter a decimal number : 5.5\n",
            "\n",
            "Binary equivalent of Decimal number 5.5 is 101.1\n"
          ],
          "name": "stdout"
        }
      ]
    },
    {
      "cell_type": "markdown",
      "metadata": {
        "id": "QOERHT1eIinA"
      },
      "source": [
        "# Problem 6 : \n",
        "**Write a function cubesum() that accepts an integer and returns the sum of the cubes of individual digits of that number. Use this function to make functions PrintArmstrong() and isArmstrong() to print Armstrong numbers and to find whether is an Armstrong number.**"
      ]
    },
    {
      "cell_type": "code",
      "metadata": {
        "colab": {
          "base_uri": "https://localhost:8080/"
        },
        "id": "OR-okUlpIuoX",
        "outputId": "2977500b-f064-4ac3-90d2-93810d9783d1"
      },
      "source": [
        "# write cubesum() function thats returns the sum of cubes of digits of a number\n",
        "# use cubesum() function to make isArmstrong() function to find whether a number is Armstrong number or not\n",
        "# Print armstrong numbers in a range using PrintArmstrong() function\n",
        "\n",
        "\n",
        "def cubesum(num):\n",
        "  \"\"\"\n",
        "  Function that returns sum of cubes of individual digits of a number\n",
        "  \"\"\"\n",
        "  # initializing avariable sum as 0\n",
        "  sum = 0\n",
        "  while(num > 0):\n",
        "    # finding digits, calculating cube, adding them till all digits are processed \n",
        "    digit = num % 10\n",
        "    cube = digit*digit*digit\n",
        "    sum += cube\n",
        "    num //= 10\n",
        "\n",
        "  return sum\n",
        "\n",
        "\n",
        "def isArmstrong(num):\n",
        "  \"\"\"\n",
        "  function that checks whether a number is armstrong or not.\n",
        "  \"\"\"\n",
        "  armstrong = False\n",
        "  if num == cubesum(num):\n",
        "    armstrong = True\n",
        "    \n",
        "  return armstrong\n",
        "\n",
        "\n",
        "\n",
        "def PrintArmstrong(lower, upper):\n",
        "  \"\"\"\n",
        "  function to print armstrong numbers in a range\n",
        "  \"\"\"\n",
        "  print('\\nArmstrong numbers between {} and {} are -'.format(lower,upper))\n",
        "  for i in range(lower, upper+1):\n",
        "    if (isArmstrong(i)):\n",
        "      print(i, end=', ')\n",
        "    \n",
        "\n",
        "print('Program to print armstrong numbers between a range.\\n')\n",
        "print('-: Give a range for armstrong numbers to be printed :- ')\n",
        "lower = int(input('Enter lower limit : '))\n",
        "upper = int(input('Enter upper limit : '))\n",
        "PrintArmstrong(lower, upper)\n"
      ],
      "execution_count": null,
      "outputs": [
        {
          "output_type": "stream",
          "text": [
            "Program to print armstrong numbers between a range.\n",
            "\n",
            "-: Give a range for armstrong numbers to be printed :- \n",
            "Enter lower limit : 1\n",
            "Enter upper limit : 1000\n",
            "\n",
            "Armstrong numbers between 1 and 1000 are -\n",
            "1, 153, 370, 371, 407, "
          ],
          "name": "stdout"
        }
      ]
    },
    {
      "cell_type": "markdown",
      "metadata": {
        "id": "tfVqxjCZOkPO"
      },
      "source": [
        "# Problem 7 : \n",
        "**Write a function prodDigits() that inputs a number and returns the product of digits of that number**"
      ]
    },
    {
      "cell_type": "code",
      "metadata": {
        "colab": {
          "base_uri": "https://localhost:8080/"
        },
        "id": "l6XVfIK7OxQU",
        "outputId": "ca35c008-a837-4c88-d20f-d1d382d04cfa"
      },
      "source": [
        "# create function prodDigits() that returns the product of digits of a number\n",
        "\n",
        "def prodDigits(num):\n",
        "  \"\"\"\n",
        "  function that returns the productof digits of a number\n",
        "  \"\"\"\n",
        "  product = 1\n",
        "  while(num > 1):\n",
        "    digit = num % 10\n",
        "    product *= digit\n",
        "    num //= 10\n",
        "    \n",
        "  return product\n",
        "\n",
        "\n",
        "\n",
        "print('Program for printing product of the digits of a given number\\n')\n",
        "num = int(input('Enter a number  : '))\n",
        "prod = prodDigits(num)\n",
        "print('\\nProduct of digits of the number {} is {}.'.format(num,prod))"
      ],
      "execution_count": null,
      "outputs": [
        {
          "output_type": "stream",
          "text": [
            "Program for printing product of the digits of a given number\n",
            "\n",
            "Enter a number  : 546\n",
            "\n",
            "Product of digits of the number 546 is 120.\n"
          ],
          "name": "stdout"
        }
      ]
    },
    {
      "cell_type": "markdown",
      "metadata": {
        "id": "6TfDbAfxSQVn"
      },
      "source": [
        "# Problem 8 : \n",
        "**If all digits of a number n are multiplied by each other repeating with the product, the one \n",
        "digit number obtained at last is called the multiplicative digital root of n. The number of \n",
        "times digits need to be multiplied to reach one digit is called the multiplicative \n",
        "persistance of n. \n",
        "Example: 86 -> 48 -> 32 -> 6 (MDR 6, MPersistence 3)\n",
        " 341 -> 12->2 (MDR 2, MPersistence 2)\n",
        "Using the function prodDigits() of previous exercise write functions MDR() and \n",
        "MPersistence() that input a number and return its multiplicative digital root and \n",
        "multiplicative persistence respectively**"
      ]
    },
    {
      "cell_type": "code",
      "metadata": {
        "colab": {
          "base_uri": "https://localhost:8080/"
        },
        "id": "jF5D52I2SaQu",
        "outputId": "7b2c3c4b-727b-4da2-a50e-d131df8d7f5e"
      },
      "source": [
        "def prodDigits(num):\n",
        "  \"\"\"\n",
        "  function that returns the product of digits of a number\n",
        "  \"\"\"\n",
        "  product = 1\n",
        "  while(num > 1):\n",
        "    digit = num % 10\n",
        "    product *= digit\n",
        "    num //= 10\n",
        "\n",
        "  return product\n",
        "\n",
        "def MPersistence(num):\n",
        "  \"\"\"\n",
        "  function to find multiplicative persistance \n",
        "  \"\"\"\n",
        "  mp = 0\n",
        "  while num > 9:\n",
        "    num = prodDigits(num)\n",
        "    mp += 1\n",
        "  return mp\n",
        "\n",
        "def MDR(num):\n",
        "  \"\"\"\n",
        "  function to find the multiplicative digital root\n",
        "  \"\"\"\n",
        "  while num > 9:\n",
        "    print(num, end=' -> ')\n",
        "    num = prodDigits(num)\n",
        "  \n",
        "  return num\n",
        "\n",
        "  \n",
        "print('Program to find the multiplicative digital root(MDR) and multiplicative persistance(MPersistance) of a number\\n')\n",
        "num = int(input('Enter a number : '))\n",
        "\n",
        "print('\\n-: MDR and Mpersistance for {} :- '.format(num))\n",
        "mdr = MDR(num)\n",
        "mp = MPersistence(num)\n",
        "print('(MDR : {}, MPersistence : {})'.format(mdr, mp))\n",
        "    "
      ],
      "execution_count": null,
      "outputs": [
        {
          "output_type": "stream",
          "text": [
            "Program to find the multiplicative digital root(MDR) and multiplicative persistance(MPersistance) of a number\n",
            "\n",
            "Enter a number : 679\n",
            "\n",
            "-: MDR and Mpersistance for 679 :- \n",
            "679 -> 378 -> 168 -> 48 -> 32 -> (MDR : 6, MPersistence : 5)\n"
          ],
          "name": "stdout"
        }
      ]
    },
    {
      "cell_type": "markdown",
      "metadata": {
        "id": "g70yCz6aWRIw"
      },
      "source": [
        "# Problem 9 :\n",
        "**Write a function sumPdivisors() that finds the sum of proper divisors of a number. Proper \n",
        "divisors of a number are those numbers by which the number is divisible, except the \n",
        "number itself. For example proper divisors of 36 are 1, 2, 3, 4, 6, 9, 18**"
      ]
    },
    {
      "cell_type": "code",
      "metadata": {
        "colab": {
          "base_uri": "https://localhost:8080/"
        },
        "id": "8qSXFIqsWYEt",
        "outputId": "a34c36ed-7114-44d0-eea1-1d0e81186de4"
      },
      "source": [
        "# create function sumDivisors() that finds sum of proper divisors of a number\n",
        "\n",
        "def sumPdivisors(num):\n",
        "  \"\"\"\n",
        "  function that returns sum of proper divisors of a number\n",
        "  \"\"\"\n",
        "  print('\\nProper divisors of {} are '.format(num))\n",
        "  sum = 0\n",
        "  for i in range (1, num):\n",
        "    if (num % i == 0):\n",
        "      print(i, end=', ')\n",
        "      sum += i\n",
        "  return sum\n",
        "\n",
        "print('Program to find Proper divisors of a number and find its sum\\n')\n",
        "num = int(input('Enter a number : '))\n",
        "sum = sumPdivisors(num)\n",
        "\n",
        "print('\\n\\nSum of Proper Divisors of {} is {}.'.format(num,sum))"
      ],
      "execution_count": 41,
      "outputs": [
        {
          "output_type": "stream",
          "text": [
            "Program to find Proper divisors of a number and find its sum\n",
            "\n",
            "Enter a number : 35\n",
            "\n",
            "Proper divisors of 35 are \n",
            "1, 5, 7, \n",
            "\n",
            "Sum of Proper Divisors of 35 is 13.\n"
          ],
          "name": "stdout"
        }
      ]
    },
    {
      "cell_type": "markdown",
      "metadata": {
        "id": "LKYuBJSjXIKZ"
      },
      "source": [
        "# Problem 10 :\n",
        "**A number is called perfect if the sum of proper divisors of that number is equal to the \n",
        "number. For example 28 is perfect number, since 1+2+4+7+14=28. Write a program to \n",
        "print all the perfect numbers in a given range**"
      ]
    },
    {
      "cell_type": "code",
      "metadata": {
        "colab": {
          "base_uri": "https://localhost:8080/"
        },
        "id": "lOtD57pbXPh2",
        "outputId": "804cb1a6-23b3-4375-dc4b-758181feb0e2"
      },
      "source": [
        "# using sumPdivisors() function to check whether a number is perfect or not\n",
        "\n",
        "def sumPdivisors(num):\n",
        "  \"\"\"\n",
        "  function that returns sum of proper divisors of a number\n",
        "  \"\"\"\n",
        "  sum = 0\n",
        "  for i in range (1, num):\n",
        "    if (num % i == 0):\n",
        "      sum += i\n",
        "\n",
        "  return sum\n",
        "\n",
        "def isPerfect(num):\n",
        "  \"\"\"\n",
        "  function that checks whether an number is perfect or not\n",
        "  \"\"\"\n",
        "  perfect = False\n",
        "  if (num == sumPdivisors(num)):\n",
        "    perfect = True\n",
        "  \n",
        "  return perfect\n",
        "\n",
        "\n",
        "\n",
        "print('Program to print perfect numbers in a range\\n')\n",
        "print('-: Give the range for printing perfect numbers :-')\n",
        "lower = int(input('Enter lower limit : '))\n",
        "upper = int(input('Enter upper limit : '))\n",
        "\n",
        "\n",
        "print('\\nPerfect numbers between {} and {} are -'.format(lower, upper))\n",
        "for i in range(lower, upper+1):\n",
        "  if isPerfect(i):\n",
        "    print(i, end=\", \")"
      ],
      "execution_count": null,
      "outputs": [
        {
          "output_type": "stream",
          "text": [
            "Program to print perfect numbers in a range\n",
            "\n",
            "-: Give the range for printing perfect numbers :-\n",
            "Enter lower limit : 1\n",
            "Enter upper limit : 500\n",
            "\n",
            "Perfect numbers between 1 and 500 are -\n",
            "6, 28, 496, "
          ],
          "name": "stdout"
        }
      ]
    },
    {
      "cell_type": "markdown",
      "metadata": {
        "id": "AjpaZ7AmYnWA"
      },
      "source": [
        "# Problem 11 : \n",
        "**Two different numbers are called amicable numbers if the sum of the proper divisors of \n",
        "each is equal to the other number. For example 220 and 284 are amicable numbers.Sum of proper divisors of 220 = 1+2+4+5+10+11+20+22+44+55+110 = 284\n",
        "Sum of proper divisors of 284 = 1+2+4+71+142 = 220\n",
        "Write a function to print pairs of amicable numbers in a range**"
      ]
    },
    {
      "cell_type": "code",
      "metadata": {
        "colab": {
          "base_uri": "https://localhost:8080/"
        },
        "id": "9ay211InYwHc",
        "outputId": "4088d162-338e-4508-a797-f2cbd0535cb5"
      },
      "source": [
        "# print pairs of amicable numbers in range\n",
        "\n",
        "def sumPdivisors(num):\n",
        "  \"\"\"\n",
        "  fumction to find sum of divisors of a number\n",
        "  \"\"\"\n",
        "  sum = 0\n",
        "  for i in range (1, num):\n",
        "    if (num % i == 0):\n",
        "      sum += i\n",
        "\n",
        "  return sum\n",
        "\n",
        "\n",
        "def isAmicable(num1, num2):\n",
        "  \"\"\"\n",
        "  function to check whether two numbers are amicable or not\n",
        "  \"\"\"\n",
        "  amicable = False\n",
        "  if( sumPdivisors(num1) == num2):\n",
        "    if(sumPdivisors(num2) == num1):\n",
        "      amicable = True\n",
        "  return amicable\n",
        "\n",
        "\n",
        "\n",
        "print('Program to find amicable pairs in a range\\n')\n",
        "\n",
        "print('-: Give range for printing amicable numbers :-')\n",
        "lower = int(input('Enter lower limit : '))\n",
        "upper = int(input('Enter upper limit : '))\n",
        "\n",
        "\n",
        "print('\\nAmicable number between {} and {} are -'.format(lower, upper))\n",
        "for num1 in range(lower, upper):\n",
        "  for num2 in range(num1+1, upper+1):\n",
        "    if isAmicable(num1, num2):\n",
        "      print('({},{})'.format(num1,num2), end=\" \")"
      ],
      "execution_count": 17,
      "outputs": [
        {
          "output_type": "stream",
          "text": [
            "Program to find amicable pairs in a range\n",
            "\n",
            "-: Give range for printing amicable numbers :-\n",
            "Enter lower limit : 1\n",
            "Enter upper limit : 2000\n",
            "\n",
            "Amicable number between 1 and 2000 are -\n",
            "(220,284) (1184,1210) "
          ],
          "name": "stdout"
        }
      ]
    },
    {
      "cell_type": "markdown",
      "metadata": {
        "id": "SyyAYL-qdcPN"
      },
      "source": [
        "# Problem 12 :\n",
        "**Write a program which can filter odd numbers in a list by using filter function**"
      ]
    },
    {
      "cell_type": "code",
      "metadata": {
        "colab": {
          "base_uri": "https://localhost:8080/"
        },
        "id": "5XBTEjrttTMe",
        "outputId": "819ceecc-e447-41cd-fabb-f0c0a900ecac"
      },
      "source": [
        "# use filter() function to filter odd numbers in list\n",
        "\n",
        "def isOdd(num):\n",
        "  \"\"\"\n",
        "  find the number is odd or not\n",
        "  \"\"\"\n",
        "  if num % 2 is not 0 :\n",
        "    return True\n",
        "  else:\n",
        "    return False\n",
        "\n",
        "print('Program to filter odd numbers in a list \\n')\n",
        "num_list = range(-5, 5)\n",
        "odd_list = list(filter(isOdd, num_list))\n",
        "print('List Taken : ', list(num_list))\n",
        "print('Filtered List : ', odd_list)\n"
      ],
      "execution_count": 46,
      "outputs": [
        {
          "output_type": "stream",
          "text": [
            "Program to filter odd numbers in a list \n",
            "\n",
            "List Taken :  [-5, -4, -3, -2, -1, 0, 1, 2, 3, 4]\n",
            "Filtered List :  [-5, -3, -1, 1, 3]\n"
          ],
          "name": "stdout"
        }
      ]
    },
    {
      "cell_type": "markdown",
      "metadata": {
        "id": "zsoW7iKmdirk"
      },
      "source": [
        "# Problem 13 :\n",
        "**Write a program which can map() to make a list whose elements are cube of elements in \n",
        "a given list**"
      ]
    },
    {
      "cell_type": "code",
      "metadata": {
        "colab": {
          "base_uri": "https://localhost:8080/"
        },
        "id": "K_9NbKTuyCZK",
        "outputId": "c40b3787-eae4-4af9-ea43-5341a5be3265"
      },
      "source": [
        "# use map() function to cube elements in a given list\n",
        "\n",
        "num_list = range(-5, 5)\n",
        "cube_list = list(map(lambda x : x**2, num_list))\n",
        "\n",
        "print('Program to cube the elements in a list \\n')\n",
        "num_list = range(-5, 5)\n",
        "odd_list = list(filter(isOdd, num_list))\n",
        "print('List Taken : ', list(num_list))\n",
        "print('Cube List : ', cube_list)"
      ],
      "execution_count": 48,
      "outputs": [
        {
          "output_type": "stream",
          "text": [
            "Program to cube the elements in a list \n",
            "\n",
            "List Taken :  [-5, -4, -3, -2, -1, 0, 1, 2, 3, 4]\n",
            "Cube List :  [25, 16, 9, 4, 1, 0, 1, 4, 9, 16]\n"
          ],
          "name": "stdout"
        }
      ]
    },
    {
      "cell_type": "markdown",
      "metadata": {
        "id": "fO449csSdfZr"
      },
      "source": [
        "# Problem 14 :\n",
        "**Write a program which can map() and filter() to make a list whose elements are cube of \n",
        "even number in a given list**"
      ]
    },
    {
      "cell_type": "code",
      "metadata": {
        "colab": {
          "base_uri": "https://localhost:8080/"
        },
        "id": "tCP3iysMy07F",
        "outputId": "e8596080-92d8-4206-e2a0-ffc8a0c971a8"
      },
      "source": [
        "# use map() and filter() to make a list whose elements are cube of even number in a given list\n",
        "\n",
        "def cube(num):\n",
        "  return num**3\n",
        "\n",
        "num_list = range(-3, 3)\n",
        "even_cube_list = map(cube, filter(lambda x: x%2 is 0, num_list))\n",
        "\n",
        "print('Program to make list whose elements are cube of even number in a list\\n')\n",
        "print('List Taken : ',list(num_list))\n",
        "print('Even Cube List : ',list(even_cube_list))"
      ],
      "execution_count": 50,
      "outputs": [
        {
          "output_type": "stream",
          "text": [
            "Program to make list whose elements are cube of even number in a list\n",
            "\n",
            "List Taken :  [-3, -2, -1, 0, 1, 2]\n",
            "Even Cube List :  [-8, 0, 8]\n"
          ],
          "name": "stdout"
        }
      ]
    }
  ]
}