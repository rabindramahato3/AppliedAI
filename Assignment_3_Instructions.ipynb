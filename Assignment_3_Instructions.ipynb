{
  "nbformat": 4,
  "nbformat_minor": 0,
  "metadata": {
    "colab": {
      "name": "Copy of Assignment_3_Instructions.ipynb",
      "provenance": [],
      "collapsed_sections": [],
      "include_colab_link": true
    },
    "kernelspec": {
      "display_name": "Python 3",
      "language": "python",
      "name": "python3"
    },
    "language_info": {
      "codemirror_mode": {
        "name": "ipython",
        "version": 3
      },
      "file_extension": ".py",
      "mimetype": "text/x-python",
      "name": "python",
      "nbconvert_exporter": "python",
      "pygments_lexer": "ipython3",
      "version": "3.7.1"
    }
  },
  "cells": [
    {
      "cell_type": "markdown",
      "metadata": {
        "id": "view-in-github",
        "colab_type": "text"
      },
      "source": [
        "<a href=\"https://colab.research.google.com/github/rabindramahato3/AppliedAI/blob/main/Assignment_3_Instructions.ipynb\" target=\"_parent\"><img src=\"https://colab.research.google.com/assets/colab-badge.svg\" alt=\"Open In Colab\"/></a>"
      ]
    },
    {
      "cell_type": "markdown",
      "metadata": {
        "id": "h9464I-uxLiw"
      },
      "source": [
        "# Assignment"
      ]
    },
    {
      "cell_type": "markdown",
      "metadata": {
        "id": "IvLvmewlxLix"
      },
      "source": [
        "<font face='georgia'>\n",
        "    \n",
        "   <h4><strong>What does tf-idf mean?</strong></h4>\n",
        "\n",
        "   <p>    \n",
        "Tf-idf stands for <em>term frequency-inverse document frequency</em>, and the tf-idf weight is a weight often used in information retrieval and text mining. This weight is a statistical measure used to evaluate how important a word is to a document in a collection or corpus. The importance increases proportionally to the number of times a word appears in the document but is offset by the frequency of the word in the corpus. Variations of the tf-idf weighting scheme are often used by search engines as a central tool in scoring and ranking a document's relevance given a user query.\n",
        "</p>\n",
        "    \n",
        "   <p>\n",
        "One of the simplest ranking functions is computed by summing the tf-idf for each query term; many more sophisticated ranking functions are variants of this simple model.\n",
        "</p>\n",
        "    \n",
        "   <p>\n",
        "Tf-idf can be successfully used for stop-words filtering in various subject fields including text summarization and classification.\n",
        "</p>\n",
        "    \n",
        "</font>"
      ]
    },
    {
      "cell_type": "markdown",
      "metadata": {
        "id": "4XLaGFUMxLiy"
      },
      "source": [
        "<font face='georgia'>\n",
        "    <h4><strong>How to Compute:</strong></h4>\n",
        "\n",
        "Typically, the tf-idf weight is composed by two terms: the first computes the normalized Term Frequency (TF), aka. the number of times a word appears in a document, divided by the total number of words in that document; the second term is the Inverse Document Frequency (IDF), computed as the logarithm of the number of the documents in the corpus divided by the number of documents where the specific term appears.\n",
        "\n",
        " <ul>\n",
        "    <li>\n",
        "<strong>TF:</strong> Term Frequency, which measures how frequently a term occurs in a document. Since every document is different in length, it is possible that a term would appear much more times in long documents than shorter ones. Thus, the term frequency is often divided by the document length (aka. the total number of terms in the document) as a way of normalization: <br>\n",
        "\n",
        "$TF(t) = \\frac{\\text{Number of times term t appears in a document}}{\\text{Total number of terms in the document}}.$\n",
        "</li>\n",
        "<li>\n",
        "<strong>IDF:</strong> Inverse Document Frequency, which measures how important a term is. While computing TF, all terms are considered equally important. However it is known that certain terms, such as \"is\", \"of\", and \"that\", may appear a lot of times but have little importance. Thus we need to weigh down the frequent terms while scale up the rare ones, by computing the following: <br>\n",
        "\n",
        "$IDF(t) = \\log_{e}\\frac{\\text{Total  number of documents}} {\\text{Number of documents with term t in it}}.$\n",
        "for numerical stabiltiy we will be changing this formula little bit\n",
        "$IDF(t) = \\log_{e}\\frac{\\text{Total  number of documents}} {\\text{Number of documents with term t in it}+1}.$\n",
        "</li>\n",
        "</ul>\n",
        "\n",
        "<br>\n",
        "<h4><strong>Example</strong></h4>\n",
        "<p>\n",
        "\n",
        "Consider a document containing 100 words wherein the word cat appears 3 times. The term frequency (i.e., tf) for cat is then (3 / 100) = 0.03. Now, assume we have 10 million documents and the word cat appears in one thousand of these. Then, the inverse document frequency (i.e., idf) is calculated as log(10,000,000 / 1,000) = 4. Thus, the Tf-idf weight is the product of these quantities: 0.03 * 4 = 0.12.\n",
        "</p>\n",
        "</font>"
      ]
    },
    {
      "cell_type": "markdown",
      "metadata": {
        "id": "dg2ooa4DxLiz"
      },
      "source": [
        "## Task-1"
      ]
    },
    {
      "cell_type": "markdown",
      "metadata": {
        "id": "TAcTjhO8xLiz"
      },
      "source": [
        "<font face='georgia'>\n",
        "    <h4><strong>1. Build a TFIDF Vectorizer & compare its results with Sklearn:</strong></h4>\n",
        "\n",
        "<ul>\n",
        "    <li> As a part of this task you will be implementing TFIDF vectorizer on a collection of text documents.</li>\n",
        "    <br>\n",
        "    <li> You should compare the results of your own implementation of TFIDF vectorizer with that of sklearns implemenation TFIDF vectorizer.</li>\n",
        "    <br>\n",
        "    <li> Sklearn does few more tweaks in the implementation of its version of TFIDF vectorizer, so to replicate the exact results you would need to add following things to your custom implementation of tfidf vectorizer:\n",
        "       <ol>\n",
        "        <li> Sklearn has its vocabulary generated from idf sroted in alphabetical order</li>\n",
        "        <li> Sklearn formula of idf is different from the standard textbook formula. Here the constant <strong>\"1\"</strong> is added to the numerator and denominator of the idf as if an extra document was seen containing every term in the collection exactly once, which prevents zero divisions.\n",
        "            \n",
        " $IDF(t) = 1+\\log_{e}\\frac{1\\text{ }+\\text{ Total  number of documents in collection}} {1+\\text{Number of documents with term t in it}}.$\n",
        "        </li>\n",
        "        <li> Sklearn applies L2-normalization on its output matrix.</li>\n",
        "        <li> The final output of sklearn tfidf vectorizer is a sparse matrix.</li>\n",
        "    </ol>\n",
        "    <br>\n",
        "    <li>Steps to approach this task:\n",
        "    <ol>\n",
        "        <li> You would have to write both fit and transform methods for your custom implementation of tfidf vectorizer.</li>\n",
        "        <li> Print out the alphabetically sorted voacb after you fit your data and check if its the same as that of the feature names from sklearn tfidf vectorizer. </li>\n",
        "        <li> Print out the idf values from your implementation and check if its the same as that of sklearns tfidf vectorizer idf values. </li>\n",
        "        <li> Once you get your voacb and idf values to be same as that of sklearns implementation of tfidf vectorizer, proceed to the below steps. </li>\n",
        "        <li> Make sure the output of your implementation is a sparse matrix. Before generating the final output, you need to normalize your sparse matrix using L2 normalization. You can refer to this link https://scikit-learn.org/stable/modules/generated/sklearn.preprocessing.normalize.html </li>\n",
        "        <li> After completing the above steps, print the output of your custom implementation and compare it with sklearns implementation of tfidf vectorizer.</li>\n",
        "        <li> To check the output of a single document in your collection of documents,  you can convert the sparse matrix related only to that document into dense matrix and print it.</li>\n",
        "        </ol>\n",
        "    </li>\n",
        "    <br>\n",
        "   </ul>\n",
        "\n",
        "  <p> <font color=\"#e60000\"><strong>Note-1: </strong></font> All the necessary outputs of sklearns tfidf vectorizer have been provided as reference in this notebook, you can compare your outputs as mentioned in the above steps, with these outputs.<br>\n",
        "   <font color=\"#e60000\"><strong>Note-2: </strong></font> The output of your custom implementation and that of sklearns implementation would match only with the collection of document strings provided to you as reference in this notebook. It would not match for strings that contain capital letters or punctuations, etc, because sklearn version of tfidf vectorizer deals with such strings in a different way. To know further details about how sklearn tfidf vectorizer works with such string, you can always refer to its official documentation.<br>\n",
        "   <font color=\"#e60000\"><strong>Note-3: </strong></font> During this task, it would be helpful for you to debug the code you write with print statements wherever necessary. But when you are finally submitting the assignment, make sure your code is readable and try not to print things which are not part of this task.\n",
        "    </p>"
      ]
    },
    {
      "cell_type": "markdown",
      "metadata": {
        "id": "OnV82tg1xLi0"
      },
      "source": [
        "### Corpus"
      ]
    },
    {
      "cell_type": "code",
      "metadata": {
        "id": "bUsYm9wjxLi1"
      },
      "source": [
        "## SkLearn# Collection of string documents\n",
        "\n",
        "corpus = [\n",
        "     'this is the first document',\n",
        "     'this document is the second document',\n",
        "     'and this is the third one',\n",
        "     'is this the first document',\n",
        "]"
      ],
      "execution_count": 1,
      "outputs": []
    },
    {
      "cell_type": "markdown",
      "metadata": {
        "id": "eLwmFZfKxLi4"
      },
      "source": [
        "### SkLearn Implementation"
      ]
    },
    {
      "cell_type": "code",
      "metadata": {
        "id": "Np4dfQOkxLi4"
      },
      "source": [
        "from sklearn.feature_extraction.text import TfidfVectorizer\n",
        "vectorizer = TfidfVectorizer()\n",
        "vectorizer.fit(corpus)\n",
        "skl_output = vectorizer.transform(corpus)"
      ],
      "execution_count": 2,
      "outputs": []
    },
    {
      "cell_type": "code",
      "metadata": {
        "id": "-7Om8YpYxLi6",
        "colab": {
          "base_uri": "https://localhost:8080/"
        },
        "outputId": "2c5296e3-e285-402d-8319-1e56a7e4261e"
      },
      "source": [
        "# sklearn feature names, they are sorted in alphabetic order by default.\n",
        "\n",
        "print(vectorizer.get_feature_names())"
      ],
      "execution_count": 3,
      "outputs": [
        {
          "output_type": "stream",
          "name": "stdout",
          "text": [
            "['and', 'document', 'first', 'is', 'one', 'second', 'the', 'third', 'this']\n"
          ]
        }
      ]
    },
    {
      "cell_type": "code",
      "metadata": {
        "id": "dTKplK96xLi-",
        "colab": {
          "base_uri": "https://localhost:8080/"
        },
        "outputId": "86649ac3-00c8-4c0a-becb-5f2d315d035f"
      },
      "source": [
        "# Here we will print the sklearn tfidf vectorizer idf values after applying the fit method\n",
        "# After using the fit function on the corpus the vocab has 9 words in it, and each has its idf value.\n",
        "\n",
        "print(vectorizer.idf_)"
      ],
      "execution_count": 4,
      "outputs": [
        {
          "output_type": "stream",
          "name": "stdout",
          "text": [
            "[1.91629073 1.22314355 1.51082562 1.         1.91629073 1.91629073\n",
            " 1.         1.91629073 1.        ]\n"
          ]
        }
      ]
    },
    {
      "cell_type": "code",
      "metadata": {
        "id": "-CTiWHygxLjA",
        "colab": {
          "base_uri": "https://localhost:8080/"
        },
        "outputId": "6071f6d3-8a94-4540-f55e-3777f59f7cd8"
      },
      "source": [
        "# shape of sklearn tfidf vectorizer output after applying transform method.\n",
        "\n",
        "skl_output.shape"
      ],
      "execution_count": 5,
      "outputs": [
        {
          "output_type": "execute_result",
          "data": {
            "text/plain": [
              "(4, 9)"
            ]
          },
          "metadata": {},
          "execution_count": 5
        }
      ]
    },
    {
      "cell_type": "code",
      "metadata": {
        "id": "bDKEpbA-xLjD",
        "colab": {
          "base_uri": "https://localhost:8080/"
        },
        "outputId": "36ca9fca-c2bf-4bd5-a638-0eb93ac3f832"
      },
      "source": [
        "# sklearn tfidf values for first line of the above corpus.\n",
        "# Here the output is a sparse matrix\n",
        "\n",
        "print(skl_output[0])"
      ],
      "execution_count": 6,
      "outputs": [
        {
          "output_type": "stream",
          "name": "stdout",
          "text": [
            "  (0, 8)\t0.38408524091481483\n",
            "  (0, 6)\t0.38408524091481483\n",
            "  (0, 3)\t0.38408524091481483\n",
            "  (0, 2)\t0.5802858236844359\n",
            "  (0, 1)\t0.46979138557992045\n"
          ]
        }
      ]
    },
    {
      "cell_type": "code",
      "metadata": {
        "id": "3QWo34hexLjF",
        "colab": {
          "base_uri": "https://localhost:8080/"
        },
        "outputId": "1a5202e1-218b-42ee-ea68-7422ea3cebba"
      },
      "source": [
        "# sklearn tfidf values for first line of the above corpus.\n",
        "# To understand the output better, here we are converting the sparse output matrix to dense matrix and printing it.\n",
        "# Notice that this output is normalized using L2 normalization. sklearn does this by default.\n",
        "\n",
        "print(skl_output[0].toarray())"
      ],
      "execution_count": 7,
      "outputs": [
        {
          "output_type": "stream",
          "name": "stdout",
          "text": [
            "[[0.         0.46979139 0.58028582 0.38408524 0.         0.\n",
            "  0.38408524 0.         0.38408524]]\n"
          ]
        }
      ]
    },
    {
      "cell_type": "markdown",
      "metadata": {
        "id": "qfIwx5LzxLjI"
      },
      "source": [
        "### Your custom implementation"
      ]
    },
    {
      "cell_type": "code",
      "metadata": {
        "id": "HjuCcJwXxLjJ"
      },
      "source": [
        "# Write your code here.\n",
        "# Make sure its well documented and readble with appropriate comments.\n",
        "# Compare your results with the above sklearn tfidf vectorizer\n",
        "# You are not supposed to use any other library apart from the ones given below\n",
        "\n",
        "from collections import Counter\n",
        "from tqdm import tqdm\n",
        "from scipy.sparse import csr_matrix\n",
        "import math\n",
        "import operator\n",
        "from sklearn.preprocessing import normalize\n",
        "import numpy"
      ],
      "execution_count": 8,
      "outputs": []
    },
    {
      "cell_type": "code",
      "metadata": {
        "id": "AGzJ_qEoAMQv"
      },
      "source": [
        "# fit function for tfidf implementation\n",
        "\n",
        "def tfidf_fit(dataset):\n",
        "  '''\n",
        "    takes a dataset which should be a list as input\n",
        "    creates a vocubulary containing all unique words in the dataset\n",
        "  '''\n",
        "  # initialize a empty set for unique words(as set does not contain duplicates)\n",
        "  unique_words = set()\n",
        "\n",
        "  # check if docuent is list type, if true continue else exit function\n",
        "  if isinstance(dataset, (list,)):\n",
        "\n",
        "    # Generate all unique words and remove single-character words\n",
        "    for sentence in dataset:\n",
        "      for word in sentence.split(' '):\n",
        "        if len(word) < 2:\n",
        "          continue\n",
        "        unique_words.add(word)\n",
        "  \n",
        "    # convert the set for unique words and sort in alphabetic order\n",
        "    unique_words = sorted(list(unique_words))\n",
        "\n",
        "    # create a vocabulary dictionary with word as key and index number as value\n",
        "    vocab = {word:index for index, word in enumerate(unique_words)}\n",
        "\n",
        "    # return the vocabulary and idf values\n",
        "    return vocab \n",
        "\n",
        "  else :\n",
        "    print('Invalid input.')"
      ],
      "execution_count": 9,
      "outputs": []
    },
    {
      "cell_type": "code",
      "metadata": {
        "id": "McA896EhEnJW"
      },
      "source": [
        "# idf calulation\n",
        "\n",
        "def findIDF(dataset, vocab):\n",
        "  '''\n",
        "    takes a dataset and vocabulary as input\n",
        "    calulates idf values of words in vocabulary\n",
        "  '''\n",
        "  # count number of sentences\n",
        "  numSentences = len(dataset)\n",
        "  idfValues = {}\n",
        "\n",
        "  # find Number of sentences with word in it and calculate idf\n",
        "  for word, _ in vocab.items():\n",
        "    wordCount = 0\n",
        "    \n",
        "    for sentence in dataset:\n",
        "      if word in sentence:\n",
        "        wordCount += 1\n",
        "    \n",
        "    idfValues[word] = (numpy.log((1 + numSentences) / (wordCount + 1) )) + 1 \n",
        "  \n",
        "  return idfValues"
      ],
      "execution_count": 10,
      "outputs": []
    },
    {
      "cell_type": "code",
      "metadata": {
        "id": "6I8ujS0BGhGR"
      },
      "source": [
        "# transform function for tfidf implementation\n",
        "\n",
        "def tfidf_transform(dataset, vocab):\n",
        "  '''\n",
        "    takes a dataset which should be a list as input\n",
        "    creates a sparse matrix for the dataset\n",
        "  '''\n",
        "  rows, cols, values = [], [], []\n",
        "\n",
        "  idfValues = findIDF(dataset, vocab)\n",
        "\n",
        "  if isinstance(dataset,(list,)):\n",
        "    for index, sentence in enumerate(dataset):\n",
        "      word_freq = dict(Counter(sentence.split(' ')))\n",
        "\n",
        "      for word, freq in word_freq.items():\n",
        "        if word in vocab.keys():\n",
        "          rows.append(index)\n",
        "          cols.append(vocab[word])\n",
        "\n",
        "          tf = freq / len(sentence.split())\n",
        "          tfidf = tf * idfValues[word]\n",
        "          values.append(tfidf)\n",
        "\n",
        "    sparse_matrix = csr_matrix((values, (rows, cols)), shape=(len(dataset), len(vocab)))\n",
        "\n",
        "    return normalize(sparse_matrix, norm='l2')\n",
        "  else:\n",
        "    print('Invalid Input')"
      ],
      "execution_count": 11,
      "outputs": []
    },
    {
      "cell_type": "code",
      "metadata": {
        "id": "CVv_Sa9jMp1L",
        "colab": {
          "base_uri": "https://localhost:8080/"
        },
        "outputId": "6754527b-f7f8-4398-f8d7-af9c25bb1075"
      },
      "source": [
        "corpus"
      ],
      "execution_count": 12,
      "outputs": [
        {
          "output_type": "execute_result",
          "data": {
            "text/plain": [
              "['this is the first document',\n",
              " 'this document is the second document',\n",
              " 'and this is the third one',\n",
              " 'is this the first document']"
            ]
          },
          "metadata": {},
          "execution_count": 12
        }
      ]
    },
    {
      "cell_type": "code",
      "metadata": {
        "id": "dIROlXAGMZWZ",
        "colab": {
          "base_uri": "https://localhost:8080/"
        },
        "outputId": "81196d6e-b633-4389-c98a-a128f0ce0d67"
      },
      "source": [
        "# Comparing custom output with tfidf vectorizer\n",
        "\n",
        "vocab = tfidf_fit(corpus)\n",
        "idfValues = findIDF(corpus, vocab)\n",
        "sparse_matrix = tfidf_transform(corpus, vocab)\n",
        "print('Vocabulary(alphabetical order) :',list(vocab.keys()))\n",
        "print('IDF values of vocabulary : ', numpy.array(list(idfValues.values())))\n",
        "print('Shape of Sparse Matrix : ',sparse_matrix.shape)\n",
        "print('Sparse Matrix : \\n',sparse_matrix.toarray())\n",
        "print('-'*50)\n",
        "print('Vocabulary(alphabetical order) : ',vectorizer.get_feature_names())\n",
        "print('IDF values of vocabulary : ', vectorizer.idf_)\n",
        "print('Shape of Sparse Matrix : ',skl_output.shape)\n",
        "print('Sparse Matrix : \\n',skl_output.toarray())"
      ],
      "execution_count": 13,
      "outputs": [
        {
          "output_type": "stream",
          "name": "stdout",
          "text": [
            "Vocabulary(alphabetical order) : ['and', 'document', 'first', 'is', 'one', 'second', 'the', 'third', 'this']\n",
            "IDF values of vocabulary :  [1.91629073 1.22314355 1.51082562 1.         1.91629073 1.91629073\n",
            " 1.         1.91629073 1.        ]\n",
            "Shape of Sparse Matrix :  (4, 9)\n",
            "Sparse Matrix : \n",
            " [[0.         0.46979139 0.58028582 0.38408524 0.         0.\n",
            "  0.38408524 0.         0.38408524]\n",
            " [0.         0.6876236  0.         0.28108867 0.         0.53864762\n",
            "  0.28108867 0.         0.28108867]\n",
            " [0.51184851 0.         0.         0.26710379 0.51184851 0.\n",
            "  0.26710379 0.51184851 0.26710379]\n",
            " [0.         0.46979139 0.58028582 0.38408524 0.         0.\n",
            "  0.38408524 0.         0.38408524]]\n",
            "--------------------------------------------------\n",
            "Vocabulary(alphabetical order) :  ['and', 'document', 'first', 'is', 'one', 'second', 'the', 'third', 'this']\n",
            "IDF values of vocabulary :  [1.91629073 1.22314355 1.51082562 1.         1.91629073 1.91629073\n",
            " 1.         1.91629073 1.        ]\n",
            "Shape of Sparse Matrix :  (4, 9)\n",
            "Sparse Matrix : \n",
            " [[0.         0.46979139 0.58028582 0.38408524 0.         0.\n",
            "  0.38408524 0.         0.38408524]\n",
            " [0.         0.6876236  0.         0.28108867 0.         0.53864762\n",
            "  0.28108867 0.         0.28108867]\n",
            " [0.51184851 0.         0.         0.26710379 0.51184851 0.\n",
            "  0.26710379 0.51184851 0.26710379]\n",
            " [0.         0.46979139 0.58028582 0.38408524 0.         0.\n",
            "  0.38408524 0.         0.38408524]]\n"
          ]
        }
      ]
    },
    {
      "cell_type": "markdown",
      "metadata": {
        "id": "MMxBmVZExLjK"
      },
      "source": [
        "## Task-2"
      ]
    },
    {
      "cell_type": "markdown",
      "metadata": {
        "id": "51j_OtqAxLjL"
      },
      "source": [
        "<font face='georgia'>\n",
        "    <h4><strong>2. Implement max features functionality:</strong></h4>\n",
        "\n",
        "<ul>\n",
        "    <li> As a part of this task you have to modify your fit and transform functions so that your vocab will contain only 50 terms with top idf scores.</li>\n",
        "    <br>\n",
        "    <li>This task is similar to your previous task, just that here your vocabulary is limited to only top 50 features names based on their idf values. Basically your output will have exactly 50 columns and the number of rows will depend on the number of documents you have in your corpus.</li>\n",
        "    <br>\n",
        "    <li>Here you will be give a pickle file, with file name <strong>cleaned_strings</strong>. You would have to load the corpus from this file and use it as input to your tfidf vectorizer.</li>\n",
        "    <br>\n",
        "    <li>Steps to approach this task:\n",
        "    <ol>\n",
        "        <li> You would have to write both fit and transform methods for your custom implementation of tfidf vectorizer, just like in the previous task. Additionally, here you have to limit the number of features generated to 50 as described above.</li>\n",
        "        <li> Now sort your vocab based in descending order of idf values and print out the words in the sorted voacb after you fit your data. Here you should be getting only 50 terms in your vocab. And make sure to print idf values for each term in your vocab. </li>\n",
        "        <li> Make sure the output of your implementation is a sparse matrix. Before generating the final output, you need to normalize your sparse matrix using L2 normalization. You can refer to this link https://scikit-learn.org/stable/modules/generated/sklearn.preprocessing.normalize.html </li>\n",
        "        <li> Now check the output of a single document in your collection of documents,  you can convert the sparse matrix related only to that document into dense matrix and print it. And this dense matrix should contain 1 row and 50 columns. </li>\n",
        "        </ol>\n",
        "    </li>\n",
        "    <br>\n",
        "   </ul>"
      ]
    },
    {
      "cell_type": "code",
      "metadata": {
        "id": "NHxPLlwNxLjL",
        "colab": {
          "base_uri": "https://localhost:8080/"
        },
        "outputId": "252ad2f4-5200-4d9d-89bb-315999a72c7f"
      },
      "source": [
        "# Below is the code to load the cleaned_strings pickle file provided\n",
        "# Here corpus is of list type\n",
        "\n",
        "import pickle\n",
        "with open('cleaned_strings', 'rb') as f:\n",
        "    corpus = pickle.load(f)\n",
        "    \n",
        "# printing the length of the corpus loaded\n",
        "print(\"Number of documents in corpus = \",len(corpus))"
      ],
      "execution_count": 14,
      "outputs": [
        {
          "output_type": "stream",
          "name": "stdout",
          "text": [
            "Number of documents in corpus =  746\n"
          ]
        }
      ]
    },
    {
      "cell_type": "code",
      "metadata": {
        "id": "ZULfoOIdxLjQ"
      },
      "source": [
        "# Write your code here.\n",
        "# Try not to hardcode any values.\n",
        "# Make sure its well documented and readble with appropriate comments.\n",
        "from collections import Counter\n",
        "from tqdm import tqdm\n",
        "from scipy.sparse import csr_matrix\n",
        "import math\n",
        "import operator\n",
        "from sklearn.preprocessing import normalize\n",
        "import numpy"
      ],
      "execution_count": 15,
      "outputs": []
    },
    {
      "cell_type": "code",
      "metadata": {
        "id": "fU0rPHPoOmwY"
      },
      "source": [
        "# fit function for tfidf implementation\n",
        "def wordCount(dataset, word):\n",
        "  count = 0\n",
        "  for row in dataset:\n",
        "    if word in row:\n",
        "      count = count+1\n",
        "  return count\n",
        "\n",
        "def tfidf_maxfit(dataset, max):\n",
        "  '''\n",
        "    takes a dataset and max number of features as input\n",
        "    creates a vocubulary containing \n",
        "    only allowed maximum number of words with top idf scores\n",
        "  '''\n",
        "  unique_words = set()\n",
        "  idfValues = {}\n",
        "\n",
        "  # check if docuent is list type, if true continue else exit function\n",
        "  if isinstance(dataset, (list,)):\n",
        "\n",
        "    for sentence in dataset:\n",
        "      for word in sentence.split(\" \"):\n",
        "        if (len(word) >=2):\n",
        "          unique_words.add(word)\n",
        "\n",
        "    for word in unique_words:\n",
        "      idf = 1 + ( numpy.log( (1 + len(dataset) ) / (1 + wordCount(dataset, word) )))\n",
        "      idfValues[word] = idf\n",
        "\n",
        "    sorted_idfList = dict(sorted(idfValues.items(), key=lambda x:x[1], reverse=True))\n",
        "    \n",
        "    maxFeatures_vocab = list(sorted_idfList.keys())[:max]\n",
        "    maxFeatures_vocab = sorted(maxFeatures_vocab)\n",
        "    vocab = {word:index for index, word in enumerate((maxFeatures_vocab)) }\n",
        "    \n",
        "    return vocab\n",
        "  else :\n",
        "    print('Invalid input.')\n",
        "\n",
        "  "
      ],
      "execution_count": 16,
      "outputs": []
    },
    {
      "cell_type": "code",
      "metadata": {
        "id": "tnsI-ZkkgKbd",
        "colab": {
          "base_uri": "https://localhost:8080/"
        },
        "outputId": "2bfb132c-6218-4184-9402-3a2845c3703a"
      },
      "source": [
        "vocab = tfidf_maxfit(corpus, 50 )\n",
        "print(vocab)\n",
        "print(findIDF(corpus, vocab))"
      ],
      "execution_count": 17,
      "outputs": [
        {
          "output_type": "stream",
          "name": "stdout",
          "text": [
            "{'awkwardly': 0, 'becomes': 1, 'borderlines': 2, 'brigand': 3, 'brother': 4, 'cailles': 5, 'campy': 6, 'cheerless': 7, 'circumstances': 8, 'convention': 9, 'cutie': 10, 'designed': 11, 'directors': 12, 'dustin': 13, 'eccleston': 14, 'egotism': 15, 'eiko': 16, 'gabriel': 17, 'gosh': 18, 'humanity': 19, 'identifies': 20, 'idiotic': 21, 'indication': 22, 'initially': 23, 'intensity': 24, 'interview': 25, 'judo': 26, 'lovable': 27, 'manna': 28, 'medical': 29, 'older': 30, 'peculiarity': 31, 'portrayed': 32, 'practically': 33, 'questioning': 34, 'require': 35, 'seamlessly': 36, 'secondly': 37, 'shakespears': 38, 'starlet': 39, 'structure': 40, 'study': 41, 'sweep': 42, 'tears': 43, 'tons': 44, 'trooper': 45, 'unintentionally': 46, 'unrestrained': 47, 'vivian': 48, 'welsh': 49}\n",
            "{'awkwardly': 6.922918004572872, 'becomes': 6.922918004572872, 'borderlines': 6.922918004572872, 'brigand': 6.922918004572872, 'brother': 6.922918004572872, 'cailles': 6.922918004572872, 'campy': 6.922918004572872, 'cheerless': 6.922918004572872, 'circumstances': 6.922918004572872, 'convention': 6.922918004572872, 'cutie': 6.922918004572872, 'designed': 6.922918004572872, 'directors': 6.922918004572872, 'dustin': 6.922918004572872, 'eccleston': 6.922918004572872, 'egotism': 6.922918004572872, 'eiko': 6.922918004572872, 'gabriel': 6.922918004572872, 'gosh': 6.922918004572872, 'humanity': 6.922918004572872, 'identifies': 6.922918004572872, 'idiotic': 6.922918004572872, 'indication': 6.922918004572872, 'initially': 6.922918004572872, 'intensity': 6.922918004572872, 'interview': 6.922918004572872, 'judo': 6.922918004572872, 'lovable': 6.922918004572872, 'manna': 6.922918004572872, 'medical': 6.922918004572872, 'older': 6.922918004572872, 'peculiarity': 6.922918004572872, 'portrayed': 6.922918004572872, 'practically': 6.922918004572872, 'questioning': 6.922918004572872, 'require': 6.922918004572872, 'seamlessly': 6.922918004572872, 'secondly': 6.922918004572872, 'shakespears': 6.922918004572872, 'starlet': 6.922918004572872, 'structure': 6.922918004572872, 'study': 6.922918004572872, 'sweep': 6.922918004572872, 'tears': 6.922918004572872, 'tons': 6.922918004572872, 'trooper': 6.922918004572872, 'unintentionally': 6.922918004572872, 'unrestrained': 6.922918004572872, 'vivian': 6.922918004572872, 'welsh': 6.922918004572872}\n"
          ]
        }
      ]
    },
    {
      "cell_type": "code",
      "metadata": {
        "id": "Y9kPzeTfWCYd"
      },
      "source": [
        "def tfidf_maxtransform(dataset, vocab):\n",
        "  '''\n",
        "    takes a dataset which should be a list as input\n",
        "    creates a sparse matrix for the dataset\n",
        "  '''\n",
        "  rows, cols, values = [], [], []\n",
        "\n",
        "  if isinstance(dataset,(list,)):\n",
        "    for index, sentence in enumerate(dataset):\n",
        "      word_freq = dict(Counter(sentence.split(' ')))\n",
        "\n",
        "      for word, freq in word_freq.items():\n",
        "        if word in vocab.keys():\n",
        "          rows.append(index)\n",
        "          cols.append(vocab[word])\n",
        "\n",
        "          tf = freq / len(sentence.split())\n",
        "          idf = 1 + ( numpy.log( (1 + len(dataset) ) / (1 + wordCount(dataset, word) )))\n",
        "          tfidf = tf * idf\n",
        "          values.append(tfidf)\n",
        "\n",
        "    sparse_matrix = csr_matrix((values, (rows, cols)), shape=(len(dataset), len(vocab)))\n",
        "\n",
        "    return normalize(sparse_matrix, norm='l2')\n",
        "  else:\n",
        "    print('Invalid Input')"
      ],
      "execution_count": 18,
      "outputs": []
    },
    {
      "cell_type": "code",
      "metadata": {
        "id": "j0-wIKLHScM0",
        "colab": {
          "base_uri": "https://localhost:8080/"
        },
        "outputId": "3c1a9cbb-a69b-4d80-bedb-b1aa95a00bc4"
      },
      "source": [
        "vocab = tfidf_maxfit(corpus, 50)\n",
        "print(list(vocab.keys()))\n",
        "# print(numpy.array(list(idfValues.values())))"
      ],
      "execution_count": 19,
      "outputs": [
        {
          "output_type": "stream",
          "name": "stdout",
          "text": [
            "['awkwardly', 'becomes', 'borderlines', 'brigand', 'brother', 'cailles', 'campy', 'cheerless', 'circumstances', 'convention', 'cutie', 'designed', 'directors', 'dustin', 'eccleston', 'egotism', 'eiko', 'gabriel', 'gosh', 'humanity', 'identifies', 'idiotic', 'indication', 'initially', 'intensity', 'interview', 'judo', 'lovable', 'manna', 'medical', 'older', 'peculiarity', 'portrayed', 'practically', 'questioning', 'require', 'seamlessly', 'secondly', 'shakespears', 'starlet', 'structure', 'study', 'sweep', 'tears', 'tons', 'trooper', 'unintentionally', 'unrestrained', 'vivian', 'welsh']\n"
          ]
        }
      ]
    },
    {
      "cell_type": "code",
      "metadata": {
        "id": "rudsNVteXsu7",
        "colab": {
          "base_uri": "https://localhost:8080/"
        },
        "outputId": "6bf0e2ba-3a7d-4cc6-ab19-88a3700d3e9b"
      },
      "source": [
        "\n",
        "sparse_matrix = tfidf_maxtransform(corpus, vocab)\n",
        "print(sparse_matrix)"
      ],
      "execution_count": 20,
      "outputs": [
        {
          "output_type": "stream",
          "name": "stdout",
          "text": [
            "  (18, 33)\t1.0\n",
            "  (19, 35)\t0.7071067811865476\n",
            "  (19, 40)\t0.7071067811865476\n",
            "  (34, 28)\t1.0\n",
            "  (94, 18)\t1.0\n",
            "  (103, 20)\t1.0\n",
            "  (134, 30)\t1.0\n",
            "  (135, 12)\t0.816496580927726\n",
            "  (135, 14)\t0.408248290463863\n",
            "  (135, 37)\t0.408248290463863\n",
            "  (140, 27)\t1.0\n",
            "  (148, 45)\t1.0\n",
            "  (184, 11)\t1.0\n",
            "  (191, 3)\t1.0\n",
            "  (193, 32)\t1.0\n",
            "  (195, 4)\t1.0\n",
            "  (210, 48)\t1.0\n",
            "  (216, 8)\t1.0\n",
            "  (242, 34)\t1.0\n",
            "  (270, 7)\t0.7071067811865476\n",
            "  (270, 26)\t0.7071067811865476\n",
            "  (277, 0)\t1.0\n",
            "  (299, 23)\t1.0\n",
            "  (315, 21)\t1.0\n",
            "  (326, 46)\t1.0\n",
            "  (343, 44)\t1.0\n",
            "  (366, 9)\t1.0\n",
            "  (377, 47)\t1.0\n",
            "  (384, 42)\t1.0\n",
            "  (397, 31)\t1.0\n",
            "  (421, 2)\t0.5\n",
            "  (421, 15)\t0.5\n",
            "  (421, 41)\t0.5\n",
            "  (421, 49)\t0.5\n",
            "  (442, 6)\t1.0\n",
            "  (447, 29)\t1.0\n",
            "  (452, 36)\t1.0\n",
            "  (458, 43)\t1.0\n",
            "  (460, 38)\t1.0\n",
            "  (464, 16)\t1.0\n",
            "  (522, 1)\t1.0\n",
            "  (547, 25)\t1.0\n",
            "  (564, 13)\t1.0\n",
            "  (572, 39)\t1.0\n",
            "  (597, 24)\t1.0\n",
            "  (614, 5)\t1.0\n",
            "  (633, 17)\t1.0\n",
            "  (644, 22)\t1.0\n",
            "  (703, 19)\t1.0\n",
            "  (730, 10)\t1.0\n"
          ]
        }
      ]
    },
    {
      "cell_type": "code",
      "metadata": {
        "id": "2ql9I5hEbPs2",
        "colab": {
          "base_uri": "https://localhost:8080/"
        },
        "outputId": "37bf2683-af5e-4484-9e88-e0be3472f12f"
      },
      "source": [
        "# taking 1 sentence\n",
        "matrix = sparse_matrix[135]\n",
        "matrix.todense()"
      ],
      "execution_count": 24,
      "outputs": [
        {
          "output_type": "execute_result",
          "data": {
            "text/plain": [
              "matrix([[0.        , 0.        , 0.        , 0.        , 0.        ,\n",
              "         0.        , 0.        , 0.        , 0.        , 0.        ,\n",
              "         0.        , 0.        , 0.81649658, 0.        , 0.40824829,\n",
              "         0.        , 0.        , 0.        , 0.        , 0.        ,\n",
              "         0.        , 0.        , 0.        , 0.        , 0.        ,\n",
              "         0.        , 0.        , 0.        , 0.        , 0.        ,\n",
              "         0.        , 0.        , 0.        , 0.        , 0.        ,\n",
              "         0.        , 0.        , 0.40824829, 0.        , 0.        ,\n",
              "         0.        , 0.        , 0.        , 0.        , 0.        ,\n",
              "         0.        , 0.        , 0.        , 0.        , 0.        ]])"
            ]
          },
          "metadata": {},
          "execution_count": 24
        }
      ]
    }
  ]
}