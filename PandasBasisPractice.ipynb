{
  "nbformat": 4,
  "nbformat_minor": 0,
  "metadata": {
    "colab": {
      "name": "PandasBasisPractice.ipynb",
      "provenance": [],
      "collapsed_sections": [],
      "authorship_tag": "ABX9TyPnxSdq5EKdecTjGWJsl/Uj",
      "include_colab_link": true
    },
    "kernelspec": {
      "name": "python3",
      "display_name": "Python 3"
    },
    "language_info": {
      "name": "python"
    }
  },
  "cells": [
    {
      "cell_type": "markdown",
      "metadata": {
        "id": "view-in-github",
        "colab_type": "text"
      },
      "source": [
        "<a href=\"https://colab.research.google.com/github/rabindramahato3/AppliedAI/blob/main/PandasBasisPractice.ipynb\" target=\"_parent\"><img src=\"https://colab.research.google.com/assets/colab-badge.svg\" alt=\"Open In Colab\"/></a>"
      ]
    },
    {
      "cell_type": "markdown",
      "metadata": {
        "id": "nJZY3jHO4Mni"
      },
      "source": [
        "#Consider  the following Python dictionary data and Python list labels:\n",
        "\n",
        "  **data = {\n",
        "    'birds' : ['Cranes', 'Cranes', 'plovers', 'spoonbills', 'spoonbills', 'Cranes', 'plovers', 'Cranes', 'spoonbills', 'spoonbills'],\n",
        "    'age' : [3.5, 4, 1.5, np.nan, 6, 3, 5.5, np.nan, 8, 4],\n",
        "    'visits' : [2, 4, 3, 4, 3, 4, 2, 2, 3, 2],\n",
        "    'priority' : ['yes', 'yes', 'no', 'yes', 'no', 'no', 'no', 'yes', 'no', 'no']\n",
        "            }**\n",
        "        \n",
        "  **labels = ['a', 'b', 'c', 'd', 'e', 'f', 'g', 'h', 'i', 'j']**"
      ]
    },
    {
      "cell_type": "markdown",
      "metadata": {
        "id": "JMdc_M0G4VyF"
      },
      "source": [
        "#Problem 1 : \n",
        "**Create a DataFrame birds from this dictionary data which has the index labels.**"
      ]
    },
    {
      "cell_type": "code",
      "metadata": {
        "colab": {
          "base_uri": "https://localhost:8080/",
          "height": 397
        },
        "id": "MHQV5NQm4Bf_",
        "outputId": "f84f949e-65f7-4c83-b9bb-a0b523355eef"
      },
      "source": [
        "# Create a DataFrame birds from dictionary data which has index labels\n",
        "\n",
        "import pandas as pd\n",
        "import numpy as np\n",
        "\n",
        "# Given set of data and labels\n",
        "data = {\n",
        "    'birds' : ['Cranes', 'Cranes', 'plovers', 'spoonbills', 'spoonbills', 'Cranes', 'plovers', 'Cranes', 'spoonbills', 'spoonbills'],\n",
        "    'age' : [3.5, 4, 1.5, np.nan, 6, 3, 5.5, np.nan, 8, 4],\n",
        "    'visits' : [2, 4, 3, 4, 3, 4, 2, 2, 3, 2],\n",
        "    'priority' : ['yes', 'yes', 'no', 'yes', 'no', 'no', 'no', 'yes', 'no', 'no']\n",
        "            }\n",
        "labels = ['a', 'b', 'c', 'd', 'e', 'f', 'g', 'h', 'i', 'j']\n",
        "\n",
        "print('-: Birds Dataframe :- \\n')\n",
        "Birds =  pd.DataFrame( data, index = labels )\n",
        "Birds"
      ],
      "execution_count": null,
      "outputs": [
        {
          "output_type": "stream",
          "text": [
            "-: Birds Dataframe :- \n",
            "\n"
          ],
          "name": "stdout"
        },
        {
          "output_type": "execute_result",
          "data": {
            "text/html": [
              "<div>\n",
              "<style scoped>\n",
              "    .dataframe tbody tr th:only-of-type {\n",
              "        vertical-align: middle;\n",
              "    }\n",
              "\n",
              "    .dataframe tbody tr th {\n",
              "        vertical-align: top;\n",
              "    }\n",
              "\n",
              "    .dataframe thead th {\n",
              "        text-align: right;\n",
              "    }\n",
              "</style>\n",
              "<table border=\"1\" class=\"dataframe\">\n",
              "  <thead>\n",
              "    <tr style=\"text-align: right;\">\n",
              "      <th></th>\n",
              "      <th>birds</th>\n",
              "      <th>age</th>\n",
              "      <th>visits</th>\n",
              "      <th>priority</th>\n",
              "    </tr>\n",
              "  </thead>\n",
              "  <tbody>\n",
              "    <tr>\n",
              "      <th>a</th>\n",
              "      <td>Cranes</td>\n",
              "      <td>3.5</td>\n",
              "      <td>2</td>\n",
              "      <td>yes</td>\n",
              "    </tr>\n",
              "    <tr>\n",
              "      <th>b</th>\n",
              "      <td>Cranes</td>\n",
              "      <td>4.0</td>\n",
              "      <td>4</td>\n",
              "      <td>yes</td>\n",
              "    </tr>\n",
              "    <tr>\n",
              "      <th>c</th>\n",
              "      <td>plovers</td>\n",
              "      <td>1.5</td>\n",
              "      <td>3</td>\n",
              "      <td>no</td>\n",
              "    </tr>\n",
              "    <tr>\n",
              "      <th>d</th>\n",
              "      <td>spoonbills</td>\n",
              "      <td>NaN</td>\n",
              "      <td>4</td>\n",
              "      <td>yes</td>\n",
              "    </tr>\n",
              "    <tr>\n",
              "      <th>e</th>\n",
              "      <td>spoonbills</td>\n",
              "      <td>6.0</td>\n",
              "      <td>3</td>\n",
              "      <td>no</td>\n",
              "    </tr>\n",
              "    <tr>\n",
              "      <th>f</th>\n",
              "      <td>Cranes</td>\n",
              "      <td>3.0</td>\n",
              "      <td>4</td>\n",
              "      <td>no</td>\n",
              "    </tr>\n",
              "    <tr>\n",
              "      <th>g</th>\n",
              "      <td>plovers</td>\n",
              "      <td>5.5</td>\n",
              "      <td>2</td>\n",
              "      <td>no</td>\n",
              "    </tr>\n",
              "    <tr>\n",
              "      <th>h</th>\n",
              "      <td>Cranes</td>\n",
              "      <td>NaN</td>\n",
              "      <td>2</td>\n",
              "      <td>yes</td>\n",
              "    </tr>\n",
              "    <tr>\n",
              "      <th>i</th>\n",
              "      <td>spoonbills</td>\n",
              "      <td>8.0</td>\n",
              "      <td>3</td>\n",
              "      <td>no</td>\n",
              "    </tr>\n",
              "    <tr>\n",
              "      <th>j</th>\n",
              "      <td>spoonbills</td>\n",
              "      <td>4.0</td>\n",
              "      <td>2</td>\n",
              "      <td>no</td>\n",
              "    </tr>\n",
              "  </tbody>\n",
              "</table>\n",
              "</div>"
            ],
            "text/plain": [
              "        birds  age  visits priority\n",
              "a      Cranes  3.5       2      yes\n",
              "b      Cranes  4.0       4      yes\n",
              "c     plovers  1.5       3       no\n",
              "d  spoonbills  NaN       4      yes\n",
              "e  spoonbills  6.0       3       no\n",
              "f      Cranes  3.0       4       no\n",
              "g     plovers  5.5       2       no\n",
              "h      Cranes  NaN       2      yes\n",
              "i  spoonbills  8.0       3       no\n",
              "j  spoonbills  4.0       2       no"
            ]
          },
          "metadata": {
            "tags": []
          },
          "execution_count": 1
        }
      ]
    },
    {
      "cell_type": "markdown",
      "metadata": {
        "id": "GS1x5mY36zLD"
      },
      "source": [
        "# Problem 2:\n",
        "**Display a summary of the basic information about birds DataFrame and its data.**"
      ]
    },
    {
      "cell_type": "code",
      "metadata": {
        "colab": {
          "base_uri": "https://localhost:8080/"
        },
        "id": "zisI3Ehy8lyB",
        "outputId": "df4611f4-a1dd-404b-a6aa-65a9c34a7dfd"
      },
      "source": [
        "# Display summary of the basic information about birds DataFrame and its Data\n",
        "\n",
        "print('Program to Display summary of the basic information about birds DataFrame and its Data \\n')\n",
        "\n",
        "print('-: Birds DataFrame Basic Information :- \\n\\033[1m')\n",
        "Birds.info()\n",
        "print('\\n -: Description of Data :- \\n',Birds.describe())"
      ],
      "execution_count": null,
      "outputs": [
        {
          "output_type": "stream",
          "text": [
            "Program to Display summary of the basic information about birds DataFrame and its Data \n",
            "\n",
            "-: Birds DataFrame Basic Information :- \n",
            "\u001b[1m\n",
            "<class 'pandas.core.frame.DataFrame'>\n",
            "Index: 10 entries, a to j\n",
            "Data columns (total 4 columns):\n",
            " #   Column    Non-Null Count  Dtype  \n",
            "---  ------    --------------  -----  \n",
            " 0   birds     10 non-null     object \n",
            " 1   age       8 non-null      float64\n",
            " 2   visits    10 non-null     int64  \n",
            " 3   priority  10 non-null     object \n",
            "dtypes: float64(1), int64(1), object(2)\n",
            "memory usage: 400.0+ bytes\n",
            "\n",
            " -: Description of Data :- \n",
            "             age     visits\n",
            "count  8.000000  10.000000\n",
            "mean   4.437500   2.900000\n",
            "std    2.007797   0.875595\n",
            "min    1.500000   2.000000\n",
            "25%    3.375000   2.000000\n",
            "50%    4.000000   3.000000\n",
            "75%    5.625000   3.750000\n",
            "max    8.000000   4.000000\n"
          ],
          "name": "stdout"
        }
      ]
    },
    {
      "cell_type": "markdown",
      "metadata": {
        "id": "PGjK0AkhBxKt"
      },
      "source": [
        "# Problem 3 :\n",
        "**Print the first 2 rows of the birds dataframe**"
      ]
    },
    {
      "cell_type": "code",
      "metadata": {
        "colab": {
          "base_uri": "https://localhost:8080/"
        },
        "id": "tUlQfTp9B7L1",
        "outputId": "bbc906ab-3a36-412a-d037-9e4929b9718e"
      },
      "source": [
        "# Print first 2 rows of birds dataframe\n",
        "\n",
        "print('Program to display first two rows of birds dataframe \\n')\n",
        "\n",
        "print('First 2 rows of the birds dataframe : \\n')\n",
        "# calling head() function to select rows in adata frame from top\n",
        "Birds.head(2)"
      ],
      "execution_count": null,
      "outputs": [
        {
          "output_type": "stream",
          "text": [
            "Program to display first two rows of birds dataframe \n",
            "\n",
            "First 2 rows of the birds dataframe : \n",
            "\n"
          ],
          "name": "stdout"
        },
        {
          "output_type": "execute_result",
          "data": {
            "text/html": [
              "<div>\n",
              "<style scoped>\n",
              "    .dataframe tbody tr th:only-of-type {\n",
              "        vertical-align: middle;\n",
              "    }\n",
              "\n",
              "    .dataframe tbody tr th {\n",
              "        vertical-align: top;\n",
              "    }\n",
              "\n",
              "    .dataframe thead th {\n",
              "        text-align: right;\n",
              "    }\n",
              "</style>\n",
              "<table border=\"1\" class=\"dataframe\">\n",
              "  <thead>\n",
              "    <tr style=\"text-align: right;\">\n",
              "      <th></th>\n",
              "      <th>birds</th>\n",
              "      <th>age</th>\n",
              "      <th>visits</th>\n",
              "      <th>priority</th>\n",
              "    </tr>\n",
              "  </thead>\n",
              "  <tbody>\n",
              "    <tr>\n",
              "      <th>a</th>\n",
              "      <td>Cranes</td>\n",
              "      <td>3.5</td>\n",
              "      <td>2</td>\n",
              "      <td>yes</td>\n",
              "    </tr>\n",
              "    <tr>\n",
              "      <th>b</th>\n",
              "      <td>Cranes</td>\n",
              "      <td>4.0</td>\n",
              "      <td>4</td>\n",
              "      <td>yes</td>\n",
              "    </tr>\n",
              "  </tbody>\n",
              "</table>\n",
              "</div>"
            ],
            "text/plain": [
              "    birds  age  visits priority\n",
              "a  Cranes  3.5       2      yes\n",
              "b  Cranes  4.0       4      yes"
            ]
          },
          "metadata": {
            "tags": []
          },
          "execution_count": 146
        }
      ]
    },
    {
      "cell_type": "markdown",
      "metadata": {
        "id": "G_5GkfZTDF4O"
      },
      "source": [
        "# Problem 4 :\n",
        "**Print all the rows with only 'birds' and 'age' columns from the dataframe**"
      ]
    },
    {
      "cell_type": "code",
      "metadata": {
        "colab": {
          "base_uri": "https://localhost:8080/"
        },
        "id": "VlR5x_mvDOC0",
        "outputId": "02a411e5-f972-4ae3-ac72-551282f8b273"
      },
      "source": [
        "#  Print all rows with only 'birds'and 'age' columns from birds dataframe\n",
        "\n",
        "columns = ['birds','age']\n",
        "\n",
        "print('Program to prints all the rows with only \\'birds\\' and \\'age\\' columns from the birds dataframe \\n')\n",
        "\n",
        "print('All the rows with only \\'birds\\' and \\'age\\' columns from the birds dataframe : \\n')\n",
        "\n",
        "print(' -: Birds DateFrame :- \\n')\n",
        "Birds[columns]"
      ],
      "execution_count": null,
      "outputs": [
        {
          "output_type": "stream",
          "text": [
            "Program to prints all the rows with only 'birds' and 'age' columns from the birds dataframe \n",
            "\n",
            "All the rows with only 'birds' and 'age' columns from the birds dataframe : \n",
            "\n",
            " -: Birds DateFrame :- \n",
            "\n"
          ],
          "name": "stdout"
        },
        {
          "output_type": "execute_result",
          "data": {
            "text/html": [
              "<div>\n",
              "<style scoped>\n",
              "    .dataframe tbody tr th:only-of-type {\n",
              "        vertical-align: middle;\n",
              "    }\n",
              "\n",
              "    .dataframe tbody tr th {\n",
              "        vertical-align: top;\n",
              "    }\n",
              "\n",
              "    .dataframe thead th {\n",
              "        text-align: right;\n",
              "    }\n",
              "</style>\n",
              "<table border=\"1\" class=\"dataframe\">\n",
              "  <thead>\n",
              "    <tr style=\"text-align: right;\">\n",
              "      <th></th>\n",
              "      <th>birds</th>\n",
              "      <th>age</th>\n",
              "    </tr>\n",
              "  </thead>\n",
              "  <tbody>\n",
              "    <tr>\n",
              "      <th>a</th>\n",
              "      <td>Cranes</td>\n",
              "      <td>3.5</td>\n",
              "    </tr>\n",
              "    <tr>\n",
              "      <th>b</th>\n",
              "      <td>Cranes</td>\n",
              "      <td>4.0</td>\n",
              "    </tr>\n",
              "    <tr>\n",
              "      <th>c</th>\n",
              "      <td>plovers</td>\n",
              "      <td>1.5</td>\n",
              "    </tr>\n",
              "    <tr>\n",
              "      <th>d</th>\n",
              "      <td>spoonbills</td>\n",
              "      <td>NaN</td>\n",
              "    </tr>\n",
              "    <tr>\n",
              "      <th>e</th>\n",
              "      <td>spoonbills</td>\n",
              "      <td>6.0</td>\n",
              "    </tr>\n",
              "    <tr>\n",
              "      <th>f</th>\n",
              "      <td>Cranes</td>\n",
              "      <td>3.0</td>\n",
              "    </tr>\n",
              "    <tr>\n",
              "      <th>g</th>\n",
              "      <td>plovers</td>\n",
              "      <td>5.5</td>\n",
              "    </tr>\n",
              "    <tr>\n",
              "      <th>h</th>\n",
              "      <td>Cranes</td>\n",
              "      <td>NaN</td>\n",
              "    </tr>\n",
              "    <tr>\n",
              "      <th>i</th>\n",
              "      <td>spoonbills</td>\n",
              "      <td>8.0</td>\n",
              "    </tr>\n",
              "    <tr>\n",
              "      <th>j</th>\n",
              "      <td>spoonbills</td>\n",
              "      <td>4.0</td>\n",
              "    </tr>\n",
              "  </tbody>\n",
              "</table>\n",
              "</div>"
            ],
            "text/plain": [
              "        birds  age\n",
              "a      Cranes  3.5\n",
              "b      Cranes  4.0\n",
              "c     plovers  1.5\n",
              "d  spoonbills  NaN\n",
              "e  spoonbills  6.0\n",
              "f      Cranes  3.0\n",
              "g     plovers  5.5\n",
              "h      Cranes  NaN\n",
              "i  spoonbills  8.0\n",
              "j  spoonbills  4.0"
            ]
          },
          "metadata": {
            "tags": []
          },
          "execution_count": 147
        }
      ]
    },
    {
      "cell_type": "markdown",
      "metadata": {
        "id": "-wzacjscEvfB"
      },
      "source": [
        "# Problem 5 :\n",
        "**select [2, 3, 7] rows and in columns ['birds', 'age', 'visits']** "
      ]
    },
    {
      "cell_type": "code",
      "metadata": {
        "colab": {
          "base_uri": "https://localhost:8080/"
        },
        "id": "1IgXPHCyE5mp",
        "outputId": "9f2dccdc-ce92-4078-9748-7d14d1548dc8"
      },
      "source": [
        "# select[2,3,7] rows and colums['birds', 'age', 'visits']\n",
        "\n",
        "print('Program to select[2,3,7] rows and colums[\\'birds\\', \\'age\\', \\'visits\\'] from birds dataframe \\n ')\n",
        "\n",
        "rows = [2,3,7]\n",
        "columns = ['birds', 'age', 'visits']\n",
        "\n",
        "print('Selected rows[2,3,7]  and colums[\\'birds\\', \\'age\\', \\'visits\\'] from birds dataframe \\n')\n",
        "print(' -: Birds DateFrame :- \\n')\n",
        "Birds[columns].iloc[rows]"
      ],
      "execution_count": null,
      "outputs": [
        {
          "output_type": "stream",
          "text": [
            "Program to select[2,3,7] rows and colums['birds', 'age', 'visits'] from birds dataframe \n",
            " \n",
            "Selected rows[2,3,7]  and colums['birds', 'age', 'visits'] from birds dataframe \n",
            "\n",
            " -: Birds DateFrame :- \n",
            "\n"
          ],
          "name": "stdout"
        },
        {
          "output_type": "execute_result",
          "data": {
            "text/html": [
              "<div>\n",
              "<style scoped>\n",
              "    .dataframe tbody tr th:only-of-type {\n",
              "        vertical-align: middle;\n",
              "    }\n",
              "\n",
              "    .dataframe tbody tr th {\n",
              "        vertical-align: top;\n",
              "    }\n",
              "\n",
              "    .dataframe thead th {\n",
              "        text-align: right;\n",
              "    }\n",
              "</style>\n",
              "<table border=\"1\" class=\"dataframe\">\n",
              "  <thead>\n",
              "    <tr style=\"text-align: right;\">\n",
              "      <th></th>\n",
              "      <th>birds</th>\n",
              "      <th>age</th>\n",
              "      <th>visits</th>\n",
              "    </tr>\n",
              "  </thead>\n",
              "  <tbody>\n",
              "    <tr>\n",
              "      <th>c</th>\n",
              "      <td>plovers</td>\n",
              "      <td>1.5</td>\n",
              "      <td>3</td>\n",
              "    </tr>\n",
              "    <tr>\n",
              "      <th>d</th>\n",
              "      <td>spoonbills</td>\n",
              "      <td>NaN</td>\n",
              "      <td>4</td>\n",
              "    </tr>\n",
              "    <tr>\n",
              "      <th>h</th>\n",
              "      <td>Cranes</td>\n",
              "      <td>NaN</td>\n",
              "      <td>2</td>\n",
              "    </tr>\n",
              "  </tbody>\n",
              "</table>\n",
              "</div>"
            ],
            "text/plain": [
              "        birds  age  visits\n",
              "c     plovers  1.5       3\n",
              "d  spoonbills  NaN       4\n",
              "h      Cranes  NaN       2"
            ]
          },
          "metadata": {
            "tags": []
          },
          "execution_count": 148
        }
      ]
    },
    {
      "cell_type": "markdown",
      "metadata": {
        "id": "EwxkgjzGIKMv"
      },
      "source": [
        "# Problem 6 : \n",
        "**select the rows where the number of visits is less than 4**"
      ]
    },
    {
      "cell_type": "code",
      "metadata": {
        "colab": {
          "base_uri": "https://localhost:8080/"
        },
        "id": "DqNsFy3lIVxG",
        "outputId": "fc150a8a-2356-492a-eb3b-28cceb0a55e2"
      },
      "source": [
        "# select the rows where the number of visits is less than 4\n",
        "\n",
        "print('Program to select rows where the number of visits is less than 4 in birds dataframe \\n')\n",
        "\n",
        "print('Selected rows where the number of visits less than 4 in birds dataframe \\n')\n",
        "print(' -: Birds DateFrame :- \\n')\n",
        "Birds[Birds.visits < 4]"
      ],
      "execution_count": null,
      "outputs": [
        {
          "output_type": "stream",
          "text": [
            "Program to select rows where the number of visits is less than 4 in birds dataframe \n",
            "\n",
            "Selected rows where the number of visits less than 4 in birds dataframe \n",
            "\n",
            " -: Birds DateFrame :- \n",
            "\n"
          ],
          "name": "stdout"
        },
        {
          "output_type": "execute_result",
          "data": {
            "text/html": [
              "<div>\n",
              "<style scoped>\n",
              "    .dataframe tbody tr th:only-of-type {\n",
              "        vertical-align: middle;\n",
              "    }\n",
              "\n",
              "    .dataframe tbody tr th {\n",
              "        vertical-align: top;\n",
              "    }\n",
              "\n",
              "    .dataframe thead th {\n",
              "        text-align: right;\n",
              "    }\n",
              "</style>\n",
              "<table border=\"1\" class=\"dataframe\">\n",
              "  <thead>\n",
              "    <tr style=\"text-align: right;\">\n",
              "      <th></th>\n",
              "      <th>birds</th>\n",
              "      <th>age</th>\n",
              "      <th>visits</th>\n",
              "      <th>priority</th>\n",
              "    </tr>\n",
              "  </thead>\n",
              "  <tbody>\n",
              "    <tr>\n",
              "      <th>a</th>\n",
              "      <td>Cranes</td>\n",
              "      <td>3.5</td>\n",
              "      <td>2</td>\n",
              "      <td>yes</td>\n",
              "    </tr>\n",
              "    <tr>\n",
              "      <th>c</th>\n",
              "      <td>plovers</td>\n",
              "      <td>1.5</td>\n",
              "      <td>3</td>\n",
              "      <td>no</td>\n",
              "    </tr>\n",
              "    <tr>\n",
              "      <th>e</th>\n",
              "      <td>spoonbills</td>\n",
              "      <td>6.0</td>\n",
              "      <td>3</td>\n",
              "      <td>no</td>\n",
              "    </tr>\n",
              "    <tr>\n",
              "      <th>g</th>\n",
              "      <td>plovers</td>\n",
              "      <td>5.5</td>\n",
              "      <td>2</td>\n",
              "      <td>no</td>\n",
              "    </tr>\n",
              "    <tr>\n",
              "      <th>h</th>\n",
              "      <td>Cranes</td>\n",
              "      <td>NaN</td>\n",
              "      <td>2</td>\n",
              "      <td>yes</td>\n",
              "    </tr>\n",
              "    <tr>\n",
              "      <th>i</th>\n",
              "      <td>spoonbills</td>\n",
              "      <td>8.0</td>\n",
              "      <td>3</td>\n",
              "      <td>no</td>\n",
              "    </tr>\n",
              "    <tr>\n",
              "      <th>j</th>\n",
              "      <td>spoonbills</td>\n",
              "      <td>4.0</td>\n",
              "      <td>2</td>\n",
              "      <td>no</td>\n",
              "    </tr>\n",
              "  </tbody>\n",
              "</table>\n",
              "</div>"
            ],
            "text/plain": [
              "        birds  age  visits priority\n",
              "a      Cranes  3.5       2      yes\n",
              "c     plovers  1.5       3       no\n",
              "e  spoonbills  6.0       3       no\n",
              "g     plovers  5.5       2       no\n",
              "h      Cranes  NaN       2      yes\n",
              "i  spoonbills  8.0       3       no\n",
              "j  spoonbills  4.0       2       no"
            ]
          },
          "metadata": {
            "tags": []
          },
          "execution_count": 149
        }
      ]
    },
    {
      "cell_type": "markdown",
      "metadata": {
        "id": "GlMwKWLPKio5"
      },
      "source": [
        "# Problem 7 :\n",
        "**select the rows with columns ['birds', 'visits'] where the age is missing i.e NaN**"
      ]
    },
    {
      "cell_type": "code",
      "metadata": {
        "colab": {
          "base_uri": "https://localhost:8080/"
        },
        "id": "4W7_O3P1K9Hl",
        "outputId": "03b4cb8c-45e7-4291-f956-15e412dbad34"
      },
      "source": [
        "# select the rows with columns ['birds', 'visits'] where the age is missing i.e NaN\n",
        "\n",
        "print('Program to select rows with columns [\\'birds\\', \\'visits\\'] where the age is missing i.e NaN \\n')\n",
        "columns = ['birds', 'visits']\n",
        "\n",
        "print('Selected rows where with columns [\\'birds\\', \\'visits\\'] where the age is missing i.e NaN \\n')\n",
        "print(' -: Birds DateFrame :- \\n')\n",
        "Birds[(Birds.age.isna())][columns]"
      ],
      "execution_count": null,
      "outputs": [
        {
          "output_type": "stream",
          "text": [
            "Program to select rows with columns ['birds', 'visits'] where the age is missing i.e NaN \n",
            "\n",
            "Selected rows where with columns ['birds', 'visits'] where the age is missing i.e NaN \n",
            "\n",
            " -: Birds DateFrame :- \n",
            "\n"
          ],
          "name": "stdout"
        },
        {
          "output_type": "execute_result",
          "data": {
            "text/html": [
              "<div>\n",
              "<style scoped>\n",
              "    .dataframe tbody tr th:only-of-type {\n",
              "        vertical-align: middle;\n",
              "    }\n",
              "\n",
              "    .dataframe tbody tr th {\n",
              "        vertical-align: top;\n",
              "    }\n",
              "\n",
              "    .dataframe thead th {\n",
              "        text-align: right;\n",
              "    }\n",
              "</style>\n",
              "<table border=\"1\" class=\"dataframe\">\n",
              "  <thead>\n",
              "    <tr style=\"text-align: right;\">\n",
              "      <th></th>\n",
              "      <th>birds</th>\n",
              "      <th>visits</th>\n",
              "    </tr>\n",
              "  </thead>\n",
              "  <tbody>\n",
              "    <tr>\n",
              "      <th>d</th>\n",
              "      <td>spoonbills</td>\n",
              "      <td>4</td>\n",
              "    </tr>\n",
              "    <tr>\n",
              "      <th>h</th>\n",
              "      <td>Cranes</td>\n",
              "      <td>2</td>\n",
              "    </tr>\n",
              "  </tbody>\n",
              "</table>\n",
              "</div>"
            ],
            "text/plain": [
              "        birds  visits\n",
              "d  spoonbills       4\n",
              "h      Cranes       2"
            ]
          },
          "metadata": {
            "tags": []
          },
          "execution_count": 150
        }
      ]
    },
    {
      "cell_type": "markdown",
      "metadata": {
        "id": "f02bgE9FMLK5"
      },
      "source": [
        "# Problem 8 : \n",
        "**Select the rows where the birds is a Cranes and the age is less than 4**"
      ]
    },
    {
      "cell_type": "code",
      "metadata": {
        "colab": {
          "base_uri": "https://localhost:8080/"
        },
        "id": "mRNClc0xMxp6",
        "outputId": "8f9dbe29-8106-47d5-cca9-d4d16ec26f91"
      },
      "source": [
        "# Select the rows where the birds is a Cranes and the age is less than 4\n",
        "\n",
        "print('Program to Select the rows where the birds is a Cranes and the age is less than 4 \\n')\n",
        "\n",
        "print('Selected the rows where the birds is a Cranes and the age is less than 4 \\n')\n",
        "print(' -: Birds DateFrame :- \\n')\n",
        "Birds[(Birds.birds == 'Cranes') & (Birds.age < 4)]"
      ],
      "execution_count": null,
      "outputs": [
        {
          "output_type": "stream",
          "text": [
            "Program to Select the rows where the birds is a Cranes and the age is less than 4 \n",
            "\n",
            "Selected the rows where the birds is a Cranes and the age is less than 4 \n",
            "\n",
            " -: Birds DateFrame :- \n",
            "\n"
          ],
          "name": "stdout"
        },
        {
          "output_type": "execute_result",
          "data": {
            "text/html": [
              "<div>\n",
              "<style scoped>\n",
              "    .dataframe tbody tr th:only-of-type {\n",
              "        vertical-align: middle;\n",
              "    }\n",
              "\n",
              "    .dataframe tbody tr th {\n",
              "        vertical-align: top;\n",
              "    }\n",
              "\n",
              "    .dataframe thead th {\n",
              "        text-align: right;\n",
              "    }\n",
              "</style>\n",
              "<table border=\"1\" class=\"dataframe\">\n",
              "  <thead>\n",
              "    <tr style=\"text-align: right;\">\n",
              "      <th></th>\n",
              "      <th>birds</th>\n",
              "      <th>age</th>\n",
              "      <th>visits</th>\n",
              "      <th>priority</th>\n",
              "    </tr>\n",
              "  </thead>\n",
              "  <tbody>\n",
              "    <tr>\n",
              "      <th>a</th>\n",
              "      <td>Cranes</td>\n",
              "      <td>3.5</td>\n",
              "      <td>2</td>\n",
              "      <td>yes</td>\n",
              "    </tr>\n",
              "    <tr>\n",
              "      <th>f</th>\n",
              "      <td>Cranes</td>\n",
              "      <td>3.0</td>\n",
              "      <td>4</td>\n",
              "      <td>no</td>\n",
              "    </tr>\n",
              "  </tbody>\n",
              "</table>\n",
              "</div>"
            ],
            "text/plain": [
              "    birds  age  visits priority\n",
              "a  Cranes  3.5       2      yes\n",
              "f  Cranes  3.0       4       no"
            ]
          },
          "metadata": {
            "tags": []
          },
          "execution_count": 151
        }
      ]
    },
    {
      "cell_type": "markdown",
      "metadata": {
        "id": "RA9z9gTGMLRn"
      },
      "source": [
        "# Problem 9 : \n",
        "**Select the rows the age is between 2 and 4(inclusive)**"
      ]
    },
    {
      "cell_type": "code",
      "metadata": {
        "colab": {
          "base_uri": "https://localhost:8080/"
        },
        "id": "42S4OawxTtFF",
        "outputId": "e4c68038-87f4-44d9-eb2c-ec80034a257a"
      },
      "source": [
        "# Select the rows where age is between 2 and 4(inclusive)\n",
        "\n",
        "print('Program to Select the rows where age is between 2 and 4(inclusive) \\n')\n",
        "\n",
        "print('Selected the rows where age is between 2 and 4(inclusive)  \\n')\n",
        "print(' -: Birds DateFrame :- \\n')\n",
        "Birds[(Birds.age <= 4) & (Birds.age > 2)]"
      ],
      "execution_count": null,
      "outputs": [
        {
          "output_type": "stream",
          "text": [
            "Program to Select the rows where age is between 2 and 4(inclusive) \n",
            "\n",
            "Selected the rows where age is between 2 and 4(inclusive)  \n",
            "\n",
            " -: Birds DateFrame :- \n",
            "\n"
          ],
          "name": "stdout"
        },
        {
          "output_type": "execute_result",
          "data": {
            "text/html": [
              "<div>\n",
              "<style scoped>\n",
              "    .dataframe tbody tr th:only-of-type {\n",
              "        vertical-align: middle;\n",
              "    }\n",
              "\n",
              "    .dataframe tbody tr th {\n",
              "        vertical-align: top;\n",
              "    }\n",
              "\n",
              "    .dataframe thead th {\n",
              "        text-align: right;\n",
              "    }\n",
              "</style>\n",
              "<table border=\"1\" class=\"dataframe\">\n",
              "  <thead>\n",
              "    <tr style=\"text-align: right;\">\n",
              "      <th></th>\n",
              "      <th>birds</th>\n",
              "      <th>age</th>\n",
              "      <th>visits</th>\n",
              "      <th>priority</th>\n",
              "    </tr>\n",
              "  </thead>\n",
              "  <tbody>\n",
              "    <tr>\n",
              "      <th>a</th>\n",
              "      <td>Cranes</td>\n",
              "      <td>3.5</td>\n",
              "      <td>2</td>\n",
              "      <td>yes</td>\n",
              "    </tr>\n",
              "    <tr>\n",
              "      <th>b</th>\n",
              "      <td>Cranes</td>\n",
              "      <td>4.0</td>\n",
              "      <td>4</td>\n",
              "      <td>yes</td>\n",
              "    </tr>\n",
              "    <tr>\n",
              "      <th>f</th>\n",
              "      <td>Cranes</td>\n",
              "      <td>3.0</td>\n",
              "      <td>4</td>\n",
              "      <td>no</td>\n",
              "    </tr>\n",
              "    <tr>\n",
              "      <th>j</th>\n",
              "      <td>spoonbills</td>\n",
              "      <td>4.0</td>\n",
              "      <td>2</td>\n",
              "      <td>no</td>\n",
              "    </tr>\n",
              "  </tbody>\n",
              "</table>\n",
              "</div>"
            ],
            "text/plain": [
              "        birds  age  visits priority\n",
              "a      Cranes  3.5       2      yes\n",
              "b      Cranes  4.0       4      yes\n",
              "f      Cranes  3.0       4       no\n",
              "j  spoonbills  4.0       2       no"
            ]
          },
          "metadata": {
            "tags": []
          },
          "execution_count": 152
        }
      ]
    },
    {
      "cell_type": "markdown",
      "metadata": {
        "id": "lOtnHIfNMLmF"
      },
      "source": [
        "# Problem 10 : \n",
        "**Find the total number of visits of the bird Cranes**"
      ]
    },
    {
      "cell_type": "code",
      "metadata": {
        "colab": {
          "base_uri": "https://localhost:8080/"
        },
        "id": "PikPYbKLhhPb",
        "outputId": "ca45ff92-a4b4-4575-d060-f1440a1ea21a"
      },
      "source": [
        "# Find the total number of visits the birds Crane\n",
        "\n",
        "print('Program to find total number of visits the birds \\'Cranes\\'')\n",
        "\n",
        "print('\\n Total number of visits the birds \\'Cranes\\' : ',Birds.where(Birds.birds == 'Cranes').visits.sum())\n"
      ],
      "execution_count": null,
      "outputs": [
        {
          "output_type": "stream",
          "text": [
            "Program to find total number of visits the birds 'Cranes'\n",
            "\n",
            " Total number of visits the birds 'Cranes' :  12.0\n"
          ],
          "name": "stdout"
        }
      ]
    },
    {
      "cell_type": "markdown",
      "metadata": {
        "id": "78U3zltsMhOA"
      },
      "source": [
        "# Problem 11 : \n",
        "**Calculate the mean age for each different birds in dataframe.**"
      ]
    },
    {
      "cell_type": "code",
      "metadata": {
        "colab": {
          "base_uri": "https://localhost:8080/"
        },
        "id": "_1_WVxB7k28D",
        "outputId": "fabb6bb4-6f71-44c3-c1ae-6b72c06ab7c7"
      },
      "source": [
        "# Calculate the mean age for each different birds in dataframe.\n",
        "\n",
        "print('Program to Calculate mean age for each different birds in dataframe \\n')\n",
        "group = Birds.groupby('birds')\n",
        "\n",
        "for birds , birds_df in group:\n",
        "  print(\" Entries for birds : \",birds)\n",
        "  print('----------------------')\n",
        "  print(birds_df, end='\\n\\n')\n",
        "  print('Mean age of {} is {}.'.format(birds,birds_df['age'].mean()), end='\\n\\n')\n",
        "\n",
        "print('Mean age for each different birds in dataframe \\n')  \n",
        "print(group.age.mean())\n"
      ],
      "execution_count": null,
      "outputs": [
        {
          "output_type": "stream",
          "text": [
            "Program to Calculate mean age for each different birds in dataframe \n",
            "\n",
            " Entries for birds :  Cranes\n",
            "----------------------\n",
            "    birds  age  visits priority\n",
            "a  Cranes  3.5       2      yes\n",
            "b  Cranes  4.0       4      yes\n",
            "f  Cranes  3.0       4       no\n",
            "h  Cranes  NaN       2      yes\n",
            "\n",
            "Mean age of Cranes is 3.5.\n",
            "\n",
            " Entries for birds :  plovers\n",
            "----------------------\n",
            "     birds  age  visits priority\n",
            "c  plovers  1.5       3       no\n",
            "g  plovers  5.5       2       no\n",
            "\n",
            "Mean age of plovers is 3.5.\n",
            "\n",
            " Entries for birds :  spoonbills\n",
            "----------------------\n",
            "        birds  age  visits priority\n",
            "d  spoonbills  NaN       4      yes\n",
            "e  spoonbills  6.0       3       no\n",
            "i  spoonbills  8.0       3       no\n",
            "j  spoonbills  4.0       2       no\n",
            "\n",
            "Mean age of spoonbills is 6.0.\n",
            "\n",
            "Mean age for each different birds in dataframe \n",
            "\n",
            "birds\n",
            "Cranes        3.5\n",
            "plovers       3.5\n",
            "spoonbills    6.0\n",
            "Name: age, dtype: float64\n"
          ],
          "name": "stdout"
        }
      ]
    },
    {
      "cell_type": "markdown",
      "metadata": {
        "id": "TCnL5CSaMhnR"
      },
      "source": [
        "# Problem 12 : \n",
        "**Append a new row ‘k’ to dataframe with your choice of values for each column.\n",
        "Then delete that row to return the original DataFrame**"
      ]
    },
    {
      "cell_type": "code",
      "metadata": {
        "colab": {
          "base_uri": "https://localhost:8080/"
        },
        "id": "zIZW01ASxI88",
        "outputId": "9ed292f2-1c69-4538-926c-1320cb1b1c12"
      },
      "source": [
        "#  Append a new row ‘k’ to dataframe with your choice of values for each column. Then delete that row to return the original DataFrame\n",
        "\n",
        "print('\\n Orginal Birds Dataframe :- \\n')\n",
        "print(Birds)\n",
        "print('\\n new row to be added to birds dataframe :- \\n')\n",
        "row = pd.DataFrame({\n",
        "    'birds' : ['_plovers_'],\n",
        "    'age': [4.0],\n",
        "    'visits' : [3],\n",
        "    'priority' : ['yes']\n",
        "}, index = ['k'])\n",
        "\n",
        "print(row, end='\\n\\n')\n",
        "print('\\n Dataframe after appending a new row:- \\n')\n",
        "Birds = Birds.append(row)\n",
        "print(Birds)\n",
        "\n",
        "print('\\n Row to be deleted from birds dataframe :-')\n",
        "print(row)\n",
        "print('\\n Dataframe afer deleting last row added :- \\n')\n",
        "Birds = Birds.drop('k')\n",
        "print(Birds)"
      ],
      "execution_count": null,
      "outputs": [
        {
          "output_type": "stream",
          "text": [
            "\n",
            " Orginal Birds Dataframe :- \n",
            "\n",
            "        birds  age  visits priority\n",
            "a      Cranes  3.5       2      yes\n",
            "b      Cranes  4.0       4      yes\n",
            "c     plovers  1.5       3       no\n",
            "d  spoonbills  NaN       4      yes\n",
            "e  spoonbills  6.0       3       no\n",
            "f      Cranes  3.0       4       no\n",
            "g     plovers  5.5       2       no\n",
            "h      Cranes  NaN       2      yes\n",
            "i  spoonbills  8.0       3       no\n",
            "j  spoonbills  4.0       2       no\n",
            "\n",
            " new row to be added to birds dataframe :- \n",
            "\n",
            "       birds  age  visits priority\n",
            "k  _plovers_  4.0       3      yes\n",
            "\n",
            "\n",
            " Dataframe after appending a new row:- \n",
            "\n",
            "        birds  age  visits priority\n",
            "a      Cranes  3.5       2      yes\n",
            "b      Cranes  4.0       4      yes\n",
            "c     plovers  1.5       3       no\n",
            "d  spoonbills  NaN       4      yes\n",
            "e  spoonbills  6.0       3       no\n",
            "f      Cranes  3.0       4       no\n",
            "g     plovers  5.5       2       no\n",
            "h      Cranes  NaN       2      yes\n",
            "i  spoonbills  8.0       3       no\n",
            "j  spoonbills  4.0       2       no\n",
            "k   _plovers_  4.0       3      yes\n",
            "\n",
            " Row to be deleted from birds dataframe :-\n",
            "       birds  age  visits priority\n",
            "k  _plovers_  4.0       3      yes\n",
            "\n",
            " Dataframe afer deleting last row added :- \n",
            "\n",
            "        birds  age  visits priority\n",
            "a      Cranes  3.5       2      yes\n",
            "b      Cranes  4.0       4      yes\n",
            "c     plovers  1.5       3       no\n",
            "d  spoonbills  NaN       4      yes\n",
            "e  spoonbills  6.0       3       no\n",
            "f      Cranes  3.0       4       no\n",
            "g     plovers  5.5       2       no\n",
            "h      Cranes  NaN       2      yes\n",
            "i  spoonbills  8.0       3       no\n",
            "j  spoonbills  4.0       2       no\n"
          ],
          "name": "stdout"
        }
      ]
    },
    {
      "cell_type": "markdown",
      "metadata": {
        "id": "7ZF2rhfzMh7B"
      },
      "source": [
        "# Problem 13 : \n",
        "**Find the number of each type of birds in dataframe (Counts)**"
      ]
    },
    {
      "cell_type": "code",
      "metadata": {
        "colab": {
          "base_uri": "https://localhost:8080/"
        },
        "id": "wXXbHakO4DeZ",
        "outputId": "c0264594-a6c2-48c7-d528-c2a0d130b29e"
      },
      "source": [
        "# Find the number of each type of birds in dataframe (Counts)\n",
        "\n",
        "group = Birds.groupby('birds')\n",
        "print('The number of each type of birds in dataframe (Counts) :- \\n')\n",
        "print(group['birds'].count())"
      ],
      "execution_count": null,
      "outputs": [
        {
          "output_type": "stream",
          "text": [
            "The number of each type of birds in dataframe (Counts) :- \n",
            "\n",
            "birds\n",
            "Cranes        4\n",
            "plovers       2\n",
            "spoonbills    4\n",
            "Name: birds, dtype: int64\n"
          ],
          "name": "stdout"
        }
      ]
    },
    {
      "cell_type": "markdown",
      "metadata": {
        "id": "HHRO0CM0MiN6"
      },
      "source": [
        "# Problem 14 : \n",
        "**Sort dataframe (birds) first by the values in the 'age' in decending order, then by the value in the 'visits' column in ascending order.**"
      ]
    },
    {
      "cell_type": "code",
      "metadata": {
        "colab": {
          "base_uri": "https://localhost:8080/"
        },
        "id": "SDGas1tD5JD7",
        "outputId": "05eca7de-e51e-4ce9-9f7c-e06844caf3d3"
      },
      "source": [
        "# Sort dataframe (birds) first by the values in the 'age' in decending order, then by the value in the 'visits' column in ascending order.\n",
        "\n",
        "print('Sorted dataframe (birds) first by the values in the \\'age\\' in decending order, then by the value in the \\'visits\\' column in ascending order :- \\n')\n",
        "sorted = Birds.sort_values(['age','visits'], ascending=[False, True])\n",
        "print(sorted)"
      ],
      "execution_count": null,
      "outputs": [
        {
          "output_type": "stream",
          "text": [
            "Sorted dataframe (birds) first by the values in the 'age' in decending order, then by the value in the 'visits' column in ascending order :- \n",
            "\n",
            "        birds  age  visits priority\n",
            "i  spoonbills  8.0       3       no\n",
            "e  spoonbills  6.0       3       no\n",
            "g     plovers  5.5       2       no\n",
            "j  spoonbills  4.0       2       no\n",
            "b      Cranes  4.0       4      yes\n",
            "a      Cranes  3.5       2      yes\n",
            "f      Cranes  3.0       4       no\n",
            "c     plovers  1.5       3       no\n",
            "h      Cranes  NaN       2      yes\n",
            "d  spoonbills  NaN       4      yes\n"
          ],
          "name": "stdout"
        }
      ]
    },
    {
      "cell_type": "markdown",
      "metadata": {
        "id": "EnE3E7cbMigZ"
      },
      "source": [
        "# Problem 15 : \n",
        "**Replace the priority column values with ’yes’ should be 1 and ‘no’ should be 0**"
      ]
    },
    {
      "cell_type": "code",
      "metadata": {
        "colab": {
          "base_uri": "https://localhost:8080/"
        },
        "id": "5qqrOQgs7tPz",
        "outputId": "b7b40a7e-5da2-456a-b57c-5ff3b1304c4d"
      },
      "source": [
        "# Replace the priority column values with' yes' should be 1 and 'no' should be 0\n",
        "\n",
        "print('After Replacing the priority column values \\'yes\\' with 1 and \\'no\\' with 0 :- \\n')\n",
        "Birds.priority = Birds.priority.replace(['yes','no'],[1, 0])\n",
        "print(Birds)"
      ],
      "execution_count": null,
      "outputs": [
        {
          "output_type": "stream",
          "text": [
            "After Replacing the priority column values 'yes' with 1 and 'no' with 0 :- \n",
            "\n",
            "        birds  age  visits  priority\n",
            "a      Cranes  3.5       2         1\n",
            "b      Cranes  4.0       4         1\n",
            "c     plovers  1.5       3         0\n",
            "d  spoonbills  NaN       4         1\n",
            "e  spoonbills  6.0       3         0\n",
            "f      Cranes  3.0       4         0\n",
            "g     plovers  5.5       2         0\n",
            "h      Cranes  NaN       2         1\n",
            "i  spoonbills  8.0       3         0\n",
            "j  spoonbills  4.0       2         0\n"
          ],
          "name": "stdout"
        }
      ]
    },
    {
      "cell_type": "markdown",
      "metadata": {
        "id": "4fCuT8sEMizq"
      },
      "source": [
        "# Problem 16 : \n",
        "**In the 'birds' column, change the 'Cranes' entries to 'trumpeters'**"
      ]
    },
    {
      "cell_type": "code",
      "metadata": {
        "colab": {
          "base_uri": "https://localhost:8080/"
        },
        "id": "-IiSf8k--w2B",
        "outputId": "d641f764-ec8a-4094-e6cc-fdaed94f2ae3"
      },
      "source": [
        "# In the 'birds' column, change the 'Cranes' entries to 'trumpeters'\n",
        "\n",
        "print('In the \\'birds\\' column, changing the \\'Cranes\\' entries to \\'trumpeters\\' :- \\n')\n",
        "Birds.birds = Birds.birds.replace(['Cranes'],'trumpeters')\n",
        "print(Birds)"
      ],
      "execution_count": null,
      "outputs": [
        {
          "output_type": "stream",
          "text": [
            "In the 'birds' column, changing the 'Cranes' entries to 'trumpeters' :- \n",
            "\n",
            "        birds  age  visits  priority\n",
            "a  trumpeters  3.5       2         1\n",
            "b  trumpeters  4.0       4         1\n",
            "c     plovers  1.5       3         0\n",
            "d  spoonbills  NaN       4         1\n",
            "e  spoonbills  6.0       3         0\n",
            "f  trumpeters  3.0       4         0\n",
            "g     plovers  5.5       2         0\n",
            "h  trumpeters  NaN       2         1\n",
            "i  spoonbills  8.0       3         0\n",
            "j  spoonbills  4.0       2         0\n"
          ],
          "name": "stdout"
        }
      ]
    }
  ]
}