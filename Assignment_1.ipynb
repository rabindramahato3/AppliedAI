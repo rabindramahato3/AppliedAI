{
  "nbformat": 4,
  "nbformat_minor": 0,
  "metadata": {
    "colab": {
      "name": "Assignment-1.ipynb",
      "provenance": [],
      "collapsed_sections": [],
      "toc_visible": true,
      "authorship_tag": "ABX9TyNjCbOXGaSHgrt0zCc7LtR2",
      "include_colab_link": true
    },
    "kernelspec": {
      "name": "python3",
      "display_name": "Python 3"
    },
    "language_info": {
      "name": "python"
    }
  },
  "cells": [
    {
      "cell_type": "markdown",
      "metadata": {
        "id": "view-in-github",
        "colab_type": "text"
      },
      "source": [
        "<a href=\"https://colab.research.google.com/github/rabindramahato3/AppliedAI/blob/main/Assignment_1.ipynb\" target=\"_parent\"><img src=\"https://colab.research.google.com/assets/colab-badge.svg\" alt=\"Open In Colab\"/></a>"
      ]
    },
    {
      "cell_type": "markdown",
      "metadata": {
        "id": "21g-Kzyo9n4R"
      },
      "source": [
        "# Assignment-1: Data Visualization with Haberman Dataset"
      ]
    },
    {
      "cell_type": "code",
      "metadata": {
        "id": "qAwu0Dc79a2i",
        "colab": {
          "base_uri": "https://localhost:8080/",
          "height": 128
        },
        "outputId": "71ffb148-26cc-46f6-abe6-ed5a89623590"
      },
      "source": [
        "# Assignment-1: Data Visualization with Haberman Dataset\n",
        "\n",
        "# importing required tools\n",
        "import pandas as pd\n",
        "import seaborn as sns\n",
        "import matplotlib.pyplot as plt\n",
        "import numpy as np\n",
        "\n",
        "# loading dataset\n",
        "haberman = pd.read_csv('C:\\Users\\drkdr\\Desktop\\ML\\haberman.csv')\n",
        "haberman"
      ],
      "execution_count": 1,
      "outputs": [
        {
          "output_type": "error",
          "ename": "SyntaxError",
          "evalue": "ignored",
          "traceback": [
            "\u001b[0;36m  File \u001b[0;32m\"<ipython-input-1-a7b7a20d27e4>\"\u001b[0;36m, line \u001b[0;32m10\u001b[0m\n\u001b[0;31m    haberman = pd.read_csv('C:\\Users\\drkdr\\Desktop\\ML\\haberman.csv')\u001b[0m\n\u001b[0m                          ^\u001b[0m\n\u001b[0;31mSyntaxError\u001b[0m\u001b[0;31m:\u001b[0m (unicode error) 'unicodeescape' codec can't decode bytes in position 2-3: truncated \\UXXXXXXXX escape\n"
          ]
        }
      ]
    }
  ]
}